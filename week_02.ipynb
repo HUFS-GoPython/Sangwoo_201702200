{
 "cells": [
  {
   "cell_type": "markdown",
   "id": "5585ddba",
   "metadata": {},
   "source": [
    "## Variable"
   ]
  },
  {
   "cell_type": "markdown",
   "id": "d2e7a713",
   "metadata": {},
   "source": [
    "- string (문자열)\n",
    "- float (실수)\n",
    "- integer (정수)\n",
    "- boolean (True or False)"
   ]
  },
  {
   "cell_type": "code",
   "execution_count": 1,
   "id": "1cafc35d",
   "metadata": {},
   "outputs": [
    {
     "data": {
      "text/plain": [
       "2"
      ]
     },
     "execution_count": 1,
     "metadata": {},
     "output_type": "execute_result"
    }
   ],
   "source": [
    "# 서로 다른 이름을 가진 변수들에 동시에 할당이 가능하다.\n",
    "\n",
    "two = deux = dos = 2 \n",
    "# dos -> duex -> two 순서대로 할당된다.\n",
    "\n",
    "two"
   ]
  },
  {
   "cell_type": "code",
   "execution_count": 3,
   "id": "fc16e6e5",
   "metadata": {},
   "outputs": [
    {
     "name": "stdout",
     "output_type": "stream",
     "text": [
      "4 2\n"
     ]
    }
   ],
   "source": [
    "# two를 4로 바꾼다면 다른 변수들은?\n",
    "\n",
    "two = 4\n",
    "print(two, deux)"
   ]
  },
  {
   "cell_type": "code",
   "execution_count": 2,
   "id": "7d82b0b4",
   "metadata": {},
   "outputs": [
    {
     "data": {
      "text/plain": [
       "(1359827659088, 1359827659088)"
      ]
     },
     "execution_count": 2,
     "metadata": {},
     "output_type": "execute_result"
    }
   ],
   "source": [
    "# int는 불변객체이므로 값이 변하지 않는다.\n",
    "\n",
    "id(two), id(deux) \n",
    "# 하지만 id는 변한다 \n",
    "# id는 변수가 저장된 메모리 주소를 찾는 함수이다. id의 값은 때에 따라 다르고 컴퓨터에 따라 다르다."
   ]
  },
  {
   "cell_type": "code",
   "execution_count": 5,
   "id": "49cf3ab2",
   "metadata": {},
   "outputs": [
    {
     "data": {
      "text/plain": [
       "([1, 2, 3], [1, 2, 3])"
      ]
     },
     "execution_count": 5,
     "metadata": {},
     "output_type": "execute_result"
    }
   ],
   "source": [
    "p = [1, 2, 3] #리스트\n",
    "q = p\n",
    "p, q"
   ]
  },
  {
   "cell_type": "code",
   "execution_count": 6,
   "id": "2b73470b",
   "metadata": {
    "scrolled": true
   },
   "outputs": [
    {
     "data": {
      "text/plain": [
       "(1359907878848, 1359907878848)"
      ]
     },
     "execution_count": 6,
     "metadata": {},
     "output_type": "execute_result"
    }
   ],
   "source": [
    "id(p), id(q) #리스트의 아이디는 서로 같다."
   ]
  },
  {
   "cell_type": "code",
   "execution_count": 7,
   "id": "0b1cd331",
   "metadata": {},
   "outputs": [
    {
     "data": {
      "text/plain": [
       "([9, 2, 3], [9, 2, 3])"
      ]
     },
     "execution_count": 7,
     "metadata": {},
     "output_type": "execute_result"
    }
   ],
   "source": [
    "p[0] = 9\n",
    "p, q\n",
    "\n",
    "# 리스트는 가변객체\n",
    "# p의 값만 바꿨는데 q의 값도 바뀐다."
   ]
  },
  {
   "cell_type": "code",
   "execution_count": 8,
   "id": "cb90340b",
   "metadata": {},
   "outputs": [
    {
     "data": {
      "text/plain": [
       "(1359907878848, 1359907878848)"
      ]
     },
     "execution_count": 8,
     "metadata": {},
     "output_type": "execute_result"
    }
   ],
   "source": [
    "id(p), id(q)\n",
    "# 리스트의 id는 그대로"
   ]
  },
  {
   "cell_type": "markdown",
   "id": "52f61b04",
   "metadata": {},
   "source": [
    "#### 좋은 변수명\n",
    "- 간결하고 명확한 이름\n",
    "- 의미가 있어야 한다. (안좋은 예: a, b, n, ...) \n",
    "- 코드에는 의미가 담기고 주석에는 의도가 담긴다\n",
    "    - ex)\n",
    "    n, the_number_of_students, num_students의 순서로 좋은 변수명이라고 볼 수 있다. \n",
    "    - 언더바를 사용하는 변수의 표기 (num_students)는 주로 파이썬에서 사용\n",
    "    - 카멜표기법 (numStudents)은 주로 자바에서 사용"
   ]
  },
  {
   "cell_type": "markdown",
   "id": "00ae49d7",
   "metadata": {},
   "source": [
    "### 자료형 변환, 형 변환\n",
    "- str(<변환할 값>), int(), float(), bool() "
   ]
  },
  {
   "cell_type": "code",
   "execution_count": 10,
   "id": "c99f2cbe",
   "metadata": {},
   "outputs": [
    {
     "data": {
      "text/plain": [
       "'10'"
      ]
     },
     "execution_count": 10,
     "metadata": {},
     "output_type": "execute_result"
    }
   ],
   "source": [
    "a = 10\n",
    "\n",
    "#str\n",
    "str(a)"
   ]
  },
  {
   "cell_type": "code",
   "execution_count": 11,
   "id": "84a72078",
   "metadata": {},
   "outputs": [
    {
     "data": {
      "text/plain": [
       "10.0"
      ]
     },
     "execution_count": 11,
     "metadata": {},
     "output_type": "execute_result"
    }
   ],
   "source": [
    "#float\n",
    "float(a)"
   ]
  },
  {
   "cell_type": "code",
   "execution_count": 12,
   "id": "cb059702",
   "metadata": {},
   "outputs": [
    {
     "data": {
      "text/plain": [
       "True"
      ]
     },
     "execution_count": 12,
     "metadata": {},
     "output_type": "execute_result"
    }
   ],
   "source": [
    "#bool\n",
    "bool(a) "
   ]
  },
  {
   "cell_type": "markdown",
   "id": "e1fe048b",
   "metadata": {},
   "source": [
    "형 변환할 때 주의할 점 1) float -> int"
   ]
  },
  {
   "cell_type": "code",
   "execution_count": 13,
   "id": "3735bed1",
   "metadata": {},
   "outputs": [
    {
     "data": {
      "text/plain": [
       "10"
      ]
     },
     "execution_count": 13,
     "metadata": {},
     "output_type": "execute_result"
    }
   ],
   "source": [
    "x = 10.7 # 소수점 내림\n",
    "int(x)"
   ]
  },
  {
   "cell_type": "code",
   "execution_count": 14,
   "id": "c56fc8e5",
   "metadata": {},
   "outputs": [
    {
     "name": "stdout",
     "output_type": "stream",
     "text": [
      "30\n",
      "29\n"
     ]
    }
   ],
   "source": [
    "y = 19.8 # 변수와 연산기호 사이에 공백 두기\n",
    "\n",
    "print(int(x + y))\n",
    "print(int(x) + int(y))"
   ]
  },
  {
   "cell_type": "markdown",
   "id": "ee9057a5",
   "metadata": {},
   "source": [
    "형 변환할 때 주의할 점 2) str -> int/float"
   ]
  },
  {
   "cell_type": "code",
   "execution_count": 15,
   "id": "7cca9e3c",
   "metadata": {},
   "outputs": [
    {
     "data": {
      "text/plain": [
       "10"
      ]
     },
     "execution_count": 15,
     "metadata": {},
     "output_type": "execute_result"
    }
   ],
   "source": [
    "i = '10'\n",
    "int(i)"
   ]
  },
  {
   "cell_type": "code",
   "execution_count": 16,
   "id": "e8e4f6ca",
   "metadata": {},
   "outputs": [
    {
     "data": {
      "text/plain": [
       "10.0"
      ]
     },
     "execution_count": 16,
     "metadata": {},
     "output_type": "execute_result"
    }
   ],
   "source": [
    "float(i)"
   ]
  },
  {
   "cell_type": "code",
   "execution_count": 17,
   "id": "eeac3ce1",
   "metadata": {},
   "outputs": [
    {
     "ename": "ValueError",
     "evalue": "invalid literal for int() with base 10: '10.7'",
     "output_type": "error",
     "traceback": [
      "\u001b[1;31m---------------------------------------------------------------------------\u001b[0m",
      "\u001b[1;31mValueError\u001b[0m                                Traceback (most recent call last)",
      "\u001b[1;32m~\\AppData\\Local\\Temp/ipykernel_18616/3340752388.py\u001b[0m in \u001b[0;36m<module>\u001b[1;34m\u001b[0m\n\u001b[0;32m      1\u001b[0m \u001b[0mj\u001b[0m \u001b[1;33m=\u001b[0m \u001b[1;34m'10.7'\u001b[0m \u001b[1;31m# float으로 바뀔 것으로 예상되는 문자열을 int로 바꾸면 에러가 난다.\u001b[0m\u001b[1;33m\u001b[0m\u001b[1;33m\u001b[0m\u001b[0m\n\u001b[1;32m----> 2\u001b[1;33m \u001b[0mint\u001b[0m\u001b[1;33m(\u001b[0m\u001b[0mj\u001b[0m\u001b[1;33m)\u001b[0m\u001b[1;33m\u001b[0m\u001b[1;33m\u001b[0m\u001b[0m\n\u001b[0m",
      "\u001b[1;31mValueError\u001b[0m: invalid literal for int() with base 10: '10.7'"
     ]
    }
   ],
   "source": [
    "j = '10.7' # float으로 바뀔 것으로 예상되는 문자열을 int로 바꾸면 에러가 난다.\n",
    "int(j)"
   ]
  },
  {
   "cell_type": "markdown",
   "id": "34d740e6",
   "metadata": {},
   "source": [
    "### 'print()' 함수 "
   ]
  },
  {
   "cell_type": "code",
   "execution_count": 18,
   "id": "a122e3b5",
   "metadata": {},
   "outputs": [
    {
     "name": "stdout",
     "output_type": "stream",
     "text": [
      "dogcatlion\n"
     ]
    }
   ],
   "source": [
    "dog = 'dog'\n",
    "cat = 'cat'\n",
    "lion = 'lion'\n",
    "\n",
    "print(dog + cat + lion) # 변수들 사이에 +를 사용하면 공백이 생기지 않는다"
   ]
  },
  {
   "cell_type": "code",
   "execution_count": 19,
   "id": "6f4eb3c1",
   "metadata": {},
   "outputs": [
    {
     "name": "stdout",
     "output_type": "stream",
     "text": [
      "dog cat lion\n"
     ]
    }
   ],
   "source": [
    "print(dog, cat, lion) # 변수들 사이에 ,를 사용하면 공백이 생긴다"
   ]
  },
  {
   "cell_type": "code",
   "execution_count": 20,
   "id": "30069d33",
   "metadata": {},
   "outputs": [
    {
     "name": "stdout",
     "output_type": "stream",
     "text": [
      "dog cat lion\n",
      "dog/cat/lion\n",
      "\n",
      "EOL\n"
     ]
    }
   ],
   "source": [
    " # print(, sep=' ', end='\\n') # argument안에서는 =기호를 띄어쓰기 없이 붙여쓰기도 한다\n",
    "print(dog, cat, lion, sep=' ', end='\\n') #print() 함수의 default 값이다\n",
    "print(dog, cat, lion, sep='/', end='\\n\\n')\n",
    "print('EOL')"
   ]
  },
  {
   "cell_type": "code",
   "execution_count": 21,
   "id": "cbeec6f2",
   "metadata": {},
   "outputs": [
    {
     "name": "stdout",
     "output_type": "stream",
     "text": [
      "My favorite animal is  dog\n",
      "My favorite animal is dog.\n"
     ]
    }
   ],
   "source": [
    "#1.\n",
    "print(\"My favorite animal is \", dog)\n",
    "\n",
    "#2. \n",
    "print(f\"My favorite animal is {dog}.\") #마무리 .을 찍는 수고를 덜어준다. {} 안이 변수이고 그 외는 문자열이다."
   ]
  },
  {
   "cell_type": "markdown",
   "id": "34d9be77",
   "metadata": {},
   "source": [
    "코드 줄이 짧을 때 ;(semicolon)을 이용해 한 줄로 쓸 수 있다."
   ]
  },
  {
   "cell_type": "code",
   "execution_count": 22,
   "id": "2b6a6f0e",
   "metadata": {},
   "outputs": [
    {
     "name": "stdout",
     "output_type": "stream",
     "text": [
      "dog\n"
     ]
    }
   ],
   "source": [
    "dog = 'dog'; cat = 'cat'; lion = 'lion'\n",
    "print(dog)"
   ]
  },
  {
   "cell_type": "markdown",
   "id": "5831db84",
   "metadata": {},
   "source": [
    "### 'input()' 함수\n",
    "- console에서 사용자가 입력하는 값을 받을 수 있는 함수\n",
    "- 입력 받는 값은 문자열로 인식이 된다.\n",
    "- 입력 받은 값을 변수에 담아서 사용한다. 그렇지 않으면 사라진다.\n",
    "- 숫자일 경우 계산에 사용하기 위해 형 변환 한다."
   ]
  },
  {
   "cell_type": "code",
   "execution_count": 23,
   "id": "7facd03d",
   "metadata": {},
   "outputs": [
    {
     "name": "stdout",
     "output_type": "stream",
     "text": [
      "Hello?Hello\n"
     ]
    },
    {
     "data": {
      "text/plain": [
       "'Hello'"
      ]
     },
     "execution_count": 23,
     "metadata": {},
     "output_type": "execute_result"
    }
   ],
   "source": [
    "input('Hello?')"
   ]
  },
  {
   "cell_type": "code",
   "execution_count": 24,
   "id": "ea021c8d",
   "metadata": {},
   "outputs": [
    {
     "name": "stdout",
     "output_type": "stream",
     "text": [
      "나이가 어떻게 되나요?25\n"
     ]
    },
    {
     "data": {
      "text/plain": [
       "'25'"
      ]
     },
     "execution_count": 24,
     "metadata": {},
     "output_type": "execute_result"
    }
   ],
   "source": [
    "input('나이가 어떻게 되나요?')"
   ]
  },
  {
   "cell_type": "code",
   "execution_count": 25,
   "id": "7b4f2745",
   "metadata": {},
   "outputs": [
    {
     "name": "stdout",
     "output_type": "stream",
     "text": [
      "나이가 어떻게 되나요?25\n"
     ]
    },
    {
     "data": {
      "text/plain": [
       "25"
      ]
     },
     "execution_count": 25,
     "metadata": {},
     "output_type": "execute_result"
    }
   ],
   "source": [
    "int(input('나이가 어떻게 되나요?')) # 입력받은 값을 연산에 사용하기 위해서는 형변환이 필요하다"
   ]
  },
  {
   "cell_type": "markdown",
   "id": "2deeaad8",
   "metadata": {},
   "source": [
    "- 입력 받은 값을 변수에 할당하는 방법"
   ]
  },
  {
   "cell_type": "code",
   "execution_count": 26,
   "id": "b08f9799",
   "metadata": {},
   "outputs": [
    {
     "name": "stdout",
     "output_type": "stream",
     "text": [
      "나이가 어떻게 되나요?25\n"
     ]
    }
   ],
   "source": [
    "#1.\n",
    "age = input('나이가 어떻게 되나요?') # 변수에 바로 입력 값을 받기"
   ]
  },
  {
   "cell_type": "code",
   "execution_count": 27,
   "id": "4b5512ad",
   "metadata": {},
   "outputs": [
    {
     "data": {
      "text/plain": [
       "'25'"
      ]
     },
     "execution_count": 27,
     "metadata": {},
     "output_type": "execute_result"
    }
   ],
   "source": [
    "age"
   ]
  },
  {
   "cell_type": "code",
   "execution_count": 28,
   "id": "d3fbbda7",
   "metadata": {},
   "outputs": [
    {
     "name": "stdout",
     "output_type": "stream",
     "text": [
      "나이가?\n",
      "25\n"
     ]
    }
   ],
   "source": [
    "#2.\n",
    "print('나이가?')\n",
    "age = input() # print와 input을 분리"
   ]
  },
  {
   "cell_type": "code",
   "execution_count": 29,
   "id": "b99ffff8",
   "metadata": {},
   "outputs": [
    {
     "data": {
      "text/plain": [
       "'25'"
      ]
     },
     "execution_count": 29,
     "metadata": {},
     "output_type": "execute_result"
    }
   ],
   "source": [
    "age"
   ]
  },
  {
   "cell_type": "markdown",
   "id": "adfd8c71",
   "metadata": {},
   "source": [
    "#### Quiz 1\n",
    "- 섭씨를 입력받아서 화씨로 변환하기\n",
    "- 섭씨 * 1.8 + 32 = 화씨"
   ]
  },
  {
   "cell_type": "code",
   "execution_count": 30,
   "id": "9cecd312",
   "metadata": {},
   "outputs": [
    {
     "name": "stdout",
     "output_type": "stream",
     "text": [
      "현재 섭씨 온도가 몇인가요?18\n"
     ]
    }
   ],
   "source": [
    "celsius = float(input('현재 섭씨 온도가 몇인가요?')) # 변수 알아보기 쉽게 작성하기, 온도는 소수점이 있으니 float"
   ]
  },
  {
   "cell_type": "code",
   "execution_count": 31,
   "id": "f8e2b8bb",
   "metadata": {},
   "outputs": [
    {
     "name": "stdout",
     "output_type": "stream",
     "text": [
      "현재 화씨 온도는 64.4도 입니다.\n"
     ]
    }
   ],
   "source": [
    "fahrenheit = celsius * 1.8 + 32\n",
    "print(f'현재 화씨 온도는 {fahrenheit}도 입니다.')"
   ]
  },
  {
   "cell_type": "markdown",
   "id": "eff79f86",
   "metadata": {},
   "source": [
    "### Quiz 2\n",
    "- 택배 정보 입력 받고, 총 합계 계산하기\n",
    "- 출력값:\n",
    "    - '==택배 정보=='\n",
    "    - 수취인 성명: <이름>\n",
    "    - 수취인 주소: <주소>\n",
    "    - 배송비: 3000원\n",
    "    - 물건 비용: <가격>원\n",
    "    - 총 합계: <가격>원\n",
    "- 물건 비용 = 무게(g) * 5\n",
    "- 합계 = 배송비 + 물건 비용"
   ]
  },
  {
   "cell_type": "code",
   "execution_count": 32,
   "id": "98a2dbd7",
   "metadata": {},
   "outputs": [
    {
     "name": "stdout",
     "output_type": "stream",
     "text": [
      "이름을 입력해주세요: 용상우\n",
      "주소를 입력해주세요: 서울시\n",
      "물건의 무게를 입력해주세요(단위:g): 500\n",
      "==택배 정보==\n",
      "수취인 성명: 용상우\n",
      "수취인 주소: 서울시\n",
      "배송비: 3000원\n",
      "물건 비용: 2500.0원\n",
      "총 합계: 5500.0원\n"
     ]
    }
   ],
   "source": [
    "name = input('이름을 입력해주세요: ')\n",
    "address = input('주소를 입력해주세요: ')\n",
    "weight = float(input('물건의 무게를 입력해주세요(단위:g): '))\n",
    "delivery_fee = 3000\n",
    "price = weight * 5\n",
    "\n",
    "print('==택배 정보==')\n",
    "print(f'수취인 성명: {name}')\n",
    "print(f'수취인 주소: {address}')\n",
    "print(f'배송비: {delivery_fee}원')\n",
    "print(f'물건 비용: {price}원')\n",
    "print(f'총 합계: {price + delivery_fee}원')"
   ]
  },
  {
   "cell_type": "markdown",
   "id": "ca32492e",
   "metadata": {},
   "source": [
    "### Numbers"
   ]
  },
  {
   "cell_type": "markdown",
   "id": "054f916e",
   "metadata": {},
   "source": [
    "#### boolean\n",
    "- 형 변환할 때 True, False인지 기억하기\n",
    "    - False인 값: ' ', None, 0, ...\n",
    "- 조건식에서 많이 쓴다. 예 : 만약 이 조건이 True라면, ..."
   ]
  },
  {
   "cell_type": "code",
   "execution_count": 33,
   "id": "4bb35fcc",
   "metadata": {},
   "outputs": [
    {
     "data": {
      "text/plain": [
       "True"
      ]
     },
     "execution_count": 33,
     "metadata": {},
     "output_type": "execute_result"
    }
   ],
   "source": [
    "bool(1)"
   ]
  },
  {
   "cell_type": "code",
   "execution_count": 34,
   "id": "408b07a4",
   "metadata": {},
   "outputs": [
    {
     "data": {
      "text/plain": [
       "False"
      ]
     },
     "execution_count": 34,
     "metadata": {},
     "output_type": "execute_result"
    }
   ],
   "source": [
    "bool('')"
   ]
  },
  {
   "cell_type": "markdown",
   "id": "b2cfac9b",
   "metadata": {},
   "source": [
    "#### integer\n",
    "- 소수점이 없다\n",
    "- 양수가 default, 음수는 앞에 -를 붙인다\n",
    "- 숫자 앞에는 0을 붙일 수 없다. 예: 05\n",
    "    - 예외적으로 0bxxx, -> 10진수 이외의 다른 진수를 표현할때는 가능하다\n",
    "- Literal한 특징이 있다\n",
    "- 중간에 공백이 많아도 무시가 된다\n",
    "- 10,000원 -> 10과 000원 두개로 인식 -> _를 사용\n",
    "    - 예: 10_000"
   ]
  },
  {
   "cell_type": "code",
   "execution_count": 35,
   "id": "335bf308",
   "metadata": {},
   "outputs": [
    {
     "data": {
      "text/plain": [
       "-1"
      ]
     },
     "execution_count": 35,
     "metadata": {},
     "output_type": "execute_result"
    }
   ],
   "source": [
    "a = -9 #음수\n",
    "8 + a"
   ]
  },
  {
   "cell_type": "code",
   "execution_count": 36,
   "id": "5e4e2af0",
   "metadata": {},
   "outputs": [
    {
     "ename": "SyntaxError",
     "evalue": "leading zeros in decimal integer literals are not permitted; use an 0o prefix for octal integers (Temp/ipykernel_18616/3510709600.py, line 1)",
     "output_type": "error",
     "traceback": [
      "\u001b[1;36m  File \u001b[1;32m\"C:\\Users\\utano\\AppData\\Local\\Temp/ipykernel_18616/3510709600.py\"\u001b[1;36m, line \u001b[1;32m1\u001b[0m\n\u001b[1;33m    a = 09 # 숫자 앞에 0 붙이기 불가\u001b[0m\n\u001b[1;37m         ^\u001b[0m\n\u001b[1;31mSyntaxError\u001b[0m\u001b[1;31m:\u001b[0m leading zeros in decimal integer literals are not permitted; use an 0o prefix for octal integers\n"
     ]
    }
   ],
   "source": [
    "a = 09 # 숫자 앞에 0 붙이기 불가"
   ]
  },
  {
   "cell_type": "code",
   "execution_count": 37,
   "id": "9c0a2236",
   "metadata": {},
   "outputs": [
    {
     "data": {
      "text/plain": [
       "-6"
      ]
     },
     "execution_count": 37,
     "metadata": {},
     "output_type": "execute_result"
    }
   ],
   "source": [
    "-9 + 8                     -5 # 중간에 공백이 많아도 무시하고 계산이 가능"
   ]
  },
  {
   "cell_type": "code",
   "execution_count": 38,
   "id": "e393f95a",
   "metadata": {},
   "outputs": [
    {
     "name": "stdout",
     "output_type": "stream",
     "text": [
      "10000\n"
     ]
    }
   ],
   "source": [
    "a = 10_000 # 숫자 사이에 있는 언더바는 무시\n",
    "print(a)"
   ]
  },
  {
   "cell_type": "markdown",
   "id": "7e771209",
   "metadata": {},
   "source": [
    "#### 연산\n",
    "- 연산자(operator): +, -, ...\n",
    "- 피연산자(operand): 연산이 되는 값들\n",
    "- 수식(expression)"
   ]
  },
  {
   "cell_type": "code",
   "execution_count": 39,
   "id": "56f7f57d",
   "metadata": {},
   "outputs": [
    {
     "data": {
      "text/plain": [
       "262144"
      ]
     },
     "execution_count": 39,
     "metadata": {},
     "output_type": "execute_result"
    }
   ],
   "source": [
    "x = 4\n",
    "y = 9\n",
    "\n",
    "x + y\n",
    "x - y\n",
    "x * y\n",
    "x / y\n",
    "\n",
    "# 거듭제곱(exponential)\n",
    "x ** y"
   ]
  },
  {
   "cell_type": "markdown",
   "id": "2b0e3392",
   "metadata": {},
   "source": [
    "나눗셈에서 주의할 사항"
   ]
  },
  {
   "cell_type": "code",
   "execution_count": 40,
   "id": "75469958",
   "metadata": {},
   "outputs": [
    {
     "data": {
      "text/plain": [
       "(0, 4)"
      ]
     },
     "execution_count": 40,
     "metadata": {},
     "output_type": "execute_result"
    }
   ],
   "source": [
    "#1. division by zero, 0으로 나눌 수 없다 (y!=0)\n",
    "#2. 몫, 나머지\n",
    "x // y, x % y"
   ]
  },
  {
   "cell_type": "code",
   "execution_count": 41,
   "id": "a8eca08a",
   "metadata": {},
   "outputs": [
    {
     "data": {
      "text/plain": [
       "(0, 4)"
      ]
     },
     "execution_count": 41,
     "metadata": {},
     "output_type": "execute_result"
    }
   ],
   "source": [
    "divmod(x, y) # 몫과 나머지를 구하는 함수"
   ]
  },
  {
   "cell_type": "markdown",
   "id": "54e4ffd9",
   "metadata": {},
   "source": [
    "#### 복합 대입연산자(compound assignment operator)"
   ]
  },
  {
   "cell_type": "code",
   "execution_count": 42,
   "id": "208e1d2f",
   "metadata": {},
   "outputs": [
    {
     "name": "stdout",
     "output_type": "stream",
     "text": [
      "5\n"
     ]
    }
   ],
   "source": [
    "a = 5\n",
    "a - 3\n",
    "print(a) # int는 불변이여서 변하지 않음"
   ]
  },
  {
   "cell_type": "code",
   "execution_count": 43,
   "id": "49c0bba0",
   "metadata": {},
   "outputs": [],
   "source": [
    "a = a - 3\n",
    "#1. a - 3 계산\n",
    "#2. 임시변수 temp에 a - 3을 할당\n",
    "#3. a에 a - 3을 할당\n",
    "\n",
    "a -= 3 # 위의 세가지 스텝을 줄인 것이 복합 대입연산자"
   ]
  },
  {
   "cell_type": "code",
   "execution_count": 44,
   "id": "da3e3344",
   "metadata": {},
   "outputs": [],
   "source": [
    "a += 3\n",
    "a -= 3\n",
    "a *= 3\n",
    "a /= 3 # 복합 대입연사자를 사용하기 전에 변수의 값은 초기화를 시켜야 한다."
   ]
  },
  {
   "cell_type": "markdown",
   "id": "492c7e10",
   "metadata": {},
   "source": [
    "### Quiz 3.\n",
    "- 정수를 입력 받고 3의 배수인지 확인하세요.\n",
    "- 정수를 입력 받고 홀수인지 확인하세요."
   ]
  },
  {
   "cell_type": "code",
   "execution_count": 45,
   "id": "b7c499ab",
   "metadata": {
    "scrolled": true
   },
   "outputs": [
    {
     "name": "stdout",
     "output_type": "stream",
     "text": [
      "정수를 입력해주세요: 8\n",
      "3의 배수가 아닙니다.\n",
      "홀수가 아닙니다.\n"
     ]
    }
   ],
   "source": [
    "# 조건문 활용\n",
    "num = int(input('정수를 입력해주세요: '))\n",
    "\n",
    "if num % 3 == 0:\n",
    "    print('3의 배수입니다.')\n",
    "else:\n",
    "    print('3의 배수가 아닙니다.')\n",
    "    \n",
    "if num % 2 == 1:\n",
    "    print('홀수입니다.')\n",
    "else:\n",
    "    print('홀수가 아닙니다.')"
   ]
  },
  {
   "cell_type": "code",
   "execution_count": 47,
   "id": "dfd4de7a",
   "metadata": {},
   "outputs": [
    {
     "name": "stdout",
     "output_type": "stream",
     "text": [
      "정수를 입력해주세요: 8\n",
      "True\n",
      "False\n"
     ]
    }
   ],
   "source": [
    "# bool 활용\n",
    "num = int(input('정수를 입력해주세요: '))\n",
    "\n",
    "print(bool(num % 3)) # 3의 배수 판별\n",
    "\n",
    "print(bool(num % 2)) # 홀수 판별\n"
   ]
  },
  {
   "cell_type": "markdown",
   "id": "9fc48f0a",
   "metadata": {},
   "source": [
    "#### 지수 표현\n",
    "- e, E 둘다 가능\n",
    "- 앞부분은 float, int \n",
    "- 뒷부분은 int만\n",
    "    - 양수면 0 앞으로\n",
    "    - 음수면 0 뒤로 (소수점)"
   ]
  },
  {
   "cell_type": "code",
   "execution_count": 48,
   "id": "5f281393",
   "metadata": {},
   "outputs": [
    {
     "data": {
      "text/plain": [
       "1000000.0"
      ]
     },
     "execution_count": 48,
     "metadata": {},
     "output_type": "execute_result"
    }
   ],
   "source": [
    "1.0e6 # float"
   ]
  },
  {
   "cell_type": "code",
   "execution_count": 49,
   "id": "ffa319ce",
   "metadata": {},
   "outputs": [
    {
     "data": {
      "text/plain": [
       "0.000789"
      ]
     },
     "execution_count": 49,
     "metadata": {},
     "output_type": "execute_result"
    }
   ],
   "source": [
    "# 0.000789 -> 지수표현\n",
    "789e-6"
   ]
  },
  {
   "cell_type": "markdown",
   "id": "f4d88a13",
   "metadata": {},
   "source": [
    "### 조건문, if\n",
    "- code structure 중요!"
   ]
  },
  {
   "cell_type": "markdown",
   "id": "33ebc37d",
   "metadata": {},
   "source": [
    "### 코드 짜는 룰\n",
    "- 주석 다는 법\n",
    "    - 주석은 코드를 설명하는 부분\n",
    "    - 주석의 목적은 코드의 의도를 표현하고 협업할 때 의사소통하기 위함이다\n",
    "    - '#' hash, sharp, ...\n",
    "    - hash가 시작되는 부분부터 그 라인의 끝까지가 주석\n",
    "    - 문자열 안에 있는 hash는 문자열로 인식\n",
    "    - 여러 줄 주석을 쓰고 싶으면 \"\"\"<주석>\"\"\"\n",
    "\n",
    "\n",
    "- 라인 유지하기\n",
    "    - 들여쓰기, 공백 4개, 탭 1개\n",
    "    - 한 줄에 최대 80자 넘지 않게\n",
    "    - 만약 80자가 넘을 경우, 백슬래시로 끊어준다"
   ]
  },
  {
   "cell_type": "code",
   "execution_count": 50,
   "id": "69f71a89",
   "metadata": {},
   "outputs": [],
   "source": [
    "a = 3 # 주석 끝\n",
    "b = 2"
   ]
  },
  {
   "cell_type": "code",
   "execution_count": 51,
   "id": "5fd17e44",
   "metadata": {},
   "outputs": [
    {
     "name": "stdout",
     "output_type": "stream",
     "text": [
      "hey ###\n"
     ]
    },
    {
     "data": {
      "text/plain": [
       "'\\n주석1\\n주석2\\n주석3\\n'"
      ]
     },
     "execution_count": 51,
     "metadata": {},
     "output_type": "execute_result"
    }
   ],
   "source": [
    "example = 'hey ###'\n",
    "print(example)\n",
    "\n",
    "\"\"\"\n",
    "주석1\n",
    "주석2\n",
    "주석3\n",
    "\"\"\""
   ]
  },
  {
   "cell_type": "markdown",
   "id": "b6d86181",
   "metadata": {},
   "source": [
    "- 조건 1개\n",
    "\n",
    "    if <조건식>:                # if 뒤에는 공백, :앞에는 공백 x\n",
    "    \n",
    "    <실행할 코드>"
   ]
  },
  {
   "cell_type": "code",
   "execution_count": 52,
   "id": "eecdd488",
   "metadata": {},
   "outputs": [
    {
     "name": "stdout",
     "output_type": "stream",
     "text": [
      "Yes\n"
     ]
    }
   ],
   "source": [
    "if 4 != 9:\n",
    "    print('Yes')"
   ]
  },
  {
   "cell_type": "markdown",
   "id": "48f7b163",
   "metadata": {},
   "source": [
    "- 조건 2개:\n",
    "    \n",
    "    if <조건식1>:\n",
    "        \n",
    "        <실행할 코드>\n",
    "     \n",
    "    else:\n",
    "        \n",
    "        <실행할 코드2>\n",
    "        "
   ]
  },
  {
   "cell_type": "code",
   "execution_count": 53,
   "id": "75566c20",
   "metadata": {},
   "outputs": [
    {
     "name": "stdout",
     "output_type": "stream",
     "text": [
      "No\n"
     ]
    }
   ],
   "source": [
    "if 4 == 9:\n",
    "    print('Yes')\n",
    "else:\n",
    "    print('No')"
   ]
  },
  {
   "cell_type": "markdown",
   "id": "929b2330",
   "metadata": {},
   "source": [
    "- 조건3개 이상:\n",
    "\n",
    "    if<조건식1>:\n",
    "        \n",
    "        <실행할 코드>\n",
    "        \n",
    "    elif<조건식2>:\n",
    "        \n",
    "        <실행할 코드3>\n",
    "        \n",
    "    ....\n",
    "    \n",
    "    else:\n",
    "        \n",
    "        <실행할 코드2>\n"
   ]
  },
  {
   "cell_type": "markdown",
   "id": "279a9aec",
   "metadata": {},
   "source": [
    "#### 비교연산자\n",
    "- x < y, x <= y\n",
    "- x > y, x >= y\n",
    "- x == y (값이 같다)\n",
    "- x != y (값이 다르다)\n",
    "- x is y (값, 메모리 주소 둘다 같다)\n",
    "- x is not y (값, 메모리 주소 둘다 다르다)\n"
   ]
  },
  {
   "cell_type": "markdown",
   "id": "e65ef0ea",
   "metadata": {},
   "source": [
    "### Quiz 4.\n",
    "- 학점 부여하기\n",
    "- 학점을 입력 받아서 \n",
    "    - 90점 이상이면 A\n",
    "    - 80점 이상이면 B\n",
    "    - 70점 이상이면 C\n",
    "    - 그 외는 D\n",
    "    \n",
    "- 변수 이름 설정 주의\n",
    "- f string 활용하기"
   ]
  },
  {
   "cell_type": "code",
   "execution_count": 65,
   "id": "a8aaa9d1",
   "metadata": {},
   "outputs": [
    {
     "name": "stdout",
     "output_type": "stream",
     "text": [
      "점수를 입력해주세요: 58\n",
      "D입니다.\n"
     ]
    }
   ],
   "source": [
    "score = float(input('점수를 입력해주세요: '))\n",
    "\n",
    "if score >= 90:\n",
    "    print('A입니다.')\n",
    "elif score >= 80:\n",
    "    print('B입니다.')\n",
    "elif score >= 70:\n",
    "    print('C입니다.')\n",
    "else:\n",
    "    print('D입니다.')"
   ]
  },
  {
   "cell_type": "code",
   "execution_count": 55,
   "id": "4bbf3ddc",
   "metadata": {},
   "outputs": [
    {
     "name": "stdout",
     "output_type": "stream",
     "text": [
      "점수를 입력해주세요: 58\n",
      "D입니다.\n"
     ]
    }
   ],
   "source": [
    "# print를 한번만 사용하는 방법\n",
    "\n",
    "score = float(input('점수를 입력해주세요: '))\n",
    "\n",
    "if score >= 90:\n",
    "    grade = 'A'\n",
    "elif score >= 80:\n",
    "    grade = 'B'\n",
    "elif score >= 70:\n",
    "    grade = 'C'\n",
    "else:\n",
    "    grade = 'D'\n",
    "    \n",
    "print(f'{grade}입니다.')"
   ]
  },
  {
   "cell_type": "markdown",
   "id": "ccfd6a1b",
   "metadata": {},
   "source": [
    "### Quiz 5.\n",
    "- 아이디와 비밀번호를 입력 받아서 둘다 일치하면 로그인 성공\n",
    "- 아이디와 비밀번호는 임의로 정하기\n",
    "- 아이디나 비밀번호가 일치하지 않으면 로그인 실패"
   ]
  },
  {
   "cell_type": "code",
   "execution_count": 74,
   "id": "fd8fc351",
   "metadata": {},
   "outputs": [
    {
     "name": "stdout",
     "output_type": "stream",
     "text": [
      "아이디를 입력해주세요: d\n",
      "비밀번호를 입력해주세요: d\n",
      "존재하지 않는 아이디입니다.\n"
     ]
    }
   ],
   "source": [
    "user_id = 'Yong' # id는 변수이름으로 사용하기에 적절하지 않음\n",
    "user_password = 123\n",
    "\n",
    "input_id = input('아이디를 입력해주세요: ')\n",
    "input_password = input('비밀번호를 입력해주세요: ')\n",
    "\n",
    "if input_id == user_id:\n",
    "    if input_password == user_password:\n",
    "        print('로그인 되었습니다.')\n",
    "    else:\n",
    "        print('비밀번호가 일치하지 않습니다.')\n",
    "else:\n",
    "    print('존재하지 않는 아이디입니다.')"
   ]
  },
  {
   "cell_type": "markdown",
   "id": "3a9330d5",
   "metadata": {},
   "source": [
    "#### 논리연산자\n",
    "- 여러 조건식을 비교할 때\n",
    "- 예: 10 < x < 20\n",
    "    - 파이썬에서만 가능한 표현\n",
    "    - x > 10 그리고 x < 20\n",
    "    \n",
    "    \n",
    "- and, & : 둘다 참일 때\n",
    "- or, | : 둘 중 하나만 참이여도 True\n",
    "- not : 참이면 False, 거짓이면 True"
   ]
  },
  {
   "cell_type": "markdown",
   "id": "a020cbbb",
   "metadata": {},
   "source": [
    "### Quiz 6.\n",
    "- Quiz 4 확장판\n",
    "- 결석 횟수를 받아서 점수가 80점 이상인데 결석이 2번 이상이면 F\n",
    "    - 논리 연산자 사용\n",
    "    - if문 추가 사용"
   ]
  },
  {
   "cell_type": "code",
   "execution_count": 57,
   "id": "a5900f28",
   "metadata": {},
   "outputs": [
    {
     "name": "stdout",
     "output_type": "stream",
     "text": [
      "점수를 입력해주세요: 58\n",
      "결석 횟수를 입력해주세요: 3\n",
      "D입니다.\n"
     ]
    }
   ],
   "source": [
    "# if문 추가 사용한 경우\n",
    "\n",
    "score = float(input('점수를 입력해주세요: '))\n",
    "absence = int(input('결석 횟수를 입력해주세요: '))\n",
    "\n",
    "if score >= 90:\n",
    "    print('A입니다.')\n",
    "elif score >= 80:\n",
    "    if absence >= 2:\n",
    "        print('F입니다.')\n",
    "    else:\n",
    "        print('B입니다.')\n",
    "elif score >= 70:\n",
    "    print('C입니다.')\n",
    "else:\n",
    "    print('D입니다.')"
   ]
  },
  {
   "cell_type": "code",
   "execution_count": 58,
   "id": "34db322e",
   "metadata": {},
   "outputs": [
    {
     "name": "stdout",
     "output_type": "stream",
     "text": [
      "점수를 입력해주세요: 58\n",
      "결석 횟수를 입력해주세요: 3\n",
      "D입니다.\n"
     ]
    }
   ],
   "source": [
    "# 논리 연산자 사용한 경우\n",
    "\n",
    "score = float(input('점수를 입력해주세요: '))\n",
    "absence = int(input('결석 횟수를 입력해주세요: '))\n",
    "\n",
    "if score >= 90:\n",
    "    print('A입니다.')\n",
    "elif score >= 80 and absence >= 2:\n",
    "        print('F입니다.')\n",
    "elif score >= 80:\n",
    "        print('B입니다.')\n",
    "elif score >= 70:\n",
    "    print('C입니다.')\n",
    "else:\n",
    "    print('D입니다.')"
   ]
  },
  {
   "cell_type": "code",
   "execution_count": null,
   "id": "3b40883a",
   "metadata": {},
   "outputs": [],
   "source": []
  }
 ],
 "metadata": {
  "kernelspec": {
   "display_name": "Python 3 (ipykernel)",
   "language": "python",
   "name": "python3"
  },
  "language_info": {
   "codemirror_mode": {
    "name": "ipython",
    "version": 3
   },
   "file_extension": ".py",
   "mimetype": "text/x-python",
   "name": "python",
   "nbconvert_exporter": "python",
   "pygments_lexer": "ipython3",
   "version": "3.9.7"
  }
 },
 "nbformat": 4,
 "nbformat_minor": 5
}
