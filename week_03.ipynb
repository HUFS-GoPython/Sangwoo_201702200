{
 "cells": [
  {
   "cell_type": "markdown",
   "id": "76e168e0",
   "metadata": {},
   "source": [
    "## 중첩조건문 (nested conditional)\n",
    "- if 블록 안에 또 if 블록이 만들어지는 경우 (조건문 안에 또 조건문이 있는 경우)\n",
    "    - 예: if ... \n",
    "            if ...\n",
    "                if...\n",
    "- 구분은 들여쓰기로 한다.\n",
    "- 조건이 여러개일 경우 사용한다.\n",
    "- 웬만하면 지양하는 편이 좋다.\n",
    "- 더 효율적이고 가독성이 좋은 코드를 찾아본다."
   ]
  },
  {
   "cell_type": "code",
   "execution_count": 1,
   "id": "6b8d2705",
   "metadata": {},
   "outputs": [
    {
     "name": "stdout",
     "output_type": "stream",
     "text": [
      "Block B\n"
     ]
    }
   ],
   "source": [
    "# 중첩 조건문은 가독성이 좋지 않다\n",
    "\n",
    "x = 0\n",
    "y = 4\n",
    "\n",
    "if x == y:\n",
    "    print('Block A')\n",
    "else:\n",
    "    if x < y:\n",
    "        print('Block B')\n",
    "    else:\n",
    "        print('Block C')"
   ]
  },
  {
   "cell_type": "code",
   "execution_count": 2,
   "id": "a1dc4e17",
   "metadata": {},
   "outputs": [
    {
     "name": "stdout",
     "output_type": "stream",
     "text": [
      "B\n"
     ]
    }
   ],
   "source": [
    "# elif를 사용하여 간단하게 작성할 수 있다\n",
    "\n",
    "if x == y:\n",
    "    print('A')\n",
    "elif x < y:\n",
    "    print('B')\n",
    "else:\n",
    "    print('C')"
   ]
  },
  {
   "cell_type": "code",
   "execution_count": 4,
   "id": "0c01b260",
   "metadata": {},
   "outputs": [
    {
     "name": "stdout",
     "output_type": "stream",
     "text": [
      "D\n"
     ]
    }
   ],
   "source": [
    "# 0 < x < 10의 조건이 주어진 경우\n",
    "\n",
    "if x > 0:\n",
    "    print('A')\n",
    "    if x < 10:\n",
    "        print('B')\n",
    "    else:\n",
    "        print('C')\n",
    "else:\n",
    "    print('D')"
   ]
  },
  {
   "cell_type": "code",
   "execution_count": 5,
   "id": "ff2d50d3",
   "metadata": {},
   "outputs": [
    {
     "name": "stdout",
     "output_type": "stream",
     "text": [
      "B\n",
      "B\n"
     ]
    }
   ],
   "source": [
    "# 논리연산자를 사용하는 방법\n",
    "\n",
    "if (x < 0) and (x > 10):\n",
    "    print('A')\n",
    "else:\n",
    "    print('B')\n",
    "    \n",
    "\n",
    "# 파이썬에서만 사용가능한 방법\n",
    "\n",
    "if 0 < x < 10:\n",
    "    print('A')\n",
    "else:\n",
    "    print('B')"
   ]
  },
  {
   "cell_type": "markdown",
   "id": "daab52ef",
   "metadata": {},
   "source": [
    "### 논리연산자\n",
    "- 비교연산 조건을 여러 번 사용하는 경우\n",
    "    \n",
    "- and, or, not\n",
    "    - A and B (A & B): A 그리고 B, A와 B 둘 다 참일 때 True\n",
    "    - A or B(A | B): A 혹은 B, 둘 중 하나만 참이면 True\n",
    "    - not A(~ A): A가 참이면 False, 거짓이면 True"
   ]
  },
  {
   "cell_type": "markdown",
   "id": "20d5917b",
   "metadata": {},
   "source": [
    "### True/False\n",
    "- '만약 A가 참이면, ...'"
   ]
  },
  {
   "cell_type": "code",
   "execution_count": 5,
   "id": "62e34d07",
   "metadata": {},
   "outputs": [
    {
     "name": "stdout",
     "output_type": "stream",
     "text": [
      "A\n",
      "A\n"
     ]
    }
   ],
   "source": [
    "a = True\n",
    "\n",
    "if a == True: # 굳이 이렇게 쓸 필요 없다\n",
    "    print('A')\n",
    "    \n",
    "if a: # if a == True와 같은 뜻\n",
    "    print('A')"
   ]
  },
  {
   "cell_type": "markdown",
   "id": "f8a3150d",
   "metadata": {},
   "source": [
    "### in\n",
    "- membership operator\n",
    "- 요소가 안에 포함되어 있는가\n",
    "    - ex) A in B = A가 B에 포함되어 있는가\n",
    "- 비슷한 조건문이 여럿일 때 in을 사용하여 간단하게 줄일 수 있다."
   ]
  },
  {
   "cell_type": "code",
   "execution_count": 6,
   "id": "1d33e6f4",
   "metadata": {},
   "outputs": [
    {
     "name": "stdout",
     "output_type": "stream",
     "text": [
      "자음\n"
     ]
    }
   ],
   "source": [
    "# 모음인지 아닌지 판별하라 (모음은 a, e, i, o, u)\n",
    "\n",
    "letter = 'k'\n",
    "\n",
    "# if letter == 'a' or letter == 'e' or ...\n",
    "if letter in ['a', 'e', 'i', 'o', 'u']: # 비슷한 조건문이 여럿일 때 in을 사용하여 간단하게 줄일 수 있다\n",
    "    print('모음')\n",
    "else:\n",
    "    print('자음')"
   ]
  },
  {
   "cell_type": "code",
   "execution_count": 7,
   "id": "b77aa9a1",
   "metadata": {},
   "outputs": [
    {
     "name": "stdout",
     "output_type": "stream",
     "text": [
      "모음이 있음\n"
     ]
    }
   ],
   "source": [
    "# 단어에 모음이 있는지 없는지 확인\n",
    "\n",
    "word = 'apple'\n",
    "\n",
    "if 'a' or 'e' or 'i' or 'o' or 'u' in word: # or을 사용하여 하나의 if문만 사용한다\n",
    "    print('모음이 있음')"
   ]
  },
  {
   "cell_type": "markdown",
   "id": "3ebc1c82",
   "metadata": {},
   "source": [
    "### 코끼리연산자\n",
    "- walrus operator\n",
    "- :=\n",
    "- 할당과 테스트를 동시에 하는 기능"
   ]
  },
  {
   "cell_type": "code",
   "execution_count": 8,
   "id": "f3408cb6",
   "metadata": {},
   "outputs": [
    {
     "name": "stdout",
     "output_type": "stream",
     "text": [
      "impossible\n"
     ]
    }
   ],
   "source": [
    "tweet_limit = 200\n",
    "tweet_string = 'blah' * 50 # 공백없이 blah를 50번 결합\n",
    "\n",
    "diff = tweet_limit - len(tweet_string) # len(): 길이를 나타내는 함수\n",
    "if diff > 0:\n",
    "    print('possible')\n",
    "else:\n",
    "    print('impossible')"
   ]
  },
  {
   "cell_type": "code",
   "execution_count": 9,
   "id": "6b97817b",
   "metadata": {},
   "outputs": [
    {
     "name": "stdout",
     "output_type": "stream",
     "text": [
      "impossible\n"
     ]
    }
   ],
   "source": [
    "if diff := tweet_limit - len(tweet_string) > 0: # := 할당과 동시에 조건을 테스트\n",
    "        print('possible')\n",
    "else:\n",
    "    print('impossible')"
   ]
  },
  {
   "cell_type": "markdown",
   "id": "47159f91",
   "metadata": {},
   "source": [
    "### 퀴즈 1\n",
    "- 윤년인지 아닌지 판별하기\n",
    "    - 연도를 입력받는다.\n",
    "    - 해당 연도가 4로 나누어 떨어지고 100으로 나누어 떨어지지 않으면 윤년이다.\n",
    "    - 해당 연도가 400으로 나누어 떨어지면 윤년이다.\n",
    "- 출력: '{}년은 윤년입니다.' / '{}년은 윤년이 아닙니다.'"
   ]
  },
  {
   "cell_type": "code",
   "execution_count": 10,
   "id": "82f6020f",
   "metadata": {},
   "outputs": [
    {
     "name": "stdout",
     "output_type": "stream",
     "text": [
      "연도를 입력해주세요: 2022\n",
      "2022년은 윤년이 아닙니다.\n"
     ]
    }
   ],
   "source": [
    "year = int(input('연도를 입력해주세요: '))\n",
    "\n",
    "if (year % 4 == 0 and year % 100 != 0) or year % 400 == 0: # 논리연산자를 사용하여 if문 한 문장에 작성할 수 있다\n",
    "    print(f'{year}년은 윤년입니다.')\n",
    "else:\n",
    "    print(f'{year}년은 윤년이 아닙니다.')"
   ]
  },
  {
   "cell_type": "markdown",
   "id": "1d155211",
   "metadata": {},
   "source": [
    "## String (문자열)\n",
    "- 시스템에서 가장 작은 단위\n",
    "- 불변적인 성격을 가진다. (immutable)\n",
    "    - 예: jack -> jeck (불가능)\n",
    "- ' ', \" \" 으로 선언한다.\n",
    "    - 예: \"25.5\"\n",
    "- str()을 사용하여 문자열로 형변환이 가능하다.\n",
    "- cf. ''' ''', \"\"\" \"\"\" 은 주석이다.\n",
    "\n",
    "### escape character (이스케이프 문자)\n",
    "- 특수한 형태의 문자열\n",
    "- 눈에 보이는 대로 인식되지 않는다.\n",
    "- \\ + ch\n",
    "    - 예: \\n, \\t, \\b, \\', \\\", ...\n",
    "- \\n을 출력하고 싶다면?\n",
    "    - \\\\n\n",
    "    - r' '\n",
    "- 다른 스트링을 만드는 것이 아니다."
   ]
  },
  {
   "cell_type": "code",
   "execution_count": 11,
   "id": "77075dbc",
   "metadata": {},
   "outputs": [
    {
     "name": "stdout",
     "output_type": "stream",
     "text": [
      "hello\n",
      "world\n",
      "hello\\nworld\n",
      "hello\\nworld\n"
     ]
    }
   ],
   "source": [
    "sent = 'hello\\nworld' # \\n이 출력되는 것이 아니라 기능이 사용됨\n",
    "print(sent)\n",
    "\n",
    "sent = 'hello\\\\nworld' # \\n을 출력하는 법 (\\\\n)\n",
    "print(sent)\n",
    "\n",
    "sent = r'hello\\nworld' # \\n을 출력하는 법 (r'\\n')\n",
    "print(sent)"
   ]
  },
  {
   "cell_type": "markdown",
   "id": "be965768",
   "metadata": {},
   "source": [
    "### 연산\n",
    "- concatenatation\n",
    "    - ' ' + ' ' -> 공백 없이 문자열을 결합하는 방법\n",
    "- 곱하기\n",
    "    - ' ' * n -> 공백 없이 문자열을 n번 복제\n",
    "    "
   ]
  },
  {
   "cell_type": "code",
   "execution_count": 12,
   "id": "c8c0b4a6",
   "metadata": {},
   "outputs": [
    {
     "data": {
      "text/plain": [
       "'jackjack'"
      ]
     },
     "execution_count": 12,
     "metadata": {},
     "output_type": "execute_result"
    }
   ],
   "source": [
    "name = 'jack'\n",
    "name + name # 공백없이 문자열 결합"
   ]
  },
  {
   "cell_type": "code",
   "execution_count": 13,
   "id": "077a31c2",
   "metadata": {},
   "outputs": [
    {
     "data": {
      "text/plain": [
       "'jackjackjackjack'"
      ]
     },
     "execution_count": 13,
     "metadata": {},
     "output_type": "execute_result"
    }
   ],
   "source": [
    "name * 4 # 공백없이 문자열을 4번 복제"
   ]
  },
  {
   "cell_type": "code",
   "execution_count": 14,
   "id": "2dd36296",
   "metadata": {},
   "outputs": [
    {
     "ename": "TypeError",
     "evalue": "'str' object does not support item assignment",
     "output_type": "error",
     "traceback": [
      "\u001b[0;31m---------------------------------------------------------------------------\u001b[0m",
      "\u001b[0;31mTypeError\u001b[0m                                 Traceback (most recent call last)",
      "\u001b[0;32m/var/folders/d0/m7yn6fkn5q122l8ln587gfdh0000gn/T/ipykernel_26565/1712418671.py\u001b[0m in \u001b[0;36m<module>\u001b[0;34m\u001b[0m\n\u001b[1;32m      1\u001b[0m \u001b[0;31m# immutable, 문자열은 불변\u001b[0m\u001b[0;34m\u001b[0m\u001b[0;34m\u001b[0m\u001b[0m\n\u001b[1;32m      2\u001b[0m \u001b[0;34m\u001b[0m\u001b[0m\n\u001b[0;32m----> 3\u001b[0;31m \u001b[0mname\u001b[0m\u001b[0;34m[\u001b[0m\u001b[0;36m1\u001b[0m\u001b[0;34m]\u001b[0m \u001b[0;34m=\u001b[0m \u001b[0;34m'e'\u001b[0m\u001b[0;34m\u001b[0m\u001b[0;34m\u001b[0m\u001b[0m\n\u001b[0m",
      "\u001b[0;31mTypeError\u001b[0m: 'str' object does not support item assignment"
     ]
    }
   ],
   "source": [
    "# immutable, 문자열은 불변\n",
    "\n",
    "name[1] = 'e'"
   ]
  },
  {
   "cell_type": "markdown",
   "id": "af3b1edb",
   "metadata": {},
   "source": [
    "### 슬라이싱 (추출)\n",
    "- 문자열의 일부분을 떼어내는 작업\n",
    "- 대괄호 사용, 그 안에 오프셋을 지정 (오프셋: 문자열 내에서의 상대적인 주소)\n",
    "- 오프셋은 0부터 시작한다.\n",
    "    - 예: j(0)a(1)c(2)k(3)\n",
    "- 오프셋은 음수도 가능하다. -1부터 시작\n",
    "    - 예: j(-4)a(-3)c(-2)k(-1)\n",
    "- 오프셋은 [시작:끝:스텝]으로 이루어진다. \n",
    "- 오프셋의 시작은 포함(이상), 끝은 포함하지 않는다(미만).\n",
    "- 시작이 생략되면 처음부터, 끝이 생략되면 끝까지, 스텝이 생략되면 1이 default값이다."
   ]
  },
  {
   "cell_type": "code",
   "execution_count": 16,
   "id": "0350011b",
   "metadata": {},
   "outputs": [
    {
     "name": "stdout",
     "output_type": "stream",
     "text": [
      "j\n",
      "k\n"
     ]
    }
   ],
   "source": [
    "name = 'jack'\n",
    "print(name[0]) # 가장 첫 오프셋의 문자인 j\n",
    "print(name[-1]) # 가장 마지막 오프셋의 문자인 k"
   ]
  },
  {
   "cell_type": "code",
   "execution_count": 17,
   "id": "eb70bc68",
   "metadata": {},
   "outputs": [
    {
     "data": {
      "text/plain": [
       "'l'"
      ]
     },
     "execution_count": 17,
     "metadata": {},
     "output_type": "execute_result"
    }
   ],
   "source": [
    "sent = 'hello world'\n",
    "sent[3:4] # 3번째 오프셋부터 4번째 오프셋 전까지"
   ]
  },
  {
   "cell_type": "code",
   "execution_count": 18,
   "id": "c5fdac29",
   "metadata": {},
   "outputs": [
    {
     "data": {
      "text/plain": [
       "'hello '"
      ]
     },
     "execution_count": 18,
     "metadata": {},
     "output_type": "execute_result"
    }
   ],
   "source": [
    "# 처음부터 5까지 출력\n",
    "sent[:6] # sent[0:6]과 같은 뜻"
   ]
  },
  {
   "cell_type": "code",
   "execution_count": 19,
   "id": "f675895d",
   "metadata": {},
   "outputs": [
    {
     "data": {
      "text/plain": [
       "'hlowrd'"
      ]
     },
     "execution_count": 19,
     "metadata": {},
     "output_type": "execute_result"
    }
   ],
   "source": [
    "# 처음부터 끝까지 2스텝씩 출력\n",
    "sent[::2] # sent[0:11:2]와 같은 뜻"
   ]
  },
  {
   "cell_type": "code",
   "execution_count": 20,
   "id": "d9189219",
   "metadata": {},
   "outputs": [
    {
     "data": {
      "text/plain": [
       "'dlrow olleh'"
      ]
     },
     "execution_count": 20,
     "metadata": {},
     "output_type": "execute_result"
    }
   ],
   "source": [
    "# 모든 글자를 거꾸로 출력\n",
    "sent[::-1]"
   ]
  },
  {
   "cell_type": "code",
   "execution_count": 22,
   "id": "8c528a17",
   "metadata": {},
   "outputs": [
    {
     "data": {
      "text/plain": [
       "['porsche', 'kia', 'benz']"
      ]
     },
     "execution_count": 22,
     "metadata": {},
     "output_type": "execute_result"
    }
   ],
   "source": [
    "cars = ['benz', 'kia', 'porsche']\n",
    "cars[::-1] # 문자열뿐만 아니라 리스트에서도 슬라이싱 가능"
   ]
  },
  {
   "cell_type": "markdown",
   "id": "6d8aeaae",
   "metadata": {},
   "source": [
    "## NLTK\n",
    "- natural language toolkit\n",
    "- 자연어 분석을 위해 교육용으로 배포된 패키지\n",
    "- 텍스트가 정제되어 있다.\n",
    "- 내장함수, 기능들이 추가되어 있다.\n",
    "    - 토크나이즈, 파싱, 태킹, ..."
   ]
  },
  {
   "cell_type": "code",
   "execution_count": 2,
   "id": "42a76e5e",
   "metadata": {},
   "outputs": [
    {
     "name": "stdout",
     "output_type": "stream",
     "text": [
      "Requirement already satisfied: nltk in /Users/yong/opt/anaconda3/lib/python3.9/site-packages (3.6.5)\r\n",
      "Requirement already satisfied: click in /Users/yong/opt/anaconda3/lib/python3.9/site-packages (from nltk) (8.0.3)\r\n",
      "Requirement already satisfied: joblib in /Users/yong/opt/anaconda3/lib/python3.9/site-packages (from nltk) (1.1.0)\r\n",
      "Requirement already satisfied: regex>=2021.8.3 in /Users/yong/opt/anaconda3/lib/python3.9/site-packages (from nltk) (2021.8.3)\r\n",
      "Requirement already satisfied: tqdm in /Users/yong/opt/anaconda3/lib/python3.9/site-packages (from nltk) (4.62.3)\r\n"
     ]
    }
   ],
   "source": [
    "!pip install nltk # nltk 설치"
   ]
  },
  {
   "cell_type": "code",
   "execution_count": 3,
   "id": "67545aab",
   "metadata": {},
   "outputs": [],
   "source": [
    "import nltk # nltk를 가져오기\n",
    "# nltk.download('book') -> nltk의 패키지를 부분적으로 다운받기\n",
    "# jupyter notebook을 재시작하니 attribute error가 해결되었음"
   ]
  },
  {
   "cell_type": "code",
   "execution_count": 4,
   "id": "56cfd049",
   "metadata": {},
   "outputs": [
    {
     "data": {
      "text/plain": [
       "True"
      ]
     },
     "execution_count": 4,
     "metadata": {},
     "output_type": "execute_result"
    }
   ],
   "source": [
    "nltk.download('book', quiet=True)"
   ]
  },
  {
   "cell_type": "code",
   "execution_count": 30,
   "id": "7a7b57ab",
   "metadata": {},
   "outputs": [],
   "source": [
    "from nltk import book"
   ]
  },
  {
   "cell_type": "code",
   "execution_count": 31,
   "id": "7e236964",
   "metadata": {},
   "outputs": [
    {
     "data": {
      "text/plain": [
       "['[',\n",
       " 'Moby',\n",
       " 'Dick',\n",
       " 'by',\n",
       " 'Herman',\n",
       " 'Melville',\n",
       " '1851',\n",
       " ']',\n",
       " 'ETYMOLOGY',\n",
       " '.']"
      ]
     },
     "execution_count": 31,
     "metadata": {},
     "output_type": "execute_result"
    }
   ],
   "source": [
    "moby = book.text1\n",
    "moby.tokens[:10] # 토큰에 접근하는 방법\n",
    "# 토큰: 프로그래밍의 단어 단위 \n",
    "    # hello world (hello, world)\n",
    "    # I'm (I'm / I, 'm / I, am) 어떤식으로 토큰을 나눌지는 달라질 수 있다"
   ]
  },
  {
   "cell_type": "code",
   "execution_count": 32,
   "id": "33f5ec27",
   "metadata": {},
   "outputs": [
    {
     "data": {
      "text/plain": [
       "260819"
      ]
     },
     "execution_count": 32,
     "metadata": {},
     "output_type": "execute_result"
    }
   ],
   "source": [
    "# 1. 길이 세기\n",
    "len(moby) # 26만 자"
   ]
  },
  {
   "cell_type": "code",
   "execution_count": 33,
   "id": "153426dd",
   "metadata": {},
   "outputs": [
    {
     "data": {
      "text/plain": [
       "19317"
      ]
     },
     "execution_count": 33,
     "metadata": {},
     "output_type": "execute_result"
    }
   ],
   "source": [
    "# 2. 쓰인 단어의 수 (중복된 단어는 count하지 않는다)\n",
    "len(set(moby)) # 1.9만 자"
   ]
  },
  {
   "cell_type": "markdown",
   "id": "94e748d2",
   "metadata": {},
   "source": [
    "- list\n",
    "    - ['a', a, True]\n",
    "    - 순서가 있다.\n",
    "    - 중복이 허용된다.\n",
    "    - list()\n",
    "    \n",
    "- set\n",
    "    - {'a', 2, True}\n",
    "    - 순서가 없다.\n",
    "    - 중복이 허용되지 않는다.\n",
    "    - set()\n",
    "    - 수학의 집합 개념과 동일하다."
   ]
  },
  {
   "cell_type": "code",
   "execution_count": 35,
   "id": "0a3a873d",
   "metadata": {},
   "outputs": [
    {
     "data": {
      "text/plain": [
       "['kia', 'hyundai', 'renault', 'benz', 'benz', 'kia']"
      ]
     },
     "execution_count": 35,
     "metadata": {},
     "output_type": "execute_result"
    }
   ],
   "source": [
    "cars = ['kia', 'hyundai', 'renault', 'benz', 'benz', 'kia']\n",
    "cars # 리스트는 중복을 다 나타낸다"
   ]
  },
  {
   "cell_type": "code",
   "execution_count": 36,
   "id": "55625fee",
   "metadata": {},
   "outputs": [
    {
     "data": {
      "text/plain": [
       "{'benz', 'hyundai', 'kia', 'renault'}"
      ]
     },
     "execution_count": 36,
     "metadata": {},
     "output_type": "execute_result"
    }
   ],
   "source": [
    "set(cars) # set은 중복을 나타내지 않는다"
   ]
  },
  {
   "cell_type": "code",
   "execution_count": 37,
   "id": "1b0fdc36",
   "metadata": {},
   "outputs": [
    {
     "data": {
      "text/plain": [
       "0.07406285585022564"
      ]
     },
     "execution_count": 37,
     "metadata": {},
     "output_type": "execute_result"
    }
   ],
   "source": [
    "# lexical diversity, 얼마나 다양한 단어가 쓰였는가\n",
    "len(set(moby)) / len(moby)"
   ]
  },
  {
   "cell_type": "code",
   "execution_count": 38,
   "id": "5235ad2d",
   "metadata": {},
   "outputs": [
    {
     "data": {
      "text/plain": [
       "['benz', 'benz', 'hyundai', 'kia', 'kia', 'renault']"
      ]
     },
     "execution_count": 38,
     "metadata": {},
     "output_type": "execute_result"
    }
   ],
   "source": [
    "# 정렬 (오름차순)\n",
    "sorted(cars)"
   ]
  },
  {
   "cell_type": "code",
   "execution_count": 39,
   "id": "3aea26e0",
   "metadata": {},
   "outputs": [
    {
     "data": {
      "text/plain": [
       "['renault', 'kia', 'kia', 'hyundai', 'benz', 'benz']"
      ]
     },
     "execution_count": 39,
     "metadata": {},
     "output_type": "execute_result"
    }
   ],
   "source": [
    "# 정렬 (내림차순)\n",
    "sorted(cars, reverse=True)"
   ]
  },
  {
   "cell_type": "code",
   "execution_count": 40,
   "id": "1a9f0966",
   "metadata": {},
   "outputs": [
    {
     "data": {
      "text/plain": [
       "['.',\n",
       " '1851',\n",
       " 'Dick',\n",
       " 'ETYMOLOGY',\n",
       " 'Herman',\n",
       " 'Melville',\n",
       " 'Moby',\n",
       " '[',\n",
       " ']',\n",
       " 'by']"
      ]
     },
     "execution_count": 40,
     "metadata": {},
     "output_type": "execute_result"
    }
   ],
   "source": [
    "sorted(moby[:10]) # 처음부터 10개를 뽑아서 정렬"
   ]
  },
  {
   "cell_type": "code",
   "execution_count": 41,
   "id": "1b972104",
   "metadata": {},
   "outputs": [
    {
     "data": {
      "text/plain": [
       "['!', '!', '!', '!', '!', '!', '!', '!', '!', '!']"
      ]
     },
     "execution_count": 41,
     "metadata": {},
     "output_type": "execute_result"
    }
   ],
   "source": [
    "sorted(moby)[:10] # 정렬을 한 후에 처음부터 10개를 뽑기"
   ]
  },
  {
   "cell_type": "markdown",
   "id": "e07d1fc0",
   "metadata": {},
   "source": [
    "#### 퀴즈 2\n",
    "- text6 가져와서 토큰을 변수에 담기\n",
    "- 중복 없는 셋으로 저장하고 내림차순 \n",
    "    - 앞에서 10개 단어 출력\n",
    "    - 단어에 z가 있으면 대문자로 바꾸기\n",
    "    - z가 없는데 4자 이상이면 끝 글자를 대문자로 바꾸기  "
   ]
  },
  {
   "cell_type": "code",
   "execution_count": 42,
   "id": "8d1200f3",
   "metadata": {},
   "outputs": [
    {
     "name": "stdout",
     "output_type": "stream",
     "text": [
      "['zoosh', 'zoop', 'zoo', 'zone', 'zhiv', 'yourself', 'yours', 'your', 'young', 'you']\n",
      "Zoosh Zoop Zoo Zone Zhiv yourselF yourS youR younG you "
     ]
    }
   ],
   "source": [
    "monty = book.text6 # text6 가져오기\n",
    "sorted_tokens = sorted(set(monty.tokens), reverse=True) # 토큰을 셋으로 저장하고 내림차순 정렬\n",
    "\n",
    "print(sorted_tokens[:10]) # 앞에서 10개 단어 출력\n",
    "\n",
    "for i in range(10):\n",
    "    if 'z' in sorted_tokens[i]: # 단어에 z가 있다면\n",
    "        print(sorted_tokens[i].capitalize(), end=' ') # z를 대문자로 바꿔주기, end=' '를 사용하여 결과가 한줄에 출력되도록 하기\n",
    "    else:\n",
    "        if len(sorted_tokens[i]) >= 4: # z가 없는데 4자 이상이면\n",
    "            temp = (sorted_tokens[i])[::-1]\n",
    "            temp = temp.capitalize() # 끝 글자를 대문자로 바꿔주기\n",
    "            temp = temp[::-1]\n",
    "            print(temp, end=' ')\n",
    "        else: # z도 없고 4자 이상도 아니라면 그냥 출력\n",
    "            print(sorted_tokens[i], end=' ')"
   ]
  },
  {
   "cell_type": "markdown",
   "id": "f5ce9fbe",
   "metadata": {},
   "source": [
    "#### 퀴즈 3\n",
    "- 주민번호, 휴대폰 번호, 이메일 주소 입력 받는다.\n",
    "- 주민번호, 휴대폰 번호는 숫자만 입력받는다. (- 없이)\n",
    "- 이메일 주소는 아이디만 입력받는다. (@ 이후 없이)\n",
    "    - 1. '당신은 {}년 {}월 {}일 출생의 {남성/여성}입니다.'\n",
    "    - 2. '휴대폰 번호: 000-0000-0000'\n",
    "    - 3. '이메일주소: 000@gmail.com'"
   ]
  },
  {
   "cell_type": "code",
   "execution_count": 6,
   "id": "fc957d3d",
   "metadata": {},
   "outputs": [
    {
     "name": "stdout",
     "output_type": "stream",
     "text": [
      "주민등록번호를 입력해주세요(- 제외): 9812201111111\n",
      "휴대폰 번호를 입력해주세요(- 제외): 01051901220\n",
      "이메일 주소를 입력해주세요(아이디만): utano\n",
      "당신은 1998년 12월 20일 출생의 남성입니다.\n",
      "휴대폰 번호: 010-5190-1220\n",
      "이메일 주소: utano@gmail.com\n"
     ]
    }
   ],
   "source": [
    "ssn = input('주민등록번호를 입력해주세요(- 제외): ')\n",
    "phone = input('휴대폰 번호를 입력해주세요(- 제외): ')\n",
    "email = input('이메일 주소를 입력해주세요(아이디만): ')\n",
    "\n",
    "if int(ssn[6]) < 3: # 주민등록번호의 7번째 숫자를 확인하여 2000년 이전 이후 출생 구별 (1,2 = 2000년대 이전 / 3,4 = 2000년대 이후)\n",
    "    year = '19' + ssn[:2]\n",
    "else:\n",
    "    year = '20' + ssn[:2]\n",
    "\n",
    "month = ssn[2:4]\n",
    "day = ssn[4:6]\n",
    "\n",
    "if ssn[6] == '1' or '3': # 남성과 여성 구별\n",
    "    sex = '남성'\n",
    "else:\n",
    "    sex = '여성'\n",
    "    \n",
    "print(f'당신은 {year}년 {month}월 {day}일 출생의 {sex}입니다.')\n",
    "print(f'휴대폰 번호: {phone[:3]}-{phone[3:7]}-{phone[7:11]}')\n",
    "print(f'이메일 주소: {email}@gmail.com')\n"
   ]
  },
  {
   "cell_type": "code",
   "execution_count": null,
   "id": "b9b495f5",
   "metadata": {},
   "outputs": [],
   "source": []
  }
 ],
 "metadata": {
  "kernelspec": {
   "display_name": "Python 3 (ipykernel)",
   "language": "python",
   "name": "python3"
  },
  "language_info": {
   "codemirror_mode": {
    "name": "ipython",
    "version": 3
   },
   "file_extension": ".py",
   "mimetype": "text/x-python",
   "name": "python",
   "nbconvert_exporter": "python",
   "pygments_lexer": "ipython3",
   "version": "3.9.7"
  }
 },
 "nbformat": 4,
 "nbformat_minor": 5
}
