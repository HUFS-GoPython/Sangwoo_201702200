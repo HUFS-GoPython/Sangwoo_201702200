{
 "cells": [
  {
   "cell_type": "markdown",
   "id": "b43f8e78",
   "metadata": {},
   "source": [
    "## 객체와 클래스\n",
    "- 클래스는 객체를 구현하는 것\n",
    "\n",
    "\n",
    "- 객체(object)는 속성과 행동을 가지는 개념 (속성이나 행동은 필요하지 않다면 없어도 된다)\n",
    "    - 속성은 변수, 행동은 메소드(함수)로 표현한다\n",
    "        - 객체의 예시: 자동차, ...\n",
    "        - 속성의 예시: 브랜드, 색, 속도, 모델, ...\n",
    "        - 행동의 예시: 가다, 서다, 회전하다, 주차하다, ..."
   ]
  },
  {
   "cell_type": "markdown",
   "id": "ebaabc4a",
   "metadata": {},
   "source": [
    "## 클래스\n",
    "- 정의부와 선언부가 있다\n",
    "    - 정의부 = 붕어빵 틀\n",
    "    - 선언부 = 붕어빵\n",
    "    \n",
    "\n",
    "- 이름 지을 때 주의할점\n",
    "    - 첫글자는 대문자\n",
    "    - 카멜표기법을 사용한다\n",
    "        - NiceCar (o) \n",
    "        - Nice_car(x)"
   ]
  },
  {
   "cell_type": "code",
   "execution_count": 1,
   "id": "95b13943",
   "metadata": {},
   "outputs": [
    {
     "data": {
      "text/plain": [
       "<__main__.Car at 0x7fdb3053d220>"
      ]
     },
     "execution_count": 1,
     "metadata": {},
     "output_type": "execute_result"
    }
   ],
   "source": [
    "# 클래스 정의부\n",
    "class Car:\n",
    "    pass\n",
    "\n",
    "# 클래스 선언부\n",
    "my_car = Car()\n",
    "my_car"
   ]
  },
  {
   "cell_type": "code",
   "execution_count": 2,
   "id": "05e54a3f",
   "metadata": {},
   "outputs": [
    {
     "data": {
      "text/plain": [
       "'bmw'"
      ]
     },
     "execution_count": 2,
     "metadata": {},
     "output_type": "execute_result"
    }
   ],
   "source": [
    "my_car.name = 'bmw' # 속성을 만들어주고\n",
    "my_car.name # 그 속성에 접근이 가능하다"
   ]
  },
  {
   "cell_type": "code",
   "execution_count": 3,
   "id": "7f714740",
   "metadata": {},
   "outputs": [
    {
     "data": {
      "text/plain": [
       "'BMW'"
      ]
     },
     "execution_count": 3,
     "metadata": {},
     "output_type": "execute_result"
    }
   ],
   "source": [
    "class Car:\n",
    "    name = 'BMW' # 모든 Car()의 name 속성을 정해주는 방법\n",
    "    \n",
    "your_car = Car()\n",
    "your_car.name"
   ]
  },
  {
   "cell_type": "code",
   "execution_count": 4,
   "id": "d7c8807b",
   "metadata": {},
   "outputs": [
    {
     "data": {
      "text/plain": [
       "'Kia'"
      ]
     },
     "execution_count": 4,
     "metadata": {},
     "output_type": "execute_result"
    }
   ],
   "source": [
    "your_car.name = 'Kia' # 미리 정해진 속성의 변경도 가능하다\n",
    "your_car.name"
   ]
  },
  {
   "cell_type": "code",
   "execution_count": 5,
   "id": "7334ccef",
   "metadata": {},
   "outputs": [],
   "source": [
    "class Car:\n",
    "    def __init__(self, name): # 속성을 초기화하는 함수\n",
    "        # 객체를 만들 때 입력받은 값으로 name을 설정하고 싶을 때\n",
    "        self.name = name\n",
    "        # self = instance\n",
    "        # 앞의 경우의 my_car, your_car 같은 변수가 self가 되는 것이다"
   ]
  },
  {
   "cell_type": "code",
   "execution_count": 7,
   "id": "14c1f8c3",
   "metadata": {},
   "outputs": [
    {
     "ename": "TypeError",
     "evalue": "__init__() missing 1 required positional argument: 'name'",
     "output_type": "error",
     "traceback": [
      "\u001b[0;31m---------------------------------------------------------------------------\u001b[0m",
      "\u001b[0;31mTypeError\u001b[0m                                 Traceback (most recent call last)",
      "\u001b[0;32m/var/folders/d0/m7yn6fkn5q122l8ln587gfdh0000gn/T/ipykernel_79201/4250401651.py\u001b[0m in \u001b[0;36m<module>\u001b[0;34m\u001b[0m\n\u001b[0;32m----> 1\u001b[0;31m \u001b[0mher_car\u001b[0m \u001b[0;34m=\u001b[0m \u001b[0mCar\u001b[0m\u001b[0;34m(\u001b[0m\u001b[0;34m)\u001b[0m \u001b[0;31m# init 함수에서 name이 필요하기 때문에 name을 입력하지 않으면 오류가 발생한다\u001b[0m\u001b[0;34m\u001b[0m\u001b[0;34m\u001b[0m\u001b[0m\n\u001b[0m",
      "\u001b[0;31mTypeError\u001b[0m: __init__() missing 1 required positional argument: 'name'"
     ]
    }
   ],
   "source": [
    "her_car = Car() # init 함수에서 name이 필요하기 때문에 name을 입력하지 않으면 오류가 발생한다"
   ]
  },
  {
   "cell_type": "code",
   "execution_count": 8,
   "id": "b9e36727",
   "metadata": {},
   "outputs": [
    {
     "data": {
      "text/plain": [
       "'Hyundai'"
      ]
     },
     "execution_count": 8,
     "metadata": {},
     "output_type": "execute_result"
    }
   ],
   "source": [
    "her_car = Car(name='Hyundai') # init 함수에 필요한 name을 입력해주기\n",
    "her_car.name"
   ]
  },
  {
   "cell_type": "code",
   "execution_count": 9,
   "id": "904cb4b2",
   "metadata": {},
   "outputs": [
    {
     "data": {
      "text/plain": [
       "'Toyota'"
      ]
     },
     "execution_count": 9,
     "metadata": {},
     "output_type": "execute_result"
    }
   ],
   "source": [
    "car2 = Car('Toyota') # 'name='을 붙여주지 않아도 된다\n",
    "car2.name"
   ]
  },
  {
   "cell_type": "code",
   "execution_count": 10,
   "id": "d021d768",
   "metadata": {},
   "outputs": [
    {
     "data": {
      "text/plain": [
       "('Tesla', 'Model S', 'Red')"
      ]
     },
     "execution_count": 10,
     "metadata": {},
     "output_type": "execute_result"
    }
   ],
   "source": [
    "# Car 클래스에 모델과 색 추가하기\n",
    "class Car:\n",
    "    def __init__(self, name, model, color):\n",
    "        self.name = name\n",
    "        self.model = model\n",
    "        self.color = color\n",
    "        \n",
    "my_car = Car('Tesla', 'Model S', 'Red') # name, model, color 순으로 넣어주기\n",
    "my_car.name, my_car.model, my_car.color"
   ]
  },
  {
   "cell_type": "code",
   "execution_count": 14,
   "id": "22d58e6e",
   "metadata": {},
   "outputs": [
    {
     "name": "stdout",
     "output_type": "stream",
     "text": [
      "차가 갑니다.\n",
      "차가 섭니다.\n"
     ]
    }
   ],
   "source": [
    "# Car 클래스에 액션 추가하기\n",
    "class Car:\n",
    "    def __init__(self, name, model, color):\n",
    "        self.name = name\n",
    "        self.model = model\n",
    "        self.color = color\n",
    "        \n",
    "    def drive(self): # 액션 함수 추가\n",
    "        print('차가 갑니다.')\n",
    "    \n",
    "    def stop(self):\n",
    "        print('차가 섭니다.')\n",
    "        \n",
    "my_car = Car('Tesla', 'Model S', 'Red')\n",
    "my_car.drive()\n",
    "my_car.stop()"
   ]
  },
  {
   "cell_type": "code",
   "execution_count": 15,
   "id": "289b78b0",
   "metadata": {},
   "outputs": [
    {
     "name": "stdout",
     "output_type": "stream",
     "text": [
      "Tesla가 출발합니다.\n"
     ]
    },
    {
     "data": {
      "text/plain": [
       "'gray'"
      ]
     },
     "execution_count": 15,
     "metadata": {},
     "output_type": "execute_result"
    }
   ],
   "source": [
    "# Car 클래스의 액션 수정하고 함수 추가하기\n",
    "class Car:\n",
    "    def __init__(self, name, model, color):\n",
    "        self.name = name\n",
    "        self.model = model\n",
    "        self.color = color\n",
    "        \n",
    "    def drive(self):\n",
    "        # '{차 이름}이 출발합니다.'로 수정하기\n",
    "        print(f'{self.name}가 출발합니다.')\n",
    "        \n",
    "    def stop(self):\n",
    "        print('차가 섭니다.')\n",
    "        \n",
    "    # 색을 'gray'로 바꾸는 함수 추가하기\n",
    "    def change_color(self):\n",
    "        self.color = 'gray'\n",
    "        \n",
    "my_car = Car('Tesla', 'Model S', 'Red')\n",
    "my_car.drive()\n",
    "my_car.change_color()\n",
    "my_car.color"
   ]
  },
  {
   "cell_type": "code",
   "execution_count": 17,
   "id": "97ec45a1",
   "metadata": {},
   "outputs": [
    {
     "name": "stdout",
     "output_type": "stream",
     "text": [
      "None\n",
      "Model S\n",
      "black\n",
      "Red\n"
     ]
    }
   ],
   "source": [
    "# Car 클래스의 액션 수정하고 기본값 설정하기\n",
    "class Car:\n",
    "    def __init__(self, name, model=None, color='black'):\n",
    "        # 객체를 생성할 때 model 값을 안넣어도 되도록 (None이 ''보다 올바른 표현)\n",
    "        # 객체를 생성할 때 color 값이 있으면 그 값으로 설정, 아니면 기본값인 'black'으로 설정\n",
    "        self.name = name\n",
    "        self.model = model\n",
    "        self.color = color\n",
    "        \n",
    "    def drive(self):\n",
    "        print(f'{self.name}가 출발합니다.')\n",
    "        \n",
    "    def stop(self):\n",
    "        print('차가 섭니다.')\n",
    "        \n",
    "    def change_color(self, color):\n",
    "        # color 값을 입력받아서 그 값으로 color를 바꾸도록 수정하기\n",
    "        self.color = color\n",
    "        \n",
    "my_car = Car('Tesla') # 객체를 생성할 때 name만 입력\n",
    "\n",
    "print(my_car.model) # 기본값이 None이므로 아무것도 출력되지 않는다\n",
    "my_car.model = 'Model S' # 별도 설정이 가능하다\n",
    "print(my_car.model)\n",
    "\n",
    "print(my_car.color) # 기본값이 black이므로 black이 출력된다\n",
    "my_car.change_color('Red') # color를 Red로 변경\n",
    "print(my_car.color) # 변경된 Red가 출력된다"
   ]
  },
  {
   "cell_type": "markdown",
   "id": "3d92e2de",
   "metadata": {},
   "source": [
    "## 캡슐화, 정보 은닉\n",
    "- public 변수를 priavte 변수로 바꾸기\n",
    "- getter와 setter 활용하기"
   ]
  },
  {
   "cell_type": "code",
   "execution_count": 18,
   "id": "275c69ce",
   "metadata": {},
   "outputs": [
    {
     "data": {
      "text/plain": [
       "'red'"
      ]
     },
     "execution_count": 18,
     "metadata": {},
     "output_type": "execute_result"
    }
   ],
   "source": [
    "class Fruit:\n",
    "    color = 'red'\n",
    "    \n",
    "kiwi = Fruit()\n",
    "kiwi.color"
   ]
  },
  {
   "cell_type": "code",
   "execution_count": 19,
   "id": "9eca1a83",
   "metadata": {},
   "outputs": [
    {
     "data": {
      "text/plain": [
       "'black'"
      ]
     },
     "execution_count": 19,
     "metadata": {},
     "output_type": "execute_result"
    }
   ],
   "source": [
    "Fruit.color = 'black'\n",
    "# class의 속성을 밖에서 너무 간단하게 바꿀 수 있다\n",
    "# 이를 방지하는 것이 필요하다 -> 캡슐화, 정보 은닉\n",
    "\n",
    "apple = Fruit()\n",
    "apple.color"
   ]
  },
  {
   "cell_type": "markdown",
   "id": "88ade462",
   "metadata": {},
   "source": [
    "### get, set\n",
    "- getter: 클래스 내 객체 변수 반환\n",
    "- setter: 클래스 내 객체 변수 설정"
   ]
  },
  {
   "cell_type": "code",
   "execution_count": 20,
   "id": "92a9b212",
   "metadata": {},
   "outputs": [
    {
     "name": "stdout",
     "output_type": "stream",
     "text": [
      "name1\n",
      "name2\n"
     ]
    }
   ],
   "source": [
    "class Car:\n",
    "    def __init__(self, input_name):\n",
    "        self.name = input_name\n",
    "        \n",
    "    def get_name(self):\n",
    "        return self.name\n",
    "    \n",
    "    def set_name(self, input_name):\n",
    "        self.name = input_name\n",
    "        \n",
    "c = Car('name1')\n",
    "\n",
    "print(c.get_name()) # 클래스 내 객체의 변수를 반환한다 (name1)\n",
    "\n",
    "c.set_name('name2') # 클래스 내 객체의 변수를 설정한다 (self.name = name2)\n",
    "# c.name = 'name2'와 같은 기능이지만 setter를 사용하면 name이 바뀌었다는 사실을 쉽게 알 수 있다\n",
    "\n",
    "print(c.name)"
   ]
  },
  {
   "cell_type": "code",
   "execution_count": 21,
   "id": "be05cb4d",
   "metadata": {},
   "outputs": [
    {
     "data": {
      "text/plain": [
       "'name_1'"
      ]
     },
     "execution_count": 21,
     "metadata": {},
     "output_type": "execute_result"
    }
   ],
   "source": [
    "class Car:\n",
    "    def __init__(self, input_name):\n",
    "        self.hidden_name = input_name  # 정보 은닉\n",
    "        \n",
    "    def get_name(self):\n",
    "        return self.hidden_name\n",
    "    \n",
    "    def set_name(self, input_name):\n",
    "        self.hidden_name = input_name\n",
    "        \n",
    "    name = property(get_name, set_name)\n",
    "    \n",
    "d = Car('name_1')\n",
    "d.name"
   ]
  },
  {
   "cell_type": "code",
   "execution_count": 22,
   "id": "bab45b7d",
   "metadata": {},
   "outputs": [
    {
     "name": "stdout",
     "output_type": "stream",
     "text": [
      "name a\n",
      "name a\n"
     ]
    }
   ],
   "source": [
    "class Car:\n",
    "    def __init__(self, input_name):\n",
    "        self.hidden_name = input_name\n",
    "        \n",
    "    #decorator\n",
    "    @property\n",
    "    def name(self):  # @property를 통해 name을 속성으로 사용\n",
    "        return self.hidden_name\n",
    "    \n",
    "    @name.setter  # name을 설정해주는 setter\n",
    "    def name(self, input_name):\n",
    "        self.hidden_name = input_name\n",
    "\n",
    "e = Car('name a')\n",
    "print(e.name)\n",
    "print(e.hidden_name)"
   ]
  },
  {
   "cell_type": "code",
   "execution_count": 23,
   "id": "20a8f106",
   "metadata": {},
   "outputs": [
    {
     "ename": "AttributeError",
     "evalue": "'Car' object has no attribute '__name'",
     "output_type": "error",
     "traceback": [
      "\u001b[0;31m---------------------------------------------------------------------------\u001b[0m",
      "\u001b[0;31mAttributeError\u001b[0m                            Traceback (most recent call last)",
      "\u001b[0;32m/var/folders/d0/m7yn6fkn5q122l8ln587gfdh0000gn/T/ipykernel_79201/319540009.py\u001b[0m in \u001b[0;36m<module>\u001b[0;34m\u001b[0m\n\u001b[1;32m     12\u001b[0m \u001b[0;34m\u001b[0m\u001b[0m\n\u001b[1;32m     13\u001b[0m \u001b[0mf\u001b[0m \u001b[0;34m=\u001b[0m \u001b[0mCar\u001b[0m\u001b[0;34m(\u001b[0m\u001b[0;34m'name b'\u001b[0m\u001b[0;34m)\u001b[0m\u001b[0;34m\u001b[0m\u001b[0;34m\u001b[0m\u001b[0m\n\u001b[0;32m---> 14\u001b[0;31m \u001b[0mf\u001b[0m\u001b[0;34m.\u001b[0m\u001b[0m__name\u001b[0m\u001b[0;34m\u001b[0m\u001b[0;34m\u001b[0m\u001b[0m\n\u001b[0m",
      "\u001b[0;31mAttributeError\u001b[0m: 'Car' object has no attribute '__name'"
     ]
    }
   ],
   "source": [
    "class Car:\n",
    "    def __init__(self, input_name):\n",
    "        self.__name = input_name  # 던더바를 사용하여 정보 은닉\n",
    "        \n",
    "    @property\n",
    "    def name(self):\n",
    "        return self.__name\n",
    "    \n",
    "    @name.setter\n",
    "    def name(self, input_name):\n",
    "        self.__name = input_name\n",
    "        \n",
    "f = Car('name b')\n",
    "f.__name  # 던더바가 있으면 정보에 접근할 수 없다"
   ]
  },
  {
   "cell_type": "code",
   "execution_count": 24,
   "id": "1ba6c124",
   "metadata": {},
   "outputs": [
    {
     "name": "stdout",
     "output_type": "stream",
     "text": [
      "10\n",
      "38\n"
     ]
    }
   ],
   "source": [
    "class Circle:\n",
    "    def __init__(self, radius):\n",
    "        self.radius = radius\n",
    "        \n",
    "    @property  # @property를 통해 parameter를 속성으로 사용 가능\n",
    "    def parameter(self):\n",
    "        return self.radius * 2\n",
    "\n",
    "ex = Circle(5)\n",
    "print(ex.parameter)\n",
    "\n",
    "ex.radius = 19\n",
    "print(ex.parameter)"
   ]
  },
  {
   "cell_type": "markdown",
   "id": "0743ac55",
   "metadata": {},
   "source": [
    "## 클래스 실습\n",
    "- 메모장, 메모 구현하기\n",
    "\n",
    "\n",
    "- 메모장 (객체)\n",
    "    - 속성: 제목(은닉하기), 페이지 번호, 메모\n",
    "    - 행동: 메모 추가하기, 메모 삭제하기, 페이지 번호 확인하기\n",
    "\n",
    "\n",
    "- 메모 (객체)\n",
    "    - 속성: 글귀\n",
    "    - 행동: 쓰기, 지우기\n",
    "    \n",
    "\n",
    "- 사용법\n",
    "    - 메모를 쓴다\n",
    "    - 메모장에 추가한다 -> 페이지 번호가 늘어난다\n",
    "    - 메모장에서 메모를 삭제한다 -> 페이지 번호가 줄어든다"
   ]
  },
  {
   "cell_type": "code",
   "execution_count": 10,
   "id": "fb81ba12",
   "metadata": {},
   "outputs": [
    {
     "name": "stdout",
     "output_type": "stream",
     "text": [
      "우리 모두 스스로가 원하는 리더가 됩시다.\n",
      "모두가 함께 앞으로 나아가면 성공은 저절로 따라옵니다.\n",
      "혼자서는 작은 한 방울이지만 함께 모이면 바다를 이룹니다.\n",
      "page number: 1 \n",
      "우리 모두 스스로가 원하는 리더가 됩시다.\n",
      "page number: 2 \n",
      "모두가 함께 앞으로 나아가면 성공은 저절로 따라옵니다.\n",
      "page number: 3 \n",
      "혼자서는 작은 한 방울이지만 함께 모이면 바다를 이룹니다.\n",
      "3\n",
      "혼자서는 작은 한 방울이지만 함께 모이면 바다를 이룹니다.\n",
      "page number: 1 \n",
      "우리 모두 스스로가 원하는 리더가 됩시다.\n",
      "page number: 2 \n",
      "모두가 함께 앞으로 나아가면 성공은 저절로 따라옵니다.\n",
      "2\n"
     ]
    }
   ],
   "source": [
    "class Notebook:\n",
    "    def __init__(self, title, page_number=0, memo=[]):\n",
    "        self.__title = title\n",
    "        self.page_number = page_number\n",
    "        self.memo = memo\n",
    "        \n",
    "    def add_note(self, note):\n",
    "        for note in note.notes:\n",
    "            self.memo.append(note)\n",
    "            self.page_number += 1\n",
    "        \n",
    "    def delete_note(self, note):\n",
    "        for note in note.notes:\n",
    "            self.memo.remove(note)\n",
    "            self.page_number -= 1\n",
    "        \n",
    "    def get_page_num(self):\n",
    "        return self.page_number\n",
    "    \n",
    "    def print_memos(self):\n",
    "        for i, memo in enumerate(self.memo):\n",
    "            print(f'page number: {i + 1} \\n' + memo, end='\\n')\n",
    "        \n",
    "\n",
    "class Note:\n",
    "    def __init__(self, notes=[]):\n",
    "        self.notes = notes\n",
    "    \n",
    "    def write(self, text):\n",
    "        self.notes.append(text)\n",
    "    \n",
    "    def erase(self, text):\n",
    "        self.notes.remove(text)\n",
    "        \n",
    "    def print_notes(self):\n",
    "        for note in self.notes:\n",
    "            print(note, end='\\n')\n",
    "        \n",
    "                 \n",
    "            \n",
    "line1 = '우리 모두 스스로가 원하는 리더가 됩시다.'\n",
    "line2 = '모두가 함께 앞으로 나아가면 성공은 저절로 따라옵니다.'\n",
    "line3 = '혼자서는 작은 한 방울이지만 함께 모이면 바다를 이룹니다.'\n",
    "                 \n",
    "# 메모 추가, 한 페이지당 라인 하나씩 들어가도록\n",
    "my_note = Note()\n",
    "my_note.write(line1)\n",
    "my_note.write(line2)\n",
    "my_note.write(line3)\n",
    "my_note.print_notes()\n",
    "\n",
    "# 메모를 메모장에 추가\n",
    "my_book = Notebook('My Notebook')\n",
    "my_book.add_note(my_note)\n",
    "my_book.print_memos()\n",
    "\n",
    "# 페이지 번호 확인하기\n",
    "print(my_book.get_page_num())\n",
    "\n",
    "# 메모 삭제하기\n",
    "my_note.erase(line1)\n",
    "my_note.erase(line2)\n",
    "my_note.print_notes()\n",
    "\n",
    "# 메모장 페이지 삭제하기\n",
    "my_book.delete_note(my_note)\n",
    "my_book.print_memos()\n",
    "print(my_book.get_page_num())"
   ]
  },
  {
   "cell_type": "code",
   "execution_count": null,
   "id": "d45a3a83",
   "metadata": {},
   "outputs": [],
   "source": []
  }
 ],
 "metadata": {
  "kernelspec": {
   "display_name": "Python 3 (ipykernel)",
   "language": "python",
   "name": "python3"
  },
  "language_info": {
   "codemirror_mode": {
    "name": "ipython",
    "version": 3
   },
   "file_extension": ".py",
   "mimetype": "text/x-python",
   "name": "python",
   "nbconvert_exporter": "python",
   "pygments_lexer": "ipython3",
   "version": "3.9.7"
  }
 },
 "nbformat": 4,
 "nbformat_minor": 5
}
