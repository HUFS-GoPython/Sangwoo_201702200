{
 "cells": [
  {
   "cell_type": "markdown",
   "id": "7890c958",
   "metadata": {},
   "source": [
    "## Team Project 3 Feedback\n",
    "- 추상클래스를 만들었으면 추상클래스를 상속하는 클래스가 있어야한다\n",
    "- 클래스와 상속에 대한 이해가 부족하다\n",
    "- 임직원 할인, 오픈시간-마감시간 설정, 현금결제-카드결제 등 기본적인 기능 구현 외에도 상상력을 발휘할 필요가 있다\n",
    "- 다른 팀의 코드를 깃허브에서 보면서 코드리뷰하고 공부하면 좋을듯"
   ]
  },
  {
   "cell_type": "markdown",
   "id": "7ff405a2",
   "metadata": {},
   "source": [
    "## 매직메소드\n",
    "- special method\n",
    "- \\__\\<name>__같이 던더바를 사용\n",
    "- \\_\\_str__, \\_\\_repr__"
   ]
  },
  {
   "cell_type": "code",
   "execution_count": 1,
   "id": "14b6949d",
   "metadata": {},
   "outputs": [
    {
     "name": "stdout",
     "output_type": "stream",
     "text": [
      "<__main__.Customer object at 0x7fcc21628550>\n"
     ]
    }
   ],
   "source": [
    "class Customer:\n",
    "    def __init__(self, name):\n",
    "        self.name = name\n",
    "        \n",
    "c = Customer('Yong')\n",
    "print(c)  # print(c)의 출력값을 변경하고 싶을 때"
   ]
  },
  {
   "cell_type": "code",
   "execution_count": 2,
   "id": "b63e46bb",
   "metadata": {},
   "outputs": [],
   "source": [
    "class Customer(object):  # 모든 클래스는 object를 상속받는데 생략하는 것\n",
    "    def __init__(self, name):\n",
    "        self.name = name\n",
    "        \n",
    "    def __str__(self):  # 원래는 object 클래스에 있는 메소드 -> 오버라이딩\n",
    "        # print() 함수로 나오는 출력값을 변경\n",
    "        return self.name\n",
    "    \n",
    "    def __repr__(self):\n",
    "        # 별도로 설정하지 않으면 __str__과 동일하다\n",
    "        # 인스턴스를 출력하는 방식으로 사용자가 이해하는 객체의 모습을 표현한다\n",
    "        # Customer(Yong)이 출력됐으면 좋겠다!\n",
    "        return f'Customer({self.name})'\n",
    "    \n",
    "c = Customer('Yong')"
   ]
  },
  {
   "cell_type": "code",
   "execution_count": 4,
   "id": "09c39d6f",
   "metadata": {},
   "outputs": [
    {
     "name": "stdout",
     "output_type": "stream",
     "text": [
      "Yong\n"
     ]
    }
   ],
   "source": [
    "print(c)  # __str__메소드에서 self.name을 반환하기 때문"
   ]
  },
  {
   "cell_type": "code",
   "execution_count": 5,
   "id": "34c36626",
   "metadata": {},
   "outputs": [
    {
     "data": {
      "text/plain": [
       "'Customer(Yong)'"
      ]
     },
     "execution_count": 5,
     "metadata": {},
     "output_type": "execute_result"
    }
   ],
   "source": [
    "repr(c)  # __repr__메소드에서 설정해준 값이 반환된다"
   ]
  },
  {
   "cell_type": "markdown",
   "id": "e0bedb57",
   "metadata": {},
   "source": [
    "## NamedTuple, DataClass\n",
    "- 객체보다 효율적이다 (간단한 속성만 가지는 클래스일 경우 활용한다)\n",
    "- 딕셔너리의 키처럼 사용이 가능하다\n",
    "- 불변객체"
   ]
  },
  {
   "cell_type": "code",
   "execution_count": 6,
   "id": "07f7b6e4",
   "metadata": {},
   "outputs": [
    {
     "data": {
      "text/plain": [
       "('yong', 25)"
      ]
     },
     "execution_count": 6,
     "metadata": {},
     "output_type": "execute_result"
    }
   ],
   "source": [
    "from collections import namedtuple  # namedtuple을 사용하기 위해서 필요한 import\n",
    "\n",
    "# namedtuple('클래스명', '들어갈 변수')\n",
    "# 변수가 여러개일 경우 ','가 아닌 공백으로 구분한다\n",
    "Customer = namedtuple('Customer', 'name age')\n",
    "y = Customer('yong', 25)\n",
    "y.name, y.age"
   ]
  },
  {
   "cell_type": "code",
   "execution_count": 7,
   "id": "aa63ccc9",
   "metadata": {},
   "outputs": [
    {
     "data": {
      "text/plain": [
       "('kim', 20)"
      ]
     },
     "execution_count": 7,
     "metadata": {},
     "output_type": "execute_result"
    }
   ],
   "source": [
    "from dataclasses import dataclass  # dataclass를 사용하기 위해서 필요한 import  / python3.7 이상에서만 가능하다\n",
    "\n",
    "@dataclass  # decorator를 사용한다\n",
    "class Customer2:\n",
    "    name: str\n",
    "    age: int\n",
    "        \n",
    "k = Customer2('kim', 20)\n",
    "k.name, k.age"
   ]
  },
  {
   "cell_type": "markdown",
   "id": "d1d4b123",
   "metadata": {},
   "source": [
    "## 함수\n",
    "- \\*, \\**\n",
    "- 일급객체\n",
    "- 내부함수, 클로저\n",
    "- 익명함수\n",
    "- 제너레이터\n",
    "- 재귀함수"
   ]
  },
  {
   "cell_type": "code",
   "execution_count": 8,
   "id": "41c8b683",
   "metadata": {},
   "outputs": [
    {
     "name": "stdout",
     "output_type": "stream",
     "text": [
      "(1, 2, 3, 4, 5)\n"
     ]
    }
   ],
   "source": [
    "# asterisk = *\n",
    "\n",
    "# *은 여러개의 인자가 들어왔을 때 하나로 패킹, 묶어주는 역할을 한다\n",
    "# 원래 인자는 정해진 개수만큼만 들어올 수 있는데, *을 사용하면 무제한으로 가능하다\n",
    "def print_arg(*args):\n",
    "    print(args)\n",
    "    \n",
    "print_arg(1, 2, 3, 4, 5)"
   ]
  },
  {
   "cell_type": "code",
   "execution_count": 9,
   "id": "c16873e3",
   "metadata": {},
   "outputs": [
    {
     "name": "stdout",
     "output_type": "stream",
     "text": [
      "1 2 3 4 5\n"
     ]
    }
   ],
   "source": [
    "def print_arg(*args):  # 인자를 패킹하기도 하지만\n",
    "    print(*args)  # 인자를 언패킹하기도 한다\n",
    "    \n",
    "print_arg(1, 2, 3, 4, 5)"
   ]
  },
  {
   "cell_type": "code",
   "execution_count": 10,
   "id": "8cb9a3d2",
   "metadata": {},
   "outputs": [
    {
     "name": "stdout",
     "output_type": "stream",
     "text": [
      "1 2\n",
      "a b c\n"
     ]
    }
   ],
   "source": [
    "def print_more(num1, num2, *args):\n",
    "    print(num1, num2)  # 꼭 입력받아야 하는 인자들\n",
    "    print(*args)  # 입력받으면 출력하고 아니면 출력하지 않는다\n",
    "    \n",
    "print_more(1, 2, 'a', 'b', 'c')"
   ]
  },
  {
   "cell_type": "code",
   "execution_count": 11,
   "id": "8be76a2d",
   "metadata": {},
   "outputs": [
    {
     "name": "stdout",
     "output_type": "stream",
     "text": [
      "0 1 2 3 4 5 6 7 8 9\n"
     ]
    }
   ],
   "source": [
    "nums = list(range(10))\n",
    "print(*nums)  # 함수에서 뿐만 아니라 언패킹 기능을 활용할 수 있다"
   ]
  },
  {
   "cell_type": "code",
   "execution_count": 12,
   "id": "9d707c5c",
   "metadata": {},
   "outputs": [
    {
     "name": "stdout",
     "output_type": "stream",
     "text": [
      "(1, 3, 5)\n",
      "(2, 4, 6)\n"
     ]
    }
   ],
   "source": [
    "# 행렬, 테이블 데이터\n",
    "matrix = [\n",
    "    [1, 2],\n",
    "    [3, 4],\n",
    "    [5, 6]\n",
    "]\n",
    "\n",
    "# 1, 3, 5 / 2, 4, 6 이런식으로 출력하고 싶을 때\n",
    "# *은 각각을 하나하나의 원소로 인식하도록 언패킹하는 역할을 한다\n",
    "for item in zip(*matrix):\n",
    "    print(item)"
   ]
  },
  {
   "cell_type": "code",
   "execution_count": 13,
   "id": "70ba527d",
   "metadata": {},
   "outputs": [
    {
     "name": "stdout",
     "output_type": "stream",
     "text": [
      "(1, 3, 5)\n",
      "(2, 4, 6)\n"
     ]
    }
   ],
   "source": [
    "# *matrix = [1, 2], [3, 4], [5, 6]\n",
    "for item in zip([1, 2], [3, 4], [5, 6]):\n",
    "    print(item)"
   ]
  },
  {
   "cell_type": "code",
   "execution_count": 15,
   "id": "aeddab8c",
   "metadata": {},
   "outputs": [
    {
     "name": "stdout",
     "output_type": "stream",
     "text": [
      "0\n",
      "1\n",
      "2\n",
      "3\n"
     ]
    }
   ],
   "source": [
    "# *은 또한 키워드 전용 인수 선언 시 사용한다\n",
    "# * 뒤는 키워드 전용 인수\n",
    "def print_data(data, *, start, end):\n",
    "    for item in data[start:end]:\n",
    "        print(item)\n",
    "        \n",
    "print_data(nums, start=0, end=4)  # 키워드 전용 인수는 꼭 키워드를 사용해야한다"
   ]
  },
  {
   "cell_type": "code",
   "execution_count": 16,
   "id": "968af052",
   "metadata": {},
   "outputs": [
    {
     "ename": "TypeError",
     "evalue": "print_data() takes 1 positional argument but 3 were given",
     "output_type": "error",
     "traceback": [
      "\u001b[0;31m---------------------------------------------------------------------------\u001b[0m",
      "\u001b[0;31mTypeError\u001b[0m                                 Traceback (most recent call last)",
      "\u001b[0;32m/var/folders/d0/m7yn6fkn5q122l8ln587gfdh0000gn/T/ipykernel_14887/4234108123.py\u001b[0m in \u001b[0;36m<module>\u001b[0;34m\u001b[0m\n\u001b[1;32m      3\u001b[0m         \u001b[0mprint\u001b[0m\u001b[0;34m(\u001b[0m\u001b[0mitem\u001b[0m\u001b[0;34m)\u001b[0m\u001b[0;34m\u001b[0m\u001b[0;34m\u001b[0m\u001b[0m\n\u001b[1;32m      4\u001b[0m \u001b[0;34m\u001b[0m\u001b[0m\n\u001b[0;32m----> 5\u001b[0;31m \u001b[0mprint_data\u001b[0m\u001b[0;34m(\u001b[0m\u001b[0mnums\u001b[0m\u001b[0;34m,\u001b[0m \u001b[0;36m0\u001b[0m\u001b[0;34m,\u001b[0m \u001b[0;36m4\u001b[0m\u001b[0;34m)\u001b[0m\u001b[0;34m\u001b[0m\u001b[0;34m\u001b[0m\u001b[0m\n\u001b[0m",
      "\u001b[0;31mTypeError\u001b[0m: print_data() takes 1 positional argument but 3 were given"
     ]
    }
   ],
   "source": [
    "def print_data(data, *, start, end):\n",
    "    for item in data[start:end]:\n",
    "        print(item)\n",
    "        \n",
    "print_data(nums, 0, 4)  # 키워드 전용 인수에 키워드를 사용하지 않고 숫자만 입력하면 오류가 발생한다"
   ]
  },
  {
   "cell_type": "code",
   "execution_count": 20,
   "id": "0d893caf",
   "metadata": {},
   "outputs": [
    {
     "name": "stdout",
     "output_type": "stream",
     "text": [
      "{'fruit': 'apple', 'color': 'red'}\n"
     ]
    }
   ],
   "source": [
    "# kargs(keyword arguments) = **\n",
    "\n",
    "def print_kargs(**kargs):\n",
    "    print(kargs)\n",
    "    \n",
    "print_kargs(fruit='apple', color='red')  # 딕셔너리로 반환된다"
   ]
  },
  {
   "cell_type": "code",
   "execution_count": 18,
   "id": "2bf8192a",
   "metadata": {},
   "outputs": [
    {
     "ename": "TypeError",
     "evalue": "'fruit' is an invalid keyword argument for print()",
     "output_type": "error",
     "traceback": [
      "\u001b[0;31m---------------------------------------------------------------------------\u001b[0m",
      "\u001b[0;31mTypeError\u001b[0m                                 Traceback (most recent call last)",
      "\u001b[0;32m/var/folders/d0/m7yn6fkn5q122l8ln587gfdh0000gn/T/ipykernel_14887/3277120078.py\u001b[0m in \u001b[0;36m<module>\u001b[0;34m\u001b[0m\n\u001b[1;32m      2\u001b[0m     \u001b[0mprint\u001b[0m\u001b[0;34m(\u001b[0m\u001b[0;34m**\u001b[0m\u001b[0mkargs\u001b[0m\u001b[0;34m)\u001b[0m\u001b[0;34m\u001b[0m\u001b[0;34m\u001b[0m\u001b[0m\n\u001b[1;32m      3\u001b[0m \u001b[0;34m\u001b[0m\u001b[0m\n\u001b[0;32m----> 4\u001b[0;31m \u001b[0mprint_kargs\u001b[0m\u001b[0;34m(\u001b[0m\u001b[0mfruit\u001b[0m\u001b[0;34m=\u001b[0m\u001b[0;34m'apple'\u001b[0m\u001b[0;34m,\u001b[0m \u001b[0mcolor\u001b[0m\u001b[0;34m=\u001b[0m\u001b[0;34m'red'\u001b[0m\u001b[0;34m)\u001b[0m\u001b[0;34m\u001b[0m\u001b[0;34m\u001b[0m\u001b[0m\n\u001b[0m",
      "\u001b[0;32m/var/folders/d0/m7yn6fkn5q122l8ln587gfdh0000gn/T/ipykernel_14887/3277120078.py\u001b[0m in \u001b[0;36mprint_kargs\u001b[0;34m(**kargs)\u001b[0m\n\u001b[1;32m      1\u001b[0m \u001b[0;32mdef\u001b[0m \u001b[0mprint_kargs\u001b[0m\u001b[0;34m(\u001b[0m\u001b[0;34m**\u001b[0m\u001b[0mkargs\u001b[0m\u001b[0;34m)\u001b[0m\u001b[0;34m:\u001b[0m\u001b[0;34m\u001b[0m\u001b[0;34m\u001b[0m\u001b[0m\n\u001b[0;32m----> 2\u001b[0;31m     \u001b[0mprint\u001b[0m\u001b[0;34m(\u001b[0m\u001b[0;34m**\u001b[0m\u001b[0mkargs\u001b[0m\u001b[0;34m)\u001b[0m\u001b[0;34m\u001b[0m\u001b[0;34m\u001b[0m\u001b[0m\n\u001b[0m\u001b[1;32m      3\u001b[0m \u001b[0;34m\u001b[0m\u001b[0m\n\u001b[1;32m      4\u001b[0m \u001b[0mprint_kargs\u001b[0m\u001b[0;34m(\u001b[0m\u001b[0mfruit\u001b[0m\u001b[0;34m=\u001b[0m\u001b[0;34m'apple'\u001b[0m\u001b[0;34m,\u001b[0m \u001b[0mcolor\u001b[0m\u001b[0;34m=\u001b[0m\u001b[0;34m'red'\u001b[0m\u001b[0;34m)\u001b[0m\u001b[0;34m\u001b[0m\u001b[0;34m\u001b[0m\u001b[0m\n",
      "\u001b[0;31mTypeError\u001b[0m: 'fruit' is an invalid keyword argument for print()"
     ]
    }
   ],
   "source": [
    "def print_kargs(**kargs):\n",
    "    print(**kargs)  # *과 달리 언패킹 기능은 없다\n",
    "    \n",
    "print_kargs(fruit='apple', color='red')"
   ]
  },
  {
   "cell_type": "code",
   "execution_count": 21,
   "id": "5ceb4fdd",
   "metadata": {},
   "outputs": [
    {
     "name": "stdout",
     "output_type": "stream",
     "text": [
      "{'fruit': 'apple', 'color': 'red'}\n",
      "{'fruit': 'banana', 'color': 'red'}\n",
      "{'fruit': 'kiwi', 'color': 'red'}\n"
     ]
    }
   ],
   "source": [
    "for fruit in ['apple', 'banana', 'kiwi']:\n",
    "    print_kargs(fruit=fruit, color='red')"
   ]
  },
  {
   "cell_type": "code",
   "execution_count": 24,
   "id": "b4b69211",
   "metadata": {},
   "outputs": [
    {
     "name": "stdout",
     "output_type": "stream",
     "text": [
      "{'fruit': 'apple', 'color': 'red'}\n"
     ]
    }
   ],
   "source": [
    "def print_kargs(**kargs):\n",
    "    # 키에 밸류를 직접 넣어줄수 있지만 키가 없을 경우 오류가 발생하기 때문에 get() 함수를 사용하는 것이 바람직\n",
    "    kargs['fruit'] = 'apple'  \n",
    "    print(kargs)\n",
    "    \n",
    "print_kargs(fruit='apple', color='red')"
   ]
  },
  {
   "cell_type": "code",
   "execution_count": 25,
   "id": "8bb1e507",
   "metadata": {},
   "outputs": [
    {
     "ename": "TypeError",
     "evalue": "print_all() got multiple values for argument 'num1'",
     "output_type": "error",
     "traceback": [
      "\u001b[0;31m---------------------------------------------------------------------------\u001b[0m",
      "\u001b[0;31mTypeError\u001b[0m                                 Traceback (most recent call last)",
      "\u001b[0;32m/var/folders/d0/m7yn6fkn5q122l8ln587gfdh0000gn/T/ipykernel_14887/2892627401.py\u001b[0m in \u001b[0;36m<module>\u001b[0;34m\u001b[0m\n\u001b[1;32m      4\u001b[0m     \u001b[0mprint\u001b[0m\u001b[0;34m(\u001b[0m\u001b[0mkargs\u001b[0m\u001b[0;34m)\u001b[0m\u001b[0;34m\u001b[0m\u001b[0;34m\u001b[0m\u001b[0m\n\u001b[1;32m      5\u001b[0m \u001b[0;34m\u001b[0m\u001b[0m\n\u001b[0;32m----> 6\u001b[0;31m \u001b[0mprint_all\u001b[0m\u001b[0;34m(\u001b[0m\u001b[0;36m1\u001b[0m\u001b[0;34m,\u001b[0m \u001b[0;36m2\u001b[0m\u001b[0;34m,\u001b[0m \u001b[0;36m3\u001b[0m\u001b[0;34m,\u001b[0m \u001b[0;36m4\u001b[0m\u001b[0;34m,\u001b[0m \u001b[0;36m5\u001b[0m\u001b[0;34m,\u001b[0m \u001b[0mnum1\u001b[0m\u001b[0;34m=\u001b[0m\u001b[0;36m6\u001b[0m\u001b[0;34m)\u001b[0m\u001b[0;34m\u001b[0m\u001b[0;34m\u001b[0m\u001b[0m\n\u001b[0m",
      "\u001b[0;31mTypeError\u001b[0m: print_all() got multiple values for argument 'num1'"
     ]
    }
   ],
   "source": [
    "def print_all(num1, num2, *args, **kargs):\n",
    "    print(num1, num2)\n",
    "    print(sum(args))\n",
    "    print(kargs)\n",
    "    \n",
    "print_all(1, 2, 3, 4, 5, num1=6)\n",
    "# keyword argument가 positional argument와 이름이 같으면 오류가 발생한다 (num1)"
   ]
  },
  {
   "cell_type": "code",
   "execution_count": 26,
   "id": "ef6ef680",
   "metadata": {},
   "outputs": [
    {
     "name": "stdout",
     "output_type": "stream",
     "text": [
      "1 2\n",
      "12\n",
      "{'keyword_num': 6}\n"
     ]
    }
   ],
   "source": [
    "def print_all(num1, num2, *args, **kargs):\n",
    "    print(num1, num2)\n",
    "    print(sum(args))\n",
    "    print(kargs)\n",
    "    \n",
    "print_all(1, 2, 3, 4, 5, keyword_num=6)\n",
    "# keyword argumnet의 이름을 positional argument와 다르게 해줘야함!"
   ]
  }
 ],
 "metadata": {
  "kernelspec": {
   "display_name": "Python 3 (ipykernel)",
   "language": "python",
   "name": "python3"
  },
  "language_info": {
   "codemirror_mode": {
    "name": "ipython",
    "version": 3
   },
   "file_extension": ".py",
   "mimetype": "text/x-python",
   "name": "python",
   "nbconvert_exporter": "python",
   "pygments_lexer": "ipython3",
   "version": "3.9.7"
  }
 },
 "nbformat": 4,
 "nbformat_minor": 5
}
