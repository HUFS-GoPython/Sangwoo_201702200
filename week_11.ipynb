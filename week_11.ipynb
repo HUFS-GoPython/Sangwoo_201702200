{
 "cells": [
  {
   "cell_type": "markdown",
   "id": "0378c0eb",
   "metadata": {},
   "source": [
    "## 상속 (inheritance)\n",
    "- 클래스를 재사용, 한 클래스의 모든 속성을 그대로 가져와서 쓸 때\n",
    "- 반복되는 부분을 가져온다 -> 물려받다 -> 상속\n",
    "- B가 A를 상속받은 경우\n",
    "    - A = 부모, 슈퍼, 베이스\n",
    "    - B = 자식, 서브, derived\n",
    "- 자식 클래스는 부모 클래스를 구체화한다. 부모를 물려받는 것 이외에 추가나 변경도 가능하다.\n",
    "- is-a 관계: 자식 is-a 부모 (자식은 부모에 포함된다)"
   ]
  },
  {
   "cell_type": "code",
   "execution_count": 2,
   "id": "a79b3045",
   "metadata": {},
   "outputs": [
    {
     "ename": "TypeError",
     "evalue": "__init__() missing 1 required positional argument: 'speed'",
     "output_type": "error",
     "traceback": [
      "\u001b[0;31m---------------------------------------------------------------------------\u001b[0m",
      "\u001b[0;31mTypeError\u001b[0m                                 Traceback (most recent call last)",
      "\u001b[0;32m/var/folders/d0/m7yn6fkn5q122l8ln587gfdh0000gn/T/ipykernel_337/1555924577.py\u001b[0m in \u001b[0;36m<module>\u001b[0;34m\u001b[0m\n\u001b[1;32m     13\u001b[0m \u001b[0;31m# Car 클래스에는 받아야할 argument가 없는데 speed가 필요하다고 오류가 뜬다\u001b[0m\u001b[0;34m\u001b[0m\u001b[0;34m\u001b[0m\u001b[0m\n\u001b[1;32m     14\u001b[0m \u001b[0;31m# Vehicle을 상속받았기 때문!\u001b[0m\u001b[0;34m\u001b[0m\u001b[0;34m\u001b[0m\u001b[0m\n\u001b[0;32m---> 15\u001b[0;31m \u001b[0mcar\u001b[0m \u001b[0;34m=\u001b[0m \u001b[0mCar\u001b[0m\u001b[0;34m(\u001b[0m\u001b[0;34m)\u001b[0m\u001b[0;34m\u001b[0m\u001b[0;34m\u001b[0m\u001b[0m\n\u001b[0m",
      "\u001b[0;31mTypeError\u001b[0m: __init__() missing 1 required positional argument: 'speed'"
     ]
    }
   ],
   "source": [
    "# parent\n",
    "class Vehicle:\n",
    "    def __init__(self, speed):\n",
    "        self.speed = speed\n",
    "        \n",
    "    def go(self):\n",
    "        print(f'{self.speed}의 속도로 달린다.')\n",
    "        \n",
    "# child\n",
    "class Car(Vehicle):  # 부모 클래스인 Vehicle을 상속\n",
    "    pass\n",
    "\n",
    "# Car 클래스에는 받아야할 argument가 없는데 speed가 필요하다고 오류가 뜬다 \n",
    "# Vehicle을 상속 받았기 때문!\n",
    "car = Car()"
   ]
  },
  {
   "cell_type": "code",
   "execution_count": 4,
   "id": "d87debaf",
   "metadata": {},
   "outputs": [
    {
     "name": "stdout",
     "output_type": "stream",
     "text": [
      "20km/h의 속도로 달린다.\n"
     ]
    }
   ],
   "source": [
    "# 부모 클래스에 필요한 argument인 speed를 입력해줘야 선언 가능\n",
    "car = Car('20km/h')\n",
    "\n",
    "# 부모의 메소드 또한 사용 가능하다 (상속 받았기 때문)\n",
    "car.go()"
   ]
  },
  {
   "cell_type": "markdown",
   "id": "c54635dc",
   "metadata": {},
   "source": [
    "## 변수 추가 및 변경"
   ]
  },
  {
   "cell_type": "code",
   "execution_count": 7,
   "id": "38071495",
   "metadata": {},
   "outputs": [
    {
     "ename": "AttributeError",
     "evalue": "'Vehicle' object has no attribute 'brand'",
     "output_type": "error",
     "traceback": [
      "\u001b[0;31m---------------------------------------------------------------------------\u001b[0m",
      "\u001b[0;31mAttributeError\u001b[0m                            Traceback (most recent call last)",
      "\u001b[0;32m/var/folders/d0/m7yn6fkn5q122l8ln587gfdh0000gn/T/ipykernel_337/4002703719.py\u001b[0m in \u001b[0;36m<module>\u001b[0;34m\u001b[0m\n\u001b[1;32m     13\u001b[0m \u001b[0;34m\u001b[0m\u001b[0m\n\u001b[1;32m     14\u001b[0m \u001b[0mv\u001b[0m \u001b[0;34m=\u001b[0m \u001b[0mVehicle\u001b[0m\u001b[0;34m(\u001b[0m\u001b[0;34m'33km/h'\u001b[0m\u001b[0;34m)\u001b[0m\u001b[0;34m\u001b[0m\u001b[0;34m\u001b[0m\u001b[0m\n\u001b[0;32m---> 15\u001b[0;31m \u001b[0mv\u001b[0m\u001b[0;34m.\u001b[0m\u001b[0mbrand\u001b[0m  \u001b[0;31m# 부모는 brand가 없다\u001b[0m\u001b[0;34m\u001b[0m\u001b[0;34m\u001b[0m\u001b[0m\n\u001b[0m",
      "\u001b[0;31mAttributeError\u001b[0m: 'Vehicle' object has no attribute 'brand'"
     ]
    }
   ],
   "source": [
    "class Car(Vehicle):\n",
    "    def __init__(self, speed, brand):\n",
    "        # speed는 부모 클래스의 변수\n",
    "        # 부모의 변수 중에서 가져올 것을 선택적으로 괄호 안에 쓰기\n",
    "        super().__init__(speed)\n",
    "        \n",
    "        # brand는 자식 클래스의 변수\n",
    "        # 자식만의 고유한 특성이므로 부모는 사용 불가\n",
    "        self.brand = brand\n",
    "        \n",
    "car2 = Car('20km/h', 'kia')\n",
    "car2.brand  # 자식은 brand가 있지만\n",
    "\n",
    "v = Vehicle('33km/h')\n",
    "v.brand  # 부모는 brand가 없다"
   ]
  },
  {
   "cell_type": "markdown",
   "id": "37c3b30d",
   "metadata": {},
   "source": [
    "## 메소드 추가 및 변경\n",
    "- 자식이 부모의 메소드를 오버라이드하면 부모의 메소드는 잊힌다"
   ]
  },
  {
   "cell_type": "code",
   "execution_count": 9,
   "id": "7bde6c39",
   "metadata": {},
   "outputs": [
    {
     "name": "stdout",
     "output_type": "stream",
     "text": [
      "차종 mini의 속도 33km/h\n",
      "33km/h의 속도로 달린다.\n"
     ]
    }
   ],
   "source": [
    "class Car(Vehicle):\n",
    "    def __init__(self, speed, brand):\n",
    "        super().__init__(speed)\n",
    "        self.brand = brand\n",
    "        \n",
    "    def go(self):\n",
    "        # 오버라이드(override): 부모의 메소드를 변경(재정의)\n",
    "        print(f'차종 {self.brand}의 속도 {self.speed}')\n",
    "        \n",
    "        # 부모의 원래 메소드도 함께 가져가고 싶다면 super()를 사용\n",
    "        super().go()\n",
    "        \n",
    "    # 자식에만 있는 메소드 추가, 변수와 같이 부모는 사용이 불가\n",
    "    def stop(self):\n",
    "        pass\n",
    "    \n",
    "car3 = Car('33km/h', 'mini')\n",
    "car3.go()\n",
    "\n",
    "# 자식의 go 메소드\n",
    "# 부모의 go 메소드"
   ]
  },
  {
   "cell_type": "markdown",
   "id": "06502c3b",
   "metadata": {},
   "source": [
    "## 실습\n",
    "- Person 클래스를 상속받는 Doctor, Male, Female 클래스 생성\n",
    "- 세 클래스는 각각 Person 클래스에서 받은 이름 앞에 Dr., Mr., Mrs.를 붙인다"
   ]
  },
  {
   "cell_type": "code",
   "execution_count": 10,
   "id": "8ef80850",
   "metadata": {},
   "outputs": [
    {
     "name": "stdout",
     "output_type": "stream",
     "text": [
      "Dr.Yong\n",
      "Mr.Yong\n",
      "Mrs.Yong\n"
     ]
    }
   ],
   "source": [
    "class Person:  # Yong\n",
    "    def __init__(self, name):\n",
    "        self.name = name\n",
    "        \n",
    "class Doctor(Person):  # Dr.Yong\n",
    "    def __init__(self, name):\n",
    "        super().__init__('Dr.' + name)\n",
    "        \n",
    "class Male(Person):  # Mr.Yong\n",
    "    def __init__(self, name):\n",
    "        super().__init__('Mr.' + name)\n",
    "        \n",
    "class Female(Person):  # Mrs.Yong\n",
    "    def __init__(self, name):\n",
    "        super().__init__('Mrs.' + name)\n",
    "        \n",
    "doctor = Doctor('Yong')\n",
    "print(doctor.name)\n",
    "\n",
    "male = Male('Yong')\n",
    "print(male.name)\n",
    "\n",
    "female = Female('Yong')\n",
    "print(female.name)"
   ]
  },
  {
   "cell_type": "markdown",
   "id": "77a709cf",
   "metadata": {},
   "source": [
    "## 다중상속\n",
    "- 상속받은 클래스의 가까운 순서 = method resolution order (MRO)"
   ]
  },
  {
   "cell_type": "code",
   "execution_count": 11,
   "id": "402f4f14",
   "metadata": {},
   "outputs": [
    {
     "name": "stdout",
     "output_type": "stream",
     "text": [
      "히이호\n",
      "이히힝\n",
      "[<class '__main__.Mule'>, <class '__main__.Donkey'>, <class '__main__.Horse'>, <class '__main__.Animal'>, <class 'object'>]\n"
     ]
    }
   ],
   "source": [
    "# 가족 호칭을 실제로 쓰지는 않지만 이해를 위해 사용함\n",
    "\n",
    "# grandparent class \n",
    "class Animal:\n",
    "    def says(self):\n",
    "        return '동물이 운다.'\n",
    "    \n",
    "# parent class\n",
    "class Horse(Animal):\n",
    "    def says(self):\n",
    "        return '이히힝'\n",
    "    \n",
    "class Donkey(Animal):\n",
    "    def says(self):\n",
    "        return '히이호'\n",
    "    \n",
    "# child class\n",
    "# 다중 상속할 경우, 상속하는 클래스들을 특성이 가까운 순서대로 ','로 구분하여 써준다\n",
    "class Mule(Donkey, Horse):\n",
    "    pass\n",
    "\n",
    "class Hinny(Horse, Donkey):\n",
    "    pass\n",
    "\n",
    "print(Mule().says()) # Donkey가 앞에 있으므로 '히이호'를 반환\n",
    "print(Hinny().says()) # Horse가 앞에 있으므로 '이히힝'을 반환\n",
    "\n",
    "print(Mule.mro()) # 상속의 가까운 순서대로 클래스가 나온다 (사람으로 따지면 촌수 거슬러 올라가는 느낌?)"
   ]
  },
  {
   "cell_type": "markdown",
   "id": "7047f1f5",
   "metadata": {},
   "source": [
    "## 다형성\n",
    "- 형태가 달라도 기능은 같다\n",
    "- 객체가 달라도 같은 메소드를 가지고 있으면 기능을 수행할 수 있다"
   ]
  },
  {
   "cell_type": "code",
   "execution_count": 12,
   "id": "2acbb42e",
   "metadata": {},
   "outputs": [
    {
     "name": "stdout",
     "output_type": "stream",
     "text": [
      "히이호\n",
      "히이호\n",
      "동물이 운다.\n"
     ]
    }
   ],
   "source": [
    "# 객체 이름이 전부 다르지만 모두 says() 메소드를 가지고 있기 때문에 기능을 수행할 수 있다\n",
    "for animal in [Mule(), Donkey(), Animal()]:\n",
    "    print(animal.says())  # 각자의 says() 메소드 기능을 수행"
   ]
  },
  {
   "cell_type": "markdown",
   "id": "96bb145e",
   "metadata": {},
   "source": [
    "## 메소드 타입\n",
    "- 인스턴스 메소드\n",
    "    - self가 함수의 첫 인자이다\n",
    "    - 객체를 생성해야 사용이 가능하다\n",
    "    \n",
    "\n",
    "- 클래스 메소드\n",
    "    - 객체를 생성하지 않아도 사용이 가능하다\n",
    "    - 클래스에 접근하는 메소드이다\n",
    "    - @classmethod라는 데코레이터를 사용한다\n",
    "    - cls라는 예약어를 사용한다\n",
    "        - cls = class 그 자체\n",
    "    - cls가 함수의 첫 인자이다\n",
    "    \n",
    "\n",
    "- 정적 메소드\n",
    "    - 객체를 생성하지 않아도 사용이 가능하다\n",
    "    - 클래스랑 전혀 상관이 없기 때문에 접근이 가능하다\n",
    "    - 클래스와 상관이 없지만 내용이나 기능이 비슷해서 클래스에 넣어둔다\n",
    "    - @staticmethod라는 데코레이터를 사용한다\n",
    "    \n",
    "    \n",
    "- 추상 메소드\n",
    "    - 추상 클래스를 선언한 후 사용한다\n",
    "        - 추상 클래스(abstract class) = 이름만 존재하는 클래스\n",
    "    - 코드의 설계도 역할을 한다\n",
    "    - 추상 클래스를 상속하는 자식 클래스가 반드시 구현해야 하는 메소드를 정의한다 (obligation)"
   ]
  },
  {
   "cell_type": "code",
   "execution_count": 13,
   "id": "dd1584ac",
   "metadata": {},
   "outputs": [
    {
     "ename": "TypeError",
     "evalue": "says() missing 1 required positional argument: 'self'",
     "output_type": "error",
     "traceback": [
      "\u001b[0;31m---------------------------------------------------------------------------\u001b[0m",
      "\u001b[0;31mTypeError\u001b[0m                                 Traceback (most recent call last)",
      "\u001b[0;32m/var/folders/d0/m7yn6fkn5q122l8ln587gfdh0000gn/T/ipykernel_337/3890471994.py\u001b[0m in \u001b[0;36m<module>\u001b[0;34m\u001b[0m\n\u001b[1;32m      6\u001b[0m \u001b[0;34m\u001b[0m\u001b[0m\n\u001b[1;32m      7\u001b[0m \u001b[0;31m# 객체를 생성하지 않으면 사용이 불가능하다 -> 오류!\u001b[0m\u001b[0;34m\u001b[0m\u001b[0;34m\u001b[0m\u001b[0m\n\u001b[0;32m----> 8\u001b[0;31m \u001b[0mMule\u001b[0m\u001b[0;34m.\u001b[0m\u001b[0msays\u001b[0m\u001b[0;34m(\u001b[0m\u001b[0;34m)\u001b[0m\u001b[0;34m\u001b[0m\u001b[0;34m\u001b[0m\u001b[0m\n\u001b[0m",
      "\u001b[0;31mTypeError\u001b[0m: says() missing 1 required positional argument: 'self'"
     ]
    }
   ],
   "source": [
    "# 인스턴스 메소드\n",
    "\n",
    "# 객체를 생성하면 사용이 가능하지만\n",
    "a = Mule()\n",
    "a.says()\n",
    "\n",
    "# 객체를 생성하지 않으면 사용이 불가능하다 -> 오류!\n",
    "# 바로 클래스에 접근 불가\n",
    "Mule.says()"
   ]
  },
  {
   "cell_type": "code",
   "execution_count": 15,
   "id": "82c543e9",
   "metadata": {},
   "outputs": [
    {
     "data": {
      "text/plain": [
       "0"
      ]
     },
     "execution_count": 15,
     "metadata": {},
     "output_type": "execute_result"
    }
   ],
   "source": [
    "# 클래스 메소드\n",
    "\n",
    "class A:\n",
    "    cnt = 0\n",
    "    \n",
    "    @classmethod\n",
    "    def move(cls):\n",
    "        return cls.cnt\n",
    "\n",
    "# 객체 생성없이 클래스에 바로 접근이 가능\n",
    "A.move()"
   ]
  },
  {
   "cell_type": "code",
   "execution_count": 16,
   "id": "76e2923a",
   "metadata": {},
   "outputs": [
    {
     "name": "stdout",
     "output_type": "stream",
     "text": [
      "kim\n",
      "24\n"
     ]
    }
   ],
   "source": [
    "# 클래스 메소드\n",
    "\n",
    "class Person:\n",
    "    def __init__(self, name, age):\n",
    "        self.name = name\n",
    "        self.age = age\n",
    "        \n",
    "    @classmethod\n",
    "    def tuple_object(cls, args):\n",
    "        return cls(args[0], args[1])\n",
    "               # cls.args의 방식 뿐만 아닌 cls(args, args)의 방식으로도 접근이 가능하다\n",
    "        \n",
    "name = 'kim'\n",
    "age = 24\n",
    "info = name, age\n",
    "# info라는 튜플을 통해 객체 생성\n",
    "p = Person.tuple_object(info)\n",
    "\n",
    "print(p.name)\n",
    "print(p.age)"
   ]
  },
  {
   "cell_type": "code",
   "execution_count": 17,
   "id": "88786129",
   "metadata": {},
   "outputs": [
    {
     "data": {
      "text/plain": [
       "'객체 수: 2'"
      ]
     },
     "execution_count": 17,
     "metadata": {},
     "output_type": "execute_result"
    }
   ],
   "source": [
    "# 클래스 메소드\n",
    "\n",
    "# 아래와 같은 경우 cnt+=1의 위치는 어디?\n",
    "\n",
    "class A:\n",
    "    cnt = 0\n",
    "    \n",
    "    def __init__(self):\n",
    "        A.cnt += 1  # 여기\n",
    "        \n",
    "    @classmethod\n",
    "    def count(cls):\n",
    "        return f'객체 수: {cls.cnt}'\n",
    "    \n",
    "A()\n",
    "A()\n",
    "A.count()"
   ]
  },
  {
   "cell_type": "code",
   "execution_count": 19,
   "id": "9d15db10",
   "metadata": {},
   "outputs": [
    {
     "name": "stdout",
     "output_type": "stream",
     "text": [
      "hi\n"
     ]
    }
   ],
   "source": [
    "# 정적 메소드\n",
    "\n",
    "class Coyote:\n",
    "    \n",
    "    @staticmethod\n",
    "    # 정적 메소드는 self를 사용하지 않는다\n",
    "    # 객체와 상관이 없기 때문\n",
    "    # 딕셔너리에 변수를 저장하는 것과 비슷하다\n",
    "    def says():\n",
    "        print('hi')\n",
    "        \n",
    "Coyote.says()"
   ]
  },
  {
   "cell_type": "code",
   "execution_count": 21,
   "id": "f5208b33",
   "metadata": {},
   "outputs": [
    {
     "ename": "TypeError",
     "evalue": "Can't instantiate abstract class Car with abstract method go",
     "output_type": "error",
     "traceback": [
      "\u001b[0;31m---------------------------------------------------------------------------\u001b[0m",
      "\u001b[0;31mTypeError\u001b[0m                                 Traceback (most recent call last)",
      "\u001b[0;32m/var/folders/d0/m7yn6fkn5q122l8ln587gfdh0000gn/T/ipykernel_337/2750022530.py\u001b[0m in \u001b[0;36m<module>\u001b[0;34m\u001b[0m\n\u001b[1;32m     14\u001b[0m     \u001b[0;32mpass\u001b[0m\u001b[0;34m\u001b[0m\u001b[0;34m\u001b[0m\u001b[0m\n\u001b[1;32m     15\u001b[0m \u001b[0;34m\u001b[0m\u001b[0m\n\u001b[0;32m---> 16\u001b[0;31m \u001b[0mCar\u001b[0m\u001b[0;34m(\u001b[0m\u001b[0;34m)\u001b[0m\u001b[0;34m\u001b[0m\u001b[0;34m\u001b[0m\u001b[0m\n\u001b[0m\u001b[1;32m     17\u001b[0m \u001b[0;31m# go를 override하지 않으면 선언이 불가하다\u001b[0m\u001b[0;34m\u001b[0m\u001b[0;34m\u001b[0m\u001b[0m\n\u001b[1;32m     18\u001b[0m \u001b[0;31m# 추상 클래스를 상속하는 자식 클래스가 꼭 해당 메소드를 구현하도록 의무를 주는 역할\u001b[0m\u001b[0;34m\u001b[0m\u001b[0;34m\u001b[0m\u001b[0m\n",
      "\u001b[0;31mTypeError\u001b[0m: Can't instantiate abstract class Car with abstract method go"
     ]
    }
   ],
   "source": [
    "# 추상 메소드\n",
    "\n",
    "# 추상 클래스 설정하는 방법\n",
    "from abc import *\n",
    "\n",
    "class Vehicle(metaclass=ABCMeta):\n",
    "    speed = '속도'\n",
    "    \n",
    "    @abstractmethod\n",
    "    def go(self):\n",
    "        print('탈 것이 간다.')\n",
    "        \n",
    "class Car(Vehicle):\n",
    "    pass\n",
    "\n",
    "Car() \n",
    "# go를 override하지 않으면 선언이 불가하다\n",
    "# 추상 클래스를 상속하는 자식 클래스가 꼭 해당 메소드를 구현하도록 의무를 주는 역할"
   ]
  },
  {
   "cell_type": "code",
   "execution_count": 23,
   "id": "9669c738",
   "metadata": {},
   "outputs": [
    {
     "name": "stdout",
     "output_type": "stream",
     "text": [
      "go를 override해야 선언이 가능합니다.\n"
     ]
    }
   ],
   "source": [
    "class Car(Vehicle):\n",
    "    def go(self):\n",
    "        print('go를 override해야 선언이 가능합니다.')\n",
    "        \n",
    "car = Car()\n",
    "car.go()"
   ]
  }
 ],
 "metadata": {
  "kernelspec": {
   "display_name": "Python 3 (ipykernel)",
   "language": "python",
   "name": "python3"
  },
  "language_info": {
   "codemirror_mode": {
    "name": "ipython",
    "version": 3
   },
   "file_extension": ".py",
   "mimetype": "text/x-python",
   "name": "python",
   "nbconvert_exporter": "python",
   "pygments_lexer": "ipython3",
   "version": "3.9.7"
  }
 },
 "nbformat": 4,
 "nbformat_minor": 5
}
