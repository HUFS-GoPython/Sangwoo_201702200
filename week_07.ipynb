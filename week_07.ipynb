{
 "cells": [
  {
   "cell_type": "markdown",
   "id": "d30db5e6",
   "metadata": {},
   "source": [
    "## 함수\n",
    "1. 정의\n",
    "2. 인수\n",
    "3. 호출방식"
   ]
  },
  {
   "cell_type": "markdown",
   "id": "5c6fd1c9",
   "metadata": {},
   "source": [
    "### 1. 정의\n",
    "- 함수는 코드의 덩어리, 코드의 묶음\n",
    "- 코드를 한 줄로 간편하게 재사용하기 위해서 함수를 사용한다.\n",
    "\n",
    "\n",
    "- 함수는 정의하는 부분(define)과 호출하는 부분(call)이 있다.\n",
    "    - 정의\n",
    "    \n",
    "          def 함수이름(매개변수1, 2, 3, ...):\n",
    "              수행문1\n",
    "              수행문2\n",
    "              ....\n",
    "              return 반환값\n",
    "    - 호출\n",
    "    \n",
    "          함수이름(인수1, 2, 3, ...)\n",
    "    \n",
    "    \n",
    "- 함수의 4가지 케이스\n",
    "    1. 매개변수, 반환값 둘다 없는 경우\n",
    "    2. 매개변수, 반환값 둘다 있는 경우\n",
    "    3. 매개변수만 있고 반환값은 없는 경우\n",
    "    4. 매개변수는 없고 반환값만 있는 경우\n"
   ]
  },
  {
   "cell_type": "code",
   "execution_count": 1,
   "id": "218f8e37",
   "metadata": {},
   "outputs": [
    {
     "name": "stdout",
     "output_type": "stream",
     "text": [
      "quack\n"
     ]
    }
   ],
   "source": [
    "# case 1.\n",
    "# print는 되지만, 어떤 변수로 받아서 사용 할수는 없다.\n",
    "\n",
    "def make_a_sound():\n",
    "    print('quack')\n",
    "\n",
    "# 반환값이 없을 때는 return None이 생략된 것\n",
    "\n",
    "make_a_sound()"
   ]
  },
  {
   "cell_type": "code",
   "execution_count": 2,
   "id": "90e10d11",
   "metadata": {},
   "outputs": [
    {
     "data": {
      "text/plain": [
       "5"
      ]
     },
     "execution_count": 2,
     "metadata": {},
     "output_type": "execute_result"
    }
   ],
   "source": [
    "# case 2.\n",
    "# 'y = x + 1'을 함수로 짜보기\n",
    "# x -> 매개변수, y -> 반환값, x + 1 -> 수행문\n",
    "\n",
    "def f(x):  # 매개변수 x\n",
    "    y = x + 1  # 수행문\n",
    "    return y  # 반환값\n",
    "\n",
    "# 수행문이 간단한 경우는 바로 return \n",
    "def f(x):\n",
    "    return x + 1\n",
    "\n",
    "# 호출\n",
    "f(4)"
   ]
  },
  {
   "cell_type": "code",
   "execution_count": 4,
   "id": "a6e3a8bf",
   "metadata": {},
   "outputs": [
    {
     "name": "stdout",
     "output_type": "stream",
     "text": [
      "yay\n"
     ]
    }
   ],
   "source": [
    "# case 3.\n",
    "# 매개변수만 있는 경우\n",
    "\n",
    "def make_a_sound(sound):\n",
    "    print(sound)\n",
    "\n",
    "make_a_sound('yay')"
   ]
  },
  {
   "cell_type": "code",
   "execution_count": 6,
   "id": "e4502191",
   "metadata": {},
   "outputs": [
    {
     "name": "stdout",
     "output_type": "stream",
     "text": [
      "Splendid\n"
     ]
    }
   ],
   "source": [
    "# case 4.\n",
    "# 반환값만 있는 경우\n",
    "\n",
    "def agree():\n",
    "    return True\n",
    "\n",
    "agree()  # True\n",
    "\n",
    "if agree():\n",
    "    print('Splendid')\n",
    "else:\n",
    "    print('unexpected!')"
   ]
  },
  {
   "cell_type": "markdown",
   "id": "5ea0788b",
   "metadata": {},
   "source": [
    "### 함수 이름 짓기\n",
    "- 소문자만 사용한다.\n",
    "    - splitWord (x)\n",
    "    - split_word (o)\n",
    "- 동작과 관련되어 있기 때문에 '동사 + 명사'의 형태를 주로 사용한다.\n",
    "- 클래스는 주로 명사로 짓기 때문에, 함수는 명사로만 짓지 않는다.\n",
    "    - def word(): (x)\n",
    "    - def find_word(): (o)\n",
    "- 띄어쓰기가 필요할 땐 언더바를 사용한다.\n",
    "- 줄임말은 되도록 사용하지 않는다.\n",
    "    - 마음대로 줄이지 않는다. \n",
    "        - split -> splt (x)\n",
    "    - 코더들이 보통 줄이는 방법은 괜찮다.\n",
    "        - calculate -> calc (o)"
   ]
  },
  {
   "cell_type": "markdown",
   "id": "b1c43eaf",
   "metadata": {},
   "source": [
    "### 2. 인수\n",
    "- 매개변수와 인수\n",
    "    - 매개변수는 함수 내부(인터페이스)에서 유효한 변수\n",
    "    - 인수는 실제 매개변수에 대입되는 변수\n",
    "    - 함수 호출 시에 인수가 매개변수에 복제된다."
   ]
  },
  {
   "cell_type": "code",
   "execution_count": 8,
   "id": "7b981e86",
   "metadata": {},
   "outputs": [
    {
     "name": "stdout",
     "output_type": "stream",
     "text": [
      "yay\n"
     ]
    }
   ],
   "source": [
    "# sound는 매개변수, yay는 인수\n",
    "\n",
    "def make_a_sound(sound):  # 매개변수\n",
    "    print(sound)\n",
    "    \n",
    "make_a_sound('yay')  # 인수"
   ]
  },
  {
   "cell_type": "code",
   "execution_count": 9,
   "id": "a80f4324",
   "metadata": {},
   "outputs": [
    {
     "ename": "NameError",
     "evalue": "name 'sound' is not defined",
     "output_type": "error",
     "traceback": [
      "\u001b[0;31m---------------------------------------------------------------------------\u001b[0m",
      "\u001b[0;31mNameError\u001b[0m                                 Traceback (most recent call last)",
      "\u001b[0;32m/var/folders/d0/m7yn6fkn5q122l8ln587gfdh0000gn/T/ipykernel_15086/4170449866.py\u001b[0m in \u001b[0;36m<module>\u001b[0;34m\u001b[0m\n\u001b[1;32m      1\u001b[0m \u001b[0;31m# 매개변수는 함수를 빠져나오면 유효하지 않다\u001b[0m\u001b[0;34m\u001b[0m\u001b[0;34m\u001b[0m\u001b[0m\n\u001b[1;32m      2\u001b[0m \u001b[0;34m\u001b[0m\u001b[0m\n\u001b[0;32m----> 3\u001b[0;31m \u001b[0msound\u001b[0m\u001b[0;34m\u001b[0m\u001b[0;34m\u001b[0m\u001b[0m\n\u001b[0m",
      "\u001b[0;31mNameError\u001b[0m: name 'sound' is not defined"
     ]
    }
   ],
   "source": [
    "# 매개변수는 함수를 빠져나오면 유효하지 않다\n",
    "\n",
    "sound"
   ]
  },
  {
   "cell_type": "code",
   "execution_count": 11,
   "id": "0503e8d2",
   "metadata": {},
   "outputs": [
    {
     "name": "stdout",
     "output_type": "stream",
     "text": [
      "black\n"
     ]
    }
   ],
   "source": [
    "# 함수 안에는 if 조건문이 올 수도 있다\n",
    "# 들여쓰기에 주의!\n",
    "\n",
    "def commentary(color):\n",
    "    if color == 'g':\n",
    "        return 'green'\n",
    "    else:\n",
    "        return 'black'\n",
    "    \n",
    "color = 'white'\n",
    "print(commentary(color))"
   ]
  },
  {
   "cell_type": "code",
   "execution_count": 12,
   "id": "fa1dc259",
   "metadata": {},
   "outputs": [
    {
     "name": "stdout",
     "output_type": "stream",
     "text": [
      "green\n",
      "black\n",
      "black\n"
     ]
    }
   ],
   "source": [
    "# 함수의 실제적인 사용 예시\n",
    "colors = ['g', 'b', 't']\n",
    "\n",
    "for color in colors:\n",
    "    print(commentary(color))"
   ]
  },
  {
   "cell_type": "markdown",
   "id": "425d07c8",
   "metadata": {},
   "source": [
    "### 인수의 타입\n",
    "- 위치 인수 (positional argument)\n",
    "    - 매개변수를 값의 순서에 따라 복제한다.\n",
    "- 키워드 인수 (keyword argument)\n",
    "    - 매개변수 키워드에 맞는 인수로 지정한다. \n",
    "    - 인수의 위치가 달라도 된다.\n",
    "- 디폴트 인수 (default argument)\n",
    "    - 매개변수를 정의할 때 값을 미리 지정한다.\n",
    "    - 만약, 함수 호출 시에 값이 입력되지 않으면 디폴트 값을 사용한다.\n",
    "    - 단, 디폴트 값이 언디폴트 값보다 뒤에 위치해야 한다."
   ]
  },
  {
   "cell_type": "code",
   "execution_count": 15,
   "id": "a3dc7c00",
   "metadata": {},
   "outputs": [
    {
     "name": "stdout",
     "output_type": "stream",
     "text": [
      "{'wine': 'a', 'entree': 'b', 'dessert': 'c'}\n"
     ]
    },
    {
     "data": {
      "text/plain": [
       "{'wine': 'b', 'entree': 'c', 'dessert': 'a'}"
      ]
     },
     "execution_count": 15,
     "metadata": {},
     "output_type": "execute_result"
    }
   ],
   "source": [
    "def menu(wine, entree, dessert):\n",
    "    return {'wine': wine, 'entree': entree, 'dessert': dessert}\n",
    "\n",
    "# 위치 인수\n",
    "# 순차적으로 매개변수에 값이 복제된다\n",
    "print(menu('a', 'b', 'c'))\n",
    "\n",
    "# 키워드 인수\n",
    "# 순서가 달라도 상관없다\n",
    "menu(entree='c', wine='b', dessert='a')"
   ]
  },
  {
   "cell_type": "code",
   "execution_count": 18,
   "id": "4ee6325a",
   "metadata": {},
   "outputs": [
    {
     "name": "stdout",
     "output_type": "stream",
     "text": [
      "{'wine': 'rioja', 'entree': 'egg', 'dessert': 'strawberry'}\n"
     ]
    },
    {
     "data": {
      "text/plain": [
       "{'wine': 'rioja', 'entree': 'egg', 'dessert': 'kiwi'}"
      ]
     },
     "execution_count": 18,
     "metadata": {},
     "output_type": "execute_result"
    }
   ],
   "source": [
    "# 디폴트 인수\n",
    "# 디폴트 값이 언디폴트 값보다 뒤에 위치해야 한다\n",
    "\n",
    "def default_menu(wine, entree, dessert='strawberry'):\n",
    "    return {'wine': wine, 'entree': entree, 'dessert': dessert}\n",
    "\n",
    "# 인자를 넣지 않으면 디폴트 값이 나오고 (strawberry)\n",
    "print(default_menu('rioja', 'egg'))\n",
    "\n",
    "# 인자를 넣으면 바뀌어서 나온다 (kiwi)\n",
    "default_menu('rioja', 'egg', 'kiwi')"
   ]
  },
  {
   "cell_type": "code",
   "execution_count": 19,
   "id": "36553123",
   "metadata": {},
   "outputs": [
    {
     "ename": "SyntaxError",
     "evalue": "non-default argument follows default argument (641269704.py, line 4)",
     "output_type": "error",
     "traceback": [
      "\u001b[0;36m  File \u001b[0;32m\"/var/folders/d0/m7yn6fkn5q122l8ln587gfdh0000gn/T/ipykernel_15086/641269704.py\"\u001b[0;36m, line \u001b[0;32m4\u001b[0m\n\u001b[0;31m    def default_error(wine='rioja', entree, dessert):\u001b[0m\n\u001b[0m                                            ^\u001b[0m\n\u001b[0;31mSyntaxError\u001b[0m\u001b[0;31m:\u001b[0m non-default argument follows default argument\n"
     ]
    }
   ],
   "source": [
    "# 디폴트 값이 언디폴트 값보다 앞에 있으면\n",
    "# 에러가 발생한다\n",
    "\n",
    "def default_error(wine='rioja', entree, dessert):\n",
    "    return {'wine': wine, 'entree': entree, 'dessert': dessert}"
   ]
  },
  {
   "cell_type": "markdown",
   "id": "a2e2f244",
   "metadata": {},
   "source": [
    "### 3. 호출방식\n",
    "- 정의 부분은 호출 시 실행된다.\n",
    "- 메모리에 저장되어 있다가 호출 시에 사용되는 방식"
   ]
  },
  {
   "cell_type": "code",
   "execution_count": 20,
   "id": "dc97f8c4",
   "metadata": {},
   "outputs": [
    {
     "name": "stdout",
     "output_type": "stream",
     "text": [
      "2\n",
      "3\n",
      "1\n",
      "4\n"
     ]
    }
   ],
   "source": [
    "# 어떤 순서로 코드가 실행되는지 확인\n",
    "\n",
    "def multiply(x, y):\n",
    "    print('1')  # 3번째\n",
    "    return x + y\n",
    "\n",
    "print('2')  # 1번째\n",
    "i = 2\n",
    "j = 4\n",
    "\n",
    "print('3')  # 2번째\n",
    "multiply(i, j)\n",
    "\n",
    "print('4')  # 4번째"
   ]
  },
  {
   "cell_type": "markdown",
   "id": "824d25d4",
   "metadata": {},
   "source": [
    "### 매개변수와 인수\n",
    "- 참조에 의한 호출 (call by reference)\n",
    "- 매개변수 = 인수 \n",
    "    - copy되기 때문에 나타나는 문제점\n",
    "    - 리스트처럼 가변 객체일 때 주소값을 공유하므로 같이 변한다."
   ]
  },
  {
   "cell_type": "code",
   "execution_count": 22,
   "id": "0c282c21",
   "metadata": {},
   "outputs": [
    {
     "name": "stdout",
     "output_type": "stream",
     "text": [
      "['a']\n",
      "['a', 'b']\n"
     ]
    }
   ],
   "source": [
    "def buggy(arg, result=[]):\n",
    "    result.append(arg)\n",
    "    print(result)\n",
    "    \n",
    "a, b = 'a', 'b'\n",
    "buggy(a)\n",
    "buggy(b)  # 예상 값: ['b'], 실제 값: ['a', 'b']"
   ]
  },
  {
   "cell_type": "code",
   "execution_count": 24,
   "id": "64953746",
   "metadata": {},
   "outputs": [
    {
     "name": "stdout",
     "output_type": "stream",
     "text": [
      "['a']\n",
      "['b']\n"
     ]
    }
   ],
   "source": [
    "# 위와 같은 상황을 피하려면\n",
    "# 빈 객체를 설정하여 reset이 되도록\n",
    "\n",
    "def buggy(arg):\n",
    "    result = []\n",
    "    result.append(arg)\n",
    "    print(result)\n",
    "    \n",
    "a, b = 'a', 'b'\n",
    "buggy(a)\n",
    "buggy(b)  # 리스트가 초기화되어 원하는 값이 나옴"
   ]
  },
  {
   "cell_type": "code",
   "execution_count": 27,
   "id": "323bd4b9",
   "metadata": {},
   "outputs": [
    {
     "name": "stdout",
     "output_type": "stream",
     "text": [
      "None\n"
     ]
    }
   ],
   "source": [
    "# None은 True도 False도 아니다\n",
    "\n",
    "thing = None\n",
    "\n",
    "if thing:\n",
    "    print('True')\n",
    "elif thing == False:\n",
    "    print('False')\n",
    "else:\n",
    "    print('None')"
   ]
  },
  {
   "cell_type": "code",
   "execution_count": 29,
   "id": "13665ca1",
   "metadata": {},
   "outputs": [
    {
     "name": "stdout",
     "output_type": "stream",
     "text": [
      "['a']\n",
      "['a', 'b']\n",
      "['b']\n"
     ]
    }
   ],
   "source": [
    "# 조건식을 포함하는 함수로 변경하기\n",
    "\n",
    "def nonbuggy(arg, result=[]):\n",
    "    # 리스트가 없으면 빈 리스트를 생성하고\n",
    "    # 리스트가 있다면 그대로 사용\n",
    "    \n",
    "    # ==는 value만 같은 것\n",
    "    # is는 value + id까지 같은 것\n",
    "    if result is None:\n",
    "        result = []\n",
    "    \n",
    "    result.append(arg)\n",
    "    print(result)\n",
    "    \n",
    "nonbuggy('a')\n",
    "nonbuggy('b')  # 리스트가 있어서 기존의 리스트를 그대로 사용\n",
    "nonbuggy('b', None)  # 리스트가 없어서 빈 리스트를 생성함"
   ]
  },
  {
   "cell_type": "code",
   "execution_count": 32,
   "id": "a74d82d4",
   "metadata": {},
   "outputs": [
    {
     "name": "stdout",
     "output_type": "stream",
     "text": [
      "['a']\n",
      "['b']\n",
      "['c', 'a']\n",
      "['c', 'a', 'b']\n"
     ]
    }
   ],
   "source": [
    "# result를 처음부터 None으로 설정하면 더 편함\n",
    "\n",
    "def nonbuggy(arg, result=None):\n",
    "    if result is None:\n",
    "        result = []\n",
    "    \n",
    "    result.append(arg)\n",
    "    print(result)\n",
    "    \n",
    "# 리스트의 default값이 None이라 쌓이지 않는다\n",
    "nonbuggy('a')\n",
    "nonbuggy('b')\n",
    "\n",
    "# 리스트를 설정하면 쌓이기 시작\n",
    "_list = ['c']\n",
    "nonbuggy('a', _list)\n",
    "nonbuggy('b', _list)"
   ]
  },
  {
   "cell_type": "markdown",
   "id": "b954c556",
   "metadata": {},
   "source": [
    "### 지역변수와 전역변수\n",
    "- 지역변수: 함수 내부에서만 유효하다.\n",
    "- 전역변수: 함수 내부 뿐만 아니라 외부에서도 유효하다."
   ]
  },
  {
   "cell_type": "code",
   "execution_count": 34,
   "id": "2b9a9260",
   "metadata": {},
   "outputs": [
    {
     "name": "stdout",
     "output_type": "stream",
     "text": [
      "london\n",
      "paris == london?\n"
     ]
    }
   ],
   "source": [
    "def fx():\n",
    "    # 지역변수 city (london)\n",
    "    city = 'london'\n",
    "    print(city)\n",
    "    \n",
    "city = 'paris'  # 전역변수 city (paris)\n",
    "fx()  # 함수 내에서 city를 london으로 선언해도\n",
    "print(city, '== london?')  # 함수 밖에서 city는 paris "
   ]
  },
  {
   "cell_type": "code",
   "execution_count": 36,
   "id": "757a2256",
   "metadata": {},
   "outputs": [
    {
     "name": "stdout",
     "output_type": "stream",
     "text": [
      "london\n",
      "london == london?\n"
     ]
    }
   ],
   "source": [
    "# 전역변수를 사용하고 싶다면 global\n",
    "\n",
    "def fx():\n",
    "    # 전역변수 city (london)\n",
    "    global city\n",
    "    city = 'london'\n",
    "    print(city)\n",
    "    \n",
    "city = 'paris'  # city = 'paris' -fx()> city = 'london'\n",
    "fx()  # 함수 내에서 전역변수로 city를 london으로 선언했으므로\n",
    "print(city, '== london?')  # 함수 밖에서도 city는 london"
   ]
  },
  {
   "cell_type": "markdown",
   "id": "1fed3342",
   "metadata": {},
   "source": [
    "### doc string\n",
    "- 함수를 설명하는 부분\n",
    "- 매개변수 타입, 의미, 함수의 역할, 기능 등을 설명한다.\n",
    "- 사용형식은 빈 주석처리 하는 방식 \n",
    "\n",
    "    \"\"\"\n",
    "    \n",
    "    독스트링 작성\n",
    "    \n",
    "    \"\"\""
   ]
  },
  {
   "cell_type": "code",
   "execution_count": 39,
   "id": "a90ad14d",
   "metadata": {},
   "outputs": [
    {
     "name": "stdout",
     "output_type": "stream",
     "text": [
      "['a']\n",
      "['b']\n"
     ]
    }
   ],
   "source": [
    "def buggy(arg):\n",
    "    \"\"\"\n",
    "    arg의 타입: str\n",
    "    꽃 이름을 받는다.\n",
    "    result의 타입은 list\n",
    "    이 함수는 꽃 이름을 리스트에 추가한다.\n",
    "    \"\"\"\n",
    "    result = []\n",
    "    result.append(arg)\n",
    "    print(result)\n",
    "    \n",
    "a, b = 'a', 'b'\n",
    "buggy(a)\n",
    "buggy(b)"
   ]
  },
  {
   "cell_type": "code",
   "execution_count": 41,
   "id": "84e20809",
   "metadata": {},
   "outputs": [
    {
     "name": "stdout",
     "output_type": "stream",
     "text": [
      "Help on function buggy in module __main__:\n",
      "\n",
      "buggy(arg)\n",
      "    arg의 타입: str\n",
      "    꽃 이름을 받는다.\n",
      "    result의 타입은 list\n",
      "    이 함수는 꽃 이름을 리스트에 추가한다.\n",
      "\n"
     ]
    }
   ],
   "source": [
    "# 함수를 사용할 때는 doc string이 나오지 않는다\n",
    "# doc string을 확인하는 방법  \n",
    "# help(function)\n",
    "# 함수 뒤의 매개변수는 쓰지 않는다\n",
    "\n",
    "help(buggy)"
   ]
  },
  {
   "cell_type": "code",
   "execution_count": 43,
   "id": "3a62d9ef",
   "metadata": {},
   "outputs": [
    {
     "data": {
      "text/plain": [
       "'\\n    arg의 타입: str\\n    꽃 이름을 받는다.\\n    result의 타입은 list\\n    이 함수는 꽃 이름을 리스트에 추가한다.\\n    '"
      ]
     },
     "execution_count": 43,
     "metadata": {},
     "output_type": "execute_result"
    }
   ],
   "source": [
    "# 또 다른 방법 \n",
    "# 던더바 (__, 더블 언더바) 사용\n",
    "# function.__doc__\n",
    "\n",
    "buggy.__doc__"
   ]
  },
  {
   "cell_type": "markdown",
   "id": "7f61ffc7",
   "metadata": {},
   "source": [
    "### 함수 실습1\n",
    "- 나이를 입력받아 태어난 연도로 바꾸기\n",
    "- 함수에서 정의할 것\n",
    "    - 입력값 -> 나이\n",
    "    - 반환값 -> 연도 (2022 - 나이 + 1)\n",
    "- 호출할 때 나이를 input으로 받기"
   ]
  },
  {
   "cell_type": "code",
   "execution_count": 44,
   "id": "488876bd",
   "metadata": {},
   "outputs": [
    {
     "name": "stdout",
     "output_type": "stream",
     "text": [
      "나이를 입력하세요: 25\n",
      "태어난 연도: 1998\n"
     ]
    }
   ],
   "source": [
    "def age_to_year(age):\n",
    "    this_year = 2022\n",
    "    return this_year - age + 1\n",
    "\n",
    "age = int(input('나이를 입력하세요: '))\n",
    "print(f'태어난 연도: {age_to_year(age)}')"
   ]
  },
  {
   "cell_type": "markdown",
   "id": "cebc8027",
   "metadata": {},
   "source": [
    "## 브라운 정제하기\n",
    "### 해야할 것\n",
    "1. 문장 분절\n",
    "2. 단어 분절\n",
    "3. 문장부호 제거\n",
    "4. 하이픈, 's, 'nt, 'd, ... 제거\n",
    "5. 위의 기능을 함수로 만들기"
   ]
  },
  {
   "cell_type": "code",
   "execution_count": 45,
   "id": "81ccced9",
   "metadata": {},
   "outputs": [
    {
     "name": "stderr",
     "output_type": "stream",
     "text": [
      "[nltk_data] Downloading package brown to /Users/yong/nltk_data...\n",
      "[nltk_data]   Package brown is already up-to-date!\n"
     ]
    }
   ],
   "source": [
    "import string\n",
    "import nltk\n",
    "\n",
    "nltk.download('brown')\n",
    "brown = nltk.corpus.brown\n",
    "romance = brown.raw(categories='romance')[:5000]"
   ]
  },
  {
   "cell_type": "markdown",
   "id": "9ca69f96",
   "metadata": {},
   "source": [
    "### 문장 분절"
   ]
  },
  {
   "cell_type": "code",
   "execution_count": 52,
   "id": "e786b326",
   "metadata": {},
   "outputs": [
    {
     "data": {
      "text/plain": [
       "'They/ppss neither/cc liked/vbd nor/cc disliked/vbd the/at Old/jj-tl Man/nn-tl .'"
      ]
     },
     "execution_count": 52,
     "metadata": {},
     "output_type": "execute_result"
    }
   ],
   "source": [
    "# 문장을 분절하는 단위\n",
    "# ./.\n",
    "# \\n\n",
    "# /. (!와 ?를 처리할 수 있기 때문에 추천)\n",
    "\n",
    "sentences = [sent.strip() for sent in romance.split('/.')]\n",
    "sentences = [s for s in sentences if s != '!']  # ! 삭제\n",
    "sentences[0]"
   ]
  },
  {
   "cell_type": "markdown",
   "id": "0f542893",
   "metadata": {},
   "source": [
    "### 단어 분절\n",
    "- sentences에서 POS 제거하고, 단어 분절하기"
   ]
  },
  {
   "cell_type": "code",
   "execution_count": 53,
   "id": "06786995",
   "metadata": {},
   "outputs": [],
   "source": [
    "# 자주쓰는 기호를 전체에서 쓰려면 대문자로 가져가기\n",
    "\n",
    "SLASH = '/'"
   ]
  },
  {
   "cell_type": "code",
   "execution_count": 57,
   "id": "9ef35b25",
   "metadata": {},
   "outputs": [
    {
     "data": {
      "text/plain": [
       "['They', 'neither', 'liked', 'nor', 'disliked', 'the', 'Old', 'Man', '.']"
      ]
     },
     "execution_count": 57,
     "metadata": {},
     "output_type": "execute_result"
    }
   ],
   "source": [
    "example = sentences[0]\n",
    "[word[:word.find(SLASH)] if SLASH in word else word for word in example.split()]"
   ]
  },
  {
   "cell_type": "code",
   "execution_count": 59,
   "id": "f8f63d11",
   "metadata": {},
   "outputs": [
    {
     "name": "stdout",
     "output_type": "stream",
     "text": [
      "[['They', 'neither', 'liked', 'nor', 'disliked', 'the', 'Old', 'Man', '.'], ['To', 'them', 'he', 'could', 'have', 'been', 'the', 'broken', 'bell', 'in', 'the', 'church', 'tower', 'which', 'rang', 'before', 'and', 'after', 'Mass', ',', 'and', 'at', 'noon', ',', 'and', 'at', 'six', 'each', 'evening', '--', 'its', 'tone', ',', 'repetitive', ',', 'monotonous', ',', 'never', 'breaking', 'the', 'boredom', 'of', 'the', 'streets', '.'], ['The', 'Old', 'Man', 'was', 'unimportant', '.'], ['Yet', 'if', 'he', 'were', 'not', 'there', ',', 'they', 'would', 'have', 'missed', 'him', ',', 'as', 'they', 'would', 'have', 'missed', 'the', 'sounds', 'of', 'bees', 'buzzing', 'against', 'the', 'screen', 'door', 'in', 'early', 'June', ';'], [';'], ['or', 'the', 'smell', 'of', 'thick', 'tomato', 'paste', '--', 'the', 'ripe', 'smell', 'that', 'was', 'both', 'sweet', 'and', 'sour', '--', 'rising', 'up', 'from', 'aluminum', 'trays', 'wrapped', 'in', 'fly-dotted', 'cheesecloth', '.'], ['Or', 'the', 'surging', 'whirling', 'sounds', 'of', 'bats', 'at', 'night', ',', 'when', 'their', 'black', 'bodies', 'dived', 'into', 'the', 'blackness', 'above', 'and', 'below', 'the', 'amber', 'street', 'lights', '.'], ['Or', 'the', 'bay', 'of', 'female', 'dogs', 'in', 'heat', '.'], ['They', 'never', 'called', 'him', 'by', 'name', ',', 'although', 'he', 'had', 'one', '.'], ['Filippo', 'Rossi', ',', \"that's\", 'what', 'he', 'was', 'called', 'in', 'the', 'old', 'country', ';']]\n"
     ]
    }
   ],
   "source": [
    "# 전체 문장에 적용하기\n",
    "\n",
    "sentences_tokens = [[word[:word.find(SLASH)]\n",
    "                   if SLASH in word else word\n",
    "                   for word in sent.split()] for sent in sentences]  \n",
    "# list comprehension안에 별도로 list를 생성하여 문장을 각각의 리스트에 append\n",
    "\n",
    "print(sentences_tokens[:10])"
   ]
  },
  {
   "cell_type": "markdown",
   "id": "5c5c9b8c",
   "metadata": {},
   "source": [
    "### punctuations"
   ]
  },
  {
   "cell_type": "code",
   "execution_count": 60,
   "id": "e95437e5",
   "metadata": {},
   "outputs": [
    {
     "name": "stdout",
     "output_type": "stream",
     "text": [
      "['!', '\"', '#', '$', '%', '&', \"'\", '(', ')', '*', '+', ',', '-', '.', '/', ':', ';', '<', '=', '>', '?', '@', '[', '\\\\', ']', '^', '_', '`', '{', '|', '}', '~']\n"
     ]
    }
   ],
   "source": [
    "# 특수기호 리스트화 하기\n",
    "\n",
    "punct = list(string.punctuation)\n",
    "print(punct)"
   ]
  },
  {
   "cell_type": "code",
   "execution_count": 68,
   "id": "f2feeaa5",
   "metadata": {},
   "outputs": [
    {
     "data": {
      "text/plain": [
       "['They', 'neither', 'liked', 'nor', 'disliked', 'the', 'Old', 'Man']"
      ]
     },
     "execution_count": 68,
     "metadata": {},
     "output_type": "execute_result"
    }
   ],
   "source": [
    "# punctuation 골라내는 방법\n",
    "# fly-dotted의 '-', didn't의 '\\'' 살리면서 골라내기, 아직 분리는 x\n",
    "# word[0].isalnum() 사용\n",
    "\n",
    "[[word for word in sent\n",
    " if word[0].isalnum() and word not in punct]\n",
    "for sent in sentences_tokens][0]"
   ]
  },
  {
   "cell_type": "code",
   "execution_count": 70,
   "id": "387d3d71",
   "metadata": {},
   "outputs": [
    {
     "name": "stdout",
     "output_type": "stream",
     "text": [
      "{'--', '``', \"''\"}\n",
      "['!', '\"', '#', '$', '%', '&', \"'\", '(', ')', '*', '+', ',', '-', '.', '/', ':', ';', '<', '=', '>', '?', '@', '[', '\\\\', ']', '^', '_', '`', '{', '|', '}', '~', '--', '``', \"''\"]\n"
     ]
    }
   ],
   "source": [
    "# punctuation에 없는 punctuation을 찾아서\n",
    "# my_punct로 저장한 뒤 punct에 extend하기\n",
    "\n",
    "my_punct = set([word\n",
    "               for sent in sentences_tokens\n",
    "               for word in sent\n",
    "               if (not word[0].isalnum()) and (word not in punct)])\n",
    "print(my_punct)\n",
    "\n",
    "punct.extend(list(my_punct))\n",
    "print(punct)"
   ]
  },
  {
   "cell_type": "markdown",
   "id": "21f994a9",
   "metadata": {},
   "source": [
    "### 하이픈 분리\n",
    "- 하이픈을 기준으로 split한 뒤에 extend\n",
    "    - 'fur-piece'.split('-')\n",
    "\n",
    "### apostrophe 's 분리\n",
    "- split을 사용하지 않는다.\n",
    "- index로 가져간 뒤에 extend\n",
    "    - word = 'she\\'s'\n",
    "    \n",
    "      index = word.find('\\'')\n",
    "      \n",
    "      word[:index], word[index:]\n",
    "      \n",
    "      결과: ('she', \"'s\")\n",
    "      \n",
    "### 해리포터에서 단어 중간에 '이 오는 경우\n",
    "- 예: myst'ry\n",
    "- 생각해보고 정의하기\n",
    "    - 's, 'nt, 'd는 처리하고\n",
    "    - 나머지는 그냥 붙인다."
   ]
  },
  {
   "cell_type": "markdown",
   "id": "472c5602",
   "metadata": {},
   "source": [
    "### 함수 실습2\n",
    "example = sentences[0]\n",
    "\n",
    "[word[:word.find(SLASH)] if SLASH in word else word for word in example.split()]\n",
    "\n",
    "- 단어 분절하는 부분을 함수로 만들어보기\n",
    "- 어떤 문장이 들어왔을 때 품사 제거하고, punct 제거하고, 토큰 리스트로 반환하기"
   ]
  },
  {
   "cell_type": "code",
   "execution_count": 75,
   "id": "f5b5a92f",
   "metadata": {},
   "outputs": [
    {
     "name": "stdout",
     "output_type": "stream",
     "text": [
      "['Yet', 'if', 'he', 'were', 'not', 'there', 'they', 'would', 'have', 'missed', 'him', 'as', 'they', 'would', 'have', 'missed', 'the', 'sounds', 'of', 'bees', 'buzzing', 'against', 'the', 'screen', 'door', 'in', 'early', 'June']\n"
     ]
    }
   ],
   "source": [
    "def tokenize_word(sent):\n",
    "    token_list = [word[:word.find(SLASH)]\n",
    "                 for word in sent.split()\n",
    "                 if (word[0].isalnum()) and (word not in punct)]\n",
    "    return token_list\n",
    "                  \n",
    "print(tokenize_word(sentences[3]))"
   ]
  }
 ],
 "metadata": {
  "kernelspec": {
   "display_name": "Python 3 (ipykernel)",
   "language": "python",
   "name": "python3"
  },
  "language_info": {
   "codemirror_mode": {
    "name": "ipython",
    "version": 3
   },
   "file_extension": ".py",
   "mimetype": "text/x-python",
   "name": "python",
   "nbconvert_exporter": "python",
   "pygments_lexer": "ipython3",
   "version": "3.9.7"
  }
 },
 "nbformat": 4,
 "nbformat_minor": 5
}
