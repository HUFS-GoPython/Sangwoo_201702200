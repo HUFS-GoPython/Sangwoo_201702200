{
 "cells": [
  {
   "cell_type": "markdown",
   "id": "fce949bb-c032-4a88-86a9-0549f7f1f37e",
   "metadata": {},
   "source": [
    "### 프로그래밍 언어\n",
    "- 프로그래밍 언어를 사용하여 프로그램을 개발하는 것\n",
    "- 논리적인 사고를 가질 수 있다.\n",
    "\n",
    "### Programming Language\n",
    "- 프로그램을 개발할 때 사용하는 도구\n",
    "- 인간이 원하는 것을 컴퓨터에게 명령할 때 사용하는 컴퓨터가 이해할 수 있는 언어\n",
    "\n",
    "### 파이썬\n",
    "- 쉽고 간결하다.\n",
    "- 라이브러리가 많다.\n",
    "\n",
    "### Data: Types, Values, Variables, and Names"
   ]
  },
  {
   "cell_type": "code",
   "execution_count": 1,
   "id": "c567b887-71e0-420e-a6fc-b612d62fefa7",
   "metadata": {},
   "outputs": [
    {
     "data": {
      "text/plain": [
       "2"
      ]
     },
     "execution_count": 1,
     "metadata": {},
     "output_type": "execute_result"
    }
   ],
   "source": [
    "a = 2\n",
    "a"
   ]
  },
  {
   "cell_type": "code",
   "execution_count": 2,
   "id": "caacf5d1-5e19-497d-9a1e-fc1d87c1ae99",
   "metadata": {},
   "outputs": [
    {
     "data": {
      "text/plain": [
       "True"
      ]
     },
     "execution_count": 2,
     "metadata": {},
     "output_type": "execute_result"
    }
   ],
   "source": [
    "a == 2"
   ]
  },
  {
   "cell_type": "markdown",
   "id": "4148e954-ea8b-4d82-a4a0-479a6471a218",
   "metadata": {},
   "source": [
    "- 변수(variable): 특정 값을 저장하는 공간 ex) a\n",
    "- 값(value)\n",
    "- 할당하다(assign): 변수에 값을 넣는 과정 ex) a = 2 (2를 a에 넣었다.)\n",
    "\n",
    "*** a는 2다. a == 2\n",
    "\n",
    "- 자료형(type): 데이터의 형태 ex) a 데이터의 형태는 integer (int 타입이다.)"
   ]
  },
  {
   "cell_type": "code",
   "execution_count": 4,
   "id": "600c1105-b5b7-47bd-8c41-3ffdd7a37995",
   "metadata": {},
   "outputs": [
    {
     "name": "stdout",
     "output_type": "stream",
     "text": [
      "2\n"
     ]
    }
   ],
   "source": [
    "print(a)"
   ]
  },
  {
   "cell_type": "code",
   "execution_count": 5,
   "id": "b55163d6-a8b2-4e20-a77b-bef9513cf2ea",
   "metadata": {},
   "outputs": [
    {
     "data": {
      "text/plain": [
       "2"
      ]
     },
     "execution_count": 5,
     "metadata": {},
     "output_type": "execute_result"
    }
   ],
   "source": [
    "a"
   ]
  },
  {
   "cell_type": "code",
   "execution_count": 6,
   "id": "d80f4ada-ea47-473e-9a10-61bbcafe91e4",
   "metadata": {},
   "outputs": [
    {
     "data": {
      "text/plain": [
       "int"
      ]
     },
     "execution_count": 6,
     "metadata": {},
     "output_type": "execute_result"
    }
   ],
   "source": [
    "# type\n",
    "type(a)"
   ]
  },
  {
   "cell_type": "code",
   "execution_count": 7,
   "id": "ccbc29f8-e697-4afb-9428-f21e94f44ce2",
   "metadata": {},
   "outputs": [
    {
     "data": {
      "text/plain": [
       "bool"
      ]
     },
     "execution_count": 7,
     "metadata": {},
     "output_type": "execute_result"
    }
   ],
   "source": [
    "type(a == 2) # bool, boolean T/F"
   ]
  },
  {
   "cell_type": "markdown",
   "id": "03540695-2555-43bd-a451-2b5d4d45f209",
   "metadata": {},
   "source": [
    "### Type\n",
    "- integer(정수): 1, 2, 3, ... (int)\n",
    "- floating point number(부동소수점): 1.0, 2.0, 0.4, ... (float)\n",
    "- string(문자열): \"1\", 'apple' (str)\n",
    "- bool(불리언): True, False "
   ]
  },
  {
   "cell_type": "code",
   "execution_count": 8,
   "id": "949fc69a-4b64-4857-8ac4-76ecade91386",
   "metadata": {},
   "outputs": [
    {
     "data": {
      "text/plain": [
       "str"
      ]
     },
     "execution_count": 8,
     "metadata": {},
     "output_type": "execute_result"
    }
   ],
   "source": [
    "type(\"1\")"
   ]
  },
  {
   "cell_type": "code",
   "execution_count": 9,
   "id": "043084f6-146e-4c32-a0ef-d70afe0427e7",
   "metadata": {},
   "outputs": [
    {
     "data": {
      "text/plain": [
       "str"
      ]
     },
     "execution_count": 9,
     "metadata": {},
     "output_type": "execute_result"
    }
   ],
   "source": [
    "type('apple')"
   ]
  },
  {
   "cell_type": "code",
   "execution_count": 10,
   "id": "c576e5ee-3bcb-4165-b4b5-6c4570103e35",
   "metadata": {},
   "outputs": [
    {
     "ename": "NameError",
     "evalue": "name 'apple' is not defined",
     "output_type": "error",
     "traceback": [
      "\u001b[1;31m---------------------------------------------------------------------------\u001b[0m",
      "\u001b[1;31mNameError\u001b[0m                                 Traceback (most recent call last)",
      "\u001b[1;32m~\\AppData\\Local\\Temp/ipykernel_17972/1340092384.py\u001b[0m in \u001b[0;36m<module>\u001b[1;34m\u001b[0m\n\u001b[1;32m----> 1\u001b[1;33m \u001b[0mtype\u001b[0m\u001b[1;33m(\u001b[0m\u001b[0mapple\u001b[0m\u001b[1;33m)\u001b[0m\u001b[1;33m\u001b[0m\u001b[1;33m\u001b[0m\u001b[0m\n\u001b[0m",
      "\u001b[1;31mNameError\u001b[0m: name 'apple' is not defined"
     ]
    }
   ],
   "source": [
    "type(apple)"
   ]
  },
  {
   "cell_type": "code",
   "execution_count": 11,
   "id": "72117fd1-adef-4a46-87ff-52509db3db8e",
   "metadata": {},
   "outputs": [
    {
     "data": {
      "text/plain": [
       "'kim'"
      ]
     },
     "execution_count": 11,
     "metadata": {},
     "output_type": "execute_result"
    }
   ],
   "source": [
    "name = 'kim'\n",
    "name"
   ]
  },
  {
   "cell_type": "code",
   "execution_count": 12,
   "id": "edc4aa82-8b02-42b8-b0ff-430206f9d39c",
   "metadata": {},
   "outputs": [
    {
     "name": "stdout",
     "output_type": "stream",
     "text": [
      "kim\n"
     ]
    }
   ],
   "source": [
    "print(name)"
   ]
  },
  {
   "cell_type": "code",
   "execution_count": 13,
   "id": "135ddcb7-e663-4460-b56e-42edbe775163",
   "metadata": {},
   "outputs": [
    {
     "name": "stdout",
     "output_type": "stream",
     "text": [
      "kim\n"
     ]
    }
   ],
   "source": [
    "print('kim') # 이런 방법은 지양, 변수에 넣어서 사용하는 것으로"
   ]
  },
  {
   "cell_type": "markdown",
   "id": "eeb4dae6-af95-46e0-a6cd-75cd72550829",
   "metadata": {},
   "source": [
    "### 할당\n",
    "- = 기호를 사용한다.\n",
    "- 수학에서 '양변이 같다'라는 의미로 사용되지만, 프로그래밍에서는 '할당하다'라는 의미가 추가된다.\n",
    "- 오른쪽의 값을 왼쪽에 할당한다.\n",
    "- 오른쪽에 있는 모든 것은 값을 가져야 한다. (초기화를 해야 한다.)\n",
    "- 같은 변수에 다른 값을 넣을 수 있다.\n"
   ]
  },
  {
   "cell_type": "code",
   "execution_count": 14,
   "id": "5bf35838-0c3b-4882-8073-020e36887e9e",
   "metadata": {},
   "outputs": [],
   "source": [
    "x = 4 # 초기화\n",
    "y = x + 3"
   ]
  },
  {
   "cell_type": "code",
   "execution_count": 15,
   "id": "bbcb25eb-416f-4057-82fd-a4a02802b395",
   "metadata": {},
   "outputs": [
    {
     "data": {
      "text/plain": [
       "(4, 7)"
      ]
     },
     "execution_count": 15,
     "metadata": {},
     "output_type": "execute_result"
    }
   ],
   "source": [
    "x, y"
   ]
  },
  {
   "cell_type": "code",
   "execution_count": 16,
   "id": "03a8eaec-609f-4af4-8c00-9590593b1252",
   "metadata": {},
   "outputs": [],
   "source": [
    "name = 'kim'\n",
    "name = 'lee'\n",
    "name = 'park'\n",
    "name = 4"
   ]
  },
  {
   "cell_type": "code",
   "execution_count": 17,
   "id": "4aa76cff-fa43-4b8b-9e99-1a857c7b66d5",
   "metadata": {},
   "outputs": [
    {
     "name": "stdout",
     "output_type": "stream",
     "text": [
      "4\n"
     ]
    }
   ],
   "source": [
    "print(name) # 변수명 동일하게 사용하는 것 지양"
   ]
  },
  {
   "cell_type": "code",
   "execution_count": 18,
   "id": "84e5ffc8-3ce1-4806-9893-f51faba77d73",
   "metadata": {},
   "outputs": [],
   "source": [
    "text = 'abc'\n",
    "text = 'cde'"
   ]
  },
  {
   "cell_type": "markdown",
   "id": "14d49c52-286b-4843-97ef-c98e8281ac4c",
   "metadata": {},
   "source": [
    "### 변수명 정하기\n",
    "- 나쁜 변수명: a, b, c, a1, b1, ...\n",
    "- 의미있는 이름으로 선언해야 한다.\n",
    "- 소문자, 대문자, 숫자, 언더바를 사용한다. ex) name, name2, my_name, Name, NAME"
   ]
  },
  {
   "cell_type": "code",
   "execution_count": 19,
   "id": "d10188d1-645d-46be-9037-b8cce16fd51a",
   "metadata": {},
   "outputs": [
    {
     "name": "stdout",
     "output_type": "stream",
     "text": [
      "julietta,jessica,laura\n"
     ]
    }
   ],
   "source": [
    "name = 'julietta'\n",
    "name1 = 'jessica'\n",
    "my_name = 'laura'\n",
    "# myName 카멜 표기법\n",
    "\n",
    "print(name, name1, my_name, sep = ',')"
   ]
  },
  {
   "cell_type": "markdown",
   "id": "fef0de6b-e14d-43de-92dd-bc8201dba277",
   "metadata": {},
   "source": [
    "- 안되는 것\n",
    "    - 숫자로 시작할 수 없다. ex) 22name, 22_name\n",
    "    - 예약어로 선언할 수 없다. ex) def, False, ..."
   ]
  },
  {
   "cell_type": "code",
   "execution_count": 20,
   "id": "5ebf58e4-72b9-4f51-8fbc-0e29e5e665de",
   "metadata": {},
   "outputs": [
    {
     "name": "stdout",
     "output_type": "stream",
     "text": [
      "\n",
      "Here is a list of the Python keywords.  Enter any keyword to get more help.\n",
      "\n",
      "False               break               for                 not\n",
      "None                class               from                or\n",
      "True                continue            global              pass\n",
      "__peg_parser__      def                 if                  raise\n",
      "and                 del                 import              return\n",
      "as                  elif                in                  try\n",
      "assert              else                is                  while\n",
      "async               except              lambda              with\n",
      "await               finally             nonlocal            yield\n",
      "\n"
     ]
    }
   ],
   "source": [
    "# if = 'kim'\n",
    "help(\"keywords\")"
   ]
  },
  {
   "cell_type": "markdown",
   "id": "270c9c4b-e277-46d8-b002-40c1ea6ec93f",
   "metadata": {},
   "source": [
    "- 조심할 것: 특별한 용도가 있기 때문에\n",
    "    - 언더바로 시작하는 변수명 ex) _name (클래스 내부의 변수명 지칭)\n",
    "    - 더블 언더바로 시작하는 변수명 ex) __name\n",
    "    - 대문자로 시작하는 변수명 ex) Name\n",
    "    - 전체가 대문자인 변수명 ex) NAME"
   ]
  },
  {
   "cell_type": "code",
   "execution_count": 21,
   "id": "b682f284-0fe6-4c80-9cc5-370add87a166",
   "metadata": {},
   "outputs": [],
   "source": [
    "# 변수명은 대소문자 구분한다.\n",
    "num = 43\n",
    "Num = 44"
   ]
  },
  {
   "cell_type": "code",
   "execution_count": 22,
   "id": "76233cb9-e848-48a1-8f1d-9f58b6b4e69e",
   "metadata": {},
   "outputs": [
    {
     "data": {
      "text/plain": [
       "False"
      ]
     },
     "execution_count": 22,
     "metadata": {},
     "output_type": "execute_result"
    }
   ],
   "source": [
    "num == Num"
   ]
  },
  {
   "cell_type": "code",
   "execution_count": 23,
   "id": "0869d20b-c509-4317-a8d9-3cd8032a6445",
   "metadata": {},
   "outputs": [
    {
     "data": {
      "text/plain": [
       "False"
      ]
     },
     "execution_count": 23,
     "metadata": {},
     "output_type": "execute_result"
    }
   ],
   "source": [
    "num = 'number'\n",
    "Num = 'Number'\n",
    "\n",
    "num == Num"
   ]
  },
  {
   "cell_type": "code",
   "execution_count": 24,
   "id": "c1fd20c1-88e7-405f-bf7c-9c774579e6a6",
   "metadata": {},
   "outputs": [
    {
     "data": {
      "text/plain": [
       "True"
      ]
     },
     "execution_count": 24,
     "metadata": {},
     "output_type": "execute_result"
    }
   ],
   "source": [
    "num != Num"
   ]
  },
  {
   "cell_type": "code",
   "execution_count": null,
   "id": "76371c5c-1ac4-4f06-84a1-eac94fac1cde",
   "metadata": {},
   "outputs": [],
   "source": []
  }
 ],
 "metadata": {
  "kernelspec": {
   "display_name": "Python 3 (ipykernel)",
   "language": "python",
   "name": "python3"
  },
  "language_info": {
   "codemirror_mode": {
    "name": "ipython",
    "version": 3
   },
   "file_extension": ".py",
   "mimetype": "text/x-python",
   "name": "python",
   "nbconvert_exporter": "python",
   "pygments_lexer": "ipython3",
   "version": "3.9.7"
  }
 },
 "nbformat": 4,
 "nbformat_minor": 5
}
