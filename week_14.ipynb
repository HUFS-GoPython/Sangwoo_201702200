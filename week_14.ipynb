{
 "cells": [
  {
   "cell_type": "markdown",
   "id": "0566fe8f",
   "metadata": {},
   "source": [
    "### 함수 심화\n",
    "- 일급객체\n",
    "- 중첩함수\n",
    "- 익명함수\n",
    "- 제너레이터\n",
    "- 재귀함수"
   ]
  },
  {
   "cell_type": "markdown",
   "id": "64a9f711",
   "metadata": {},
   "source": [
    "### 일급 객체\n",
    "- First class object (First class citizen)\n",
    "- 파이썬에서는 함수도 일급 객체이다\n",
    "- 일급 객체의 조건\n",
    "    - 함수의 인자로 전달된다 \n",
    "        - def fx(func):\n",
    "    - 함수의 반환값이 된다 \n",
    "        - return func\n",
    "    - 수정과 할당이 가능하다 \n",
    "        - var = fx()"
   ]
  },
  {
   "cell_type": "code",
   "execution_count": 1,
   "id": "57d9ba30",
   "metadata": {},
   "outputs": [
    {
     "name": "stdout",
     "output_type": "stream",
     "text": [
      "25\n"
     ]
    }
   ],
   "source": [
    "def answer():\n",
    "    print(25)\n",
    "    \n",
    "def run_sth(func):\n",
    "    func()\n",
    "    \n",
    "# func는 그냥 함수\n",
    "# func() 괄호가 붙으면 함수를 실행하라는 뜻\n",
    "\n",
    "run_sth(answer)\n",
    "# answer 함수가 인자로 들어와서 answer 함수가 실행된다\n",
    "# answer 함수는 일급객체"
   ]
  },
  {
   "cell_type": "code",
   "execution_count": 3,
   "id": "e4f7af7e",
   "metadata": {},
   "outputs": [
    {
     "name": "stdout",
     "output_type": "stream",
     "text": [
      "30\n"
     ]
    }
   ],
   "source": [
    "def add_args(arg1, arg2):\n",
    "    print(arg1 + arg2)\n",
    "    \n",
    "def run_sth2(func, *args):\n",
    "    func(*args)\n",
    "    \n",
    "run_sth2(add_args, 10, 20)\n",
    "# add_args 함수에서 인자를 2개만 받기 때문에 \n",
    "# *args에도 인자를 두개만 입력해야함"
   ]
  },
  {
   "cell_type": "markdown",
   "id": "7675d4be",
   "metadata": {},
   "source": [
    "### 중첩함수\n",
    "- 함수 내에서 또 다른 함수를 정의하는 것\n",
    "- 내부함수 캡슐화의 장점\n",
    "    - 메모리 절약\n",
    "    - 변수가 섞여서 불필요하게 충돌하는 것을 방지한다\n",
    "    - 목적에 맞게 변수를 그룹화할 수 있다\n",
    "- 외부함수의 인자를 참조할 수 있다\n",
    "- 인자를 수정하거나 활용하는 것은 불가능하다\n",
    "    - string을 +하거나, 리스트에 append하는 등"
   ]
  },
  {
   "cell_type": "code",
   "execution_count": 5,
   "id": "423232f8",
   "metadata": {},
   "outputs": [
    {
     "data": {
      "text/plain": [
       "8"
      ]
     },
     "execution_count": 5,
     "metadata": {},
     "output_type": "execute_result"
    }
   ],
   "source": [
    "def outer(a, b): # 외부함수\n",
    "    def inner(c, d): # 내부함수\n",
    "        return c + d\n",
    "    return inner(a, b)\n",
    "\n",
    "outer(3, 5)\n",
    "# outer의 인자 a, b가 inner의 c, d로 들어간다"
   ]
  },
  {
   "cell_type": "code",
   "execution_count": 6,
   "id": "a5981328",
   "metadata": {
    "scrolled": true
   },
   "outputs": [
    {
     "ename": "NameError",
     "evalue": "name 'inner' is not defined",
     "output_type": "error",
     "traceback": [
      "\u001b[0;31m---------------------------------------------------------------------------\u001b[0m",
      "\u001b[0;31mNameError\u001b[0m                                 Traceback (most recent call last)",
      "\u001b[0;32m/var/folders/d0/m7yn6fkn5q122l8ln587gfdh0000gn/T/ipykernel_55268/2630107405.py\u001b[0m in \u001b[0;36m<module>\u001b[0;34m\u001b[0m\n\u001b[0;32m----> 1\u001b[0;31m \u001b[0minner\u001b[0m\u001b[0;34m(\u001b[0m\u001b[0;36m3\u001b[0m\u001b[0;34m,\u001b[0m \u001b[0;36m5\u001b[0m\u001b[0;34m)\u001b[0m\u001b[0;34m\u001b[0m\u001b[0;34m\u001b[0m\u001b[0m\n\u001b[0m\u001b[1;32m      2\u001b[0m \u001b[0;31m# 내부함수는 직접 접근이 불가능하다\u001b[0m\u001b[0;34m\u001b[0m\u001b[0;34m\u001b[0m\u001b[0m\n\u001b[1;32m      3\u001b[0m \u001b[0;31m# 내부함수를 실행하면 에러가 발생한다\u001b[0m\u001b[0;34m\u001b[0m\u001b[0;34m\u001b[0m\u001b[0m\n",
      "\u001b[0;31mNameError\u001b[0m: name 'inner' is not defined"
     ]
    }
   ],
   "source": [
    "inner(3, 5)\n",
    "# 내부함수는 직접 접근이 불가능하다\n",
    "# 내부함수를 실행하면 에러가 발생한다"
   ]
  },
  {
   "cell_type": "code",
   "execution_count": 7,
   "id": "0d8ce379",
   "metadata": {},
   "outputs": [],
   "source": [
    "def knight(saying):\n",
    "    def inner():\n",
    "        return f'We are the knights who say: {saying}'\n",
    "    return inner # 일급객체의 성질: 함수를 반환할 수 있다\n",
    "\n",
    "a = knight('hi') # 일급객체의 성질: 할당이 가능하다\n",
    "b = knight('안녕')"
   ]
  },
  {
   "cell_type": "code",
   "execution_count": 8,
   "id": "c7a836cc",
   "metadata": {},
   "outputs": [
    {
     "data": {
      "text/plain": [
       "<function __main__.knight.<locals>.inner()>"
      ]
     },
     "execution_count": 8,
     "metadata": {},
     "output_type": "execute_result"
    }
   ],
   "source": [
    "a # inner함수를 반환한다, 함수를 실행하진 않는다"
   ]
  },
  {
   "cell_type": "code",
   "execution_count": 9,
   "id": "34c9c50b",
   "metadata": {},
   "outputs": [
    {
     "data": {
      "text/plain": [
       "'We are the knights who say: hi'"
      ]
     },
     "execution_count": 9,
     "metadata": {},
     "output_type": "execute_result"
    }
   ],
   "source": [
    "a() # 함수를 실행하려면 괄호를 붙여야한다"
   ]
  },
  {
   "cell_type": "code",
   "execution_count": 10,
   "id": "b672fa83",
   "metadata": {},
   "outputs": [
    {
     "data": {
      "text/plain": [
       "'We are the knights who say: 안녕'"
      ]
     },
     "execution_count": 10,
     "metadata": {},
     "output_type": "execute_result"
    }
   ],
   "source": [
    "b()"
   ]
  },
  {
   "cell_type": "markdown",
   "id": "531cca85",
   "metadata": {},
   "source": [
    "### 클로저 (Closure)\n",
    "- 외부함수의 상태값을 기억하는 함수 \n",
    "- 호출 시 사용 가능하다\n",
    "- 조건\n",
    "    1. 중첩함수일 것\n",
    "    2. 내부함수가 외부함수의 상태값을 참조할 것\n",
    "    3. 외부함수의 리턴값이 내부함수일 것"
   ]
  },
  {
   "cell_type": "code",
   "execution_count": 1,
   "id": "a2d91002",
   "metadata": {},
   "outputs": [],
   "source": [
    "def multiply(x):\n",
    "    def inner(y): # 조건1. 중첩함수일 것\n",
    "        return x * y # 조건2. 내부함수가 외부함수의 인자를 참조할 것\n",
    "    return inner # 조건3. 외부함수의 리턴값이 내부함수일 것"
   ]
  },
  {
   "cell_type": "code",
   "execution_count": 3,
   "id": "d2d60923",
   "metadata": {},
   "outputs": [
    {
     "data": {
      "text/plain": [
       "(<function __main__.multiply.<locals>.inner(y)>,\n",
       " <function __main__.multiply.<locals>.inner(y)>)"
      ]
     },
     "execution_count": 3,
     "metadata": {},
     "output_type": "execute_result"
    }
   ],
   "source": [
    "m = multiply(5)\n",
    "n = multiply(10)\n",
    "\n",
    "m, n"
   ]
  },
  {
   "cell_type": "code",
   "execution_count": 4,
   "id": "50d6bbf4",
   "metadata": {},
   "outputs": [
    {
     "data": {
      "text/plain": [
       "(15, 30)"
      ]
     },
     "execution_count": 4,
     "metadata": {},
     "output_type": "execute_result"
    }
   ],
   "source": [
    "m(3), n(3)  # 5 x 3,  10 x 3"
   ]
  },
  {
   "cell_type": "code",
   "execution_count": 5,
   "id": "c13d94c2",
   "metadata": {},
   "outputs": [],
   "source": [
    "del(multiply) # 메모리에서 함수 삭제"
   ]
  },
  {
   "cell_type": "code",
   "execution_count": 6,
   "id": "673d1ef2",
   "metadata": {},
   "outputs": [
    {
     "ename": "NameError",
     "evalue": "name 'multiply' is not defined",
     "output_type": "error",
     "traceback": [
      "\u001b[0;31m---------------------------------------------------------------------------\u001b[0m",
      "\u001b[0;31mNameError\u001b[0m                                 Traceback (most recent call last)",
      "\u001b[0;32m/var/folders/d0/m7yn6fkn5q122l8ln587gfdh0000gn/T/ipykernel_64854/330517852.py\u001b[0m in \u001b[0;36m<module>\u001b[0;34m\u001b[0m\n\u001b[0;32m----> 1\u001b[0;31m \u001b[0mmultiply\u001b[0m\u001b[0;34m\u001b[0m\u001b[0;34m\u001b[0m\u001b[0m\n\u001b[0m",
      "\u001b[0;31mNameError\u001b[0m: name 'multiply' is not defined"
     ]
    }
   ],
   "source": [
    "multiply # 삭제했기 때문에 multiply가 정의되지 않았다고 에러가 뜬다"
   ]
  },
  {
   "cell_type": "code",
   "execution_count": 7,
   "id": "22fcd0de",
   "metadata": {},
   "outputs": [
    {
     "data": {
      "text/plain": [
       "15"
      ]
     },
     "execution_count": 7,
     "metadata": {},
     "output_type": "execute_result"
    }
   ],
   "source": [
    "m(3) \n",
    "# multiply는 삭제됐지만 m은 실행된다\n",
    "# 외부함수의 상태값을 기억하므로 외부함수를 삭제해도 실행이 가능하다\n",
    "# 따라서 메모리를 절약이 가능하다!"
   ]
  },
  {
   "cell_type": "code",
   "execution_count": 9,
   "id": "95164c55",
   "metadata": {},
   "outputs": [
    {
     "data": {
      "text/plain": [
       "81"
      ]
     },
     "execution_count": 9,
     "metadata": {},
     "output_type": "execute_result"
    }
   ],
   "source": [
    "def add(a, b):\n",
    "    return a + b\n",
    "\n",
    "# 리턴값 * 리턴값\n",
    "def square(func):\n",
    "    def inner(a, b):\n",
    "        return func(a, b) * func(a, b)\n",
    "    return inner\n",
    "\n",
    "s = square(add) # 외부함수의 인자 넣기\n",
    "s(4, 5) # 내부함수의 인자 넣기\n",
    "\n",
    "# 결과값\n",
    "# (4 + 5) * (4 + 5)"
   ]
  },
  {
   "cell_type": "markdown",
   "id": "dbf6d106",
   "metadata": {},
   "source": [
    "### 데코레이터\n",
    "- 메인 함수에 또 다른 함수를 취해 반환할 수 있게 한다\n",
    "- 재사용성이 높다\n",
    "- 가독성이 높고 직관적이다"
   ]
  },
  {
   "cell_type": "code",
   "execution_count": 10,
   "id": "4116483e",
   "metadata": {},
   "outputs": [
    {
     "data": {
      "text/plain": [
       "81"
      ]
     },
     "execution_count": 10,
     "metadata": {},
     "output_type": "execute_result"
    }
   ],
   "source": [
    "# 내가 정의한 함수를 데코레이터로 사용하기\n",
    "@square\n",
    "def plus(a, b):\n",
    "    return a + b\n",
    "\n",
    "plus(4, 5)"
   ]
  },
  {
   "cell_type": "markdown",
   "id": "ae6998c0",
   "metadata": {},
   "source": [
    "### 범위 (scope)\n",
    "- global (전역)\n",
    "- local (지역)\n",
    "- nonlocal"
   ]
  },
  {
   "cell_type": "code",
   "execution_count": 14,
   "id": "74c389da",
   "metadata": {},
   "outputs": [
    {
     "data": {
      "text/plain": [
       "10"
      ]
     },
     "execution_count": 14,
     "metadata": {},
     "output_type": "execute_result"
    }
   ],
   "source": [
    "a = 3 # global\n",
    "def outer(c):\n",
    "    b = 5 # local\n",
    "    def inner(): \n",
    "        nonlocal c # nonlocal\n",
    "        c = 9\n",
    "        c += 1 # c를 참조하거나 수정하고 싶으면 nonlocal로 범위 설정해야함\n",
    "        return c\n",
    "    return inner()\n",
    "\n",
    "outer(9)"
   ]
  },
  {
   "cell_type": "markdown",
   "id": "6294b7e6",
   "metadata": {},
   "source": [
    "### 실습\n",
    "- 함수1: speed와 limit을 인자로 받아서 내 속도가 제한속도를 위반하는지 True/False 반환\n",
    "- 함수2: 제한속도를 초과할 경우 얼마나 초과하는지 프린트하는 클로저 \n",
    "- 실행은 데코레이터를 사용"
   ]
  },
  {
   "cell_type": "code",
   "execution_count": 15,
   "id": "2835de38",
   "metadata": {},
   "outputs": [
    {
     "data": {
      "text/plain": [
       "'40km/h만큼의 속도를 초과하셨습니다.'"
      ]
     },
     "execution_count": 15,
     "metadata": {},
     "output_type": "execute_result"
    }
   ],
   "source": [
    "def over_speed(func):\n",
    "    def inner(speed, limit):\n",
    "        if func(speed, limit):\n",
    "            over = speed - limit\n",
    "            return f'{over}km/h만큼의 속도를 초과하셨습니다.'\n",
    "        else:\n",
    "            return '제한속도를 준수하셨습니다.'\n",
    "    return inner\n",
    "\n",
    "@over_speed\n",
    "def violation(speed, limit):\n",
    "    return speed > limit\n",
    "\n",
    "violation(120, 80)"
   ]
  },
  {
   "cell_type": "markdown",
   "id": "bd270b4f",
   "metadata": {},
   "source": [
    "### 익명함수 (lambda)\n",
    "- 예약어를 사용하지 않는다 (def, return)\n",
    "- 함수이름은 써도되고 안써도 된다\n",
    "- 재사용 할 단순한 용도의 함수가 필요할 경우에 사용한다\n",
    "- 잦은 사용은 권하지 않는다\n",
    "\n",
    "lambda x: <x를 사용할 코드>"
   ]
  },
  {
   "cell_type": "code",
   "execution_count": 16,
   "id": "ed2e5ca9",
   "metadata": {},
   "outputs": [
    {
     "data": {
      "text/plain": [
       "3"
      ]
     },
     "execution_count": 16,
     "metadata": {},
     "output_type": "execute_result"
    }
   ],
   "source": [
    "(lambda x: x + 1)(2)"
   ]
  },
  {
   "cell_type": "code",
   "execution_count": 17,
   "id": "3bcd7b68",
   "metadata": {},
   "outputs": [
    {
     "data": {
      "text/plain": [
       "3"
      ]
     },
     "execution_count": 17,
     "metadata": {},
     "output_type": "execute_result"
    }
   ],
   "source": [
    "def add_one(x):\n",
    "    return x + 1\n",
    "add_one(2)\n",
    "\n",
    "# 세줄의 코드를 한줄의 익명함수로 사용이 가능하다\n",
    "# (lambda x: x + 1)(2)"
   ]
  },
  {
   "cell_type": "code",
   "execution_count": 18,
   "id": "42ff5e93",
   "metadata": {},
   "outputs": [
    {
     "data": {
      "text/plain": [
       "2"
      ]
     },
     "execution_count": 18,
     "metadata": {},
     "output_type": "execute_result"
    }
   ],
   "source": [
    "f = lambda x: x + 1 # 원하면 이름을 사용해도 된다\n",
    "f(1)"
   ]
  },
  {
   "cell_type": "code",
   "execution_count": 19,
   "id": "2b6eadbf",
   "metadata": {},
   "outputs": [
    {
     "data": {
      "text/plain": [
       "8"
      ]
     },
     "execution_count": 19,
     "metadata": {},
     "output_type": "execute_result"
    }
   ],
   "source": [
    "(lambda x, y: x + y)(3, 5) # 변수 여러개도 사용이 가능하다"
   ]
  },
  {
   "cell_type": "markdown",
   "id": "105b7ee5",
   "metadata": {},
   "source": [
    "### 실습\n",
    "- 단어의 첫글자는 대문자로 바꾸고 단어 끝에 !를 붙이는 익명함수 구현하기"
   ]
  },
  {
   "cell_type": "code",
   "execution_count": 20,
   "id": "299f8c2d",
   "metadata": {},
   "outputs": [
    {
     "data": {
      "text/plain": [
       "'Hello!'"
      ]
     },
     "execution_count": 20,
     "metadata": {},
     "output_type": "execute_result"
    }
   ],
   "source": [
    "word = 'hello'\n",
    "(lambda word: word.capitalize() + '!')(word)"
   ]
  },
  {
   "cell_type": "markdown",
   "id": "76a394e2",
   "metadata": {},
   "source": [
    "### 제너레이터\n",
    "- return 대신 yield를 사용한다\n",
    "- 시퀀스를 순회할 때 시퀀스를 생성하는 객체이다\n",
    "- 한번 사용되고 사라지기 때문에 메모리 효율이 좋다"
   ]
  },
  {
   "cell_type": "code",
   "execution_count": 21,
   "id": "9e81668e",
   "metadata": {},
   "outputs": [
    {
     "data": {
      "text/plain": [
       "<generator object print_number at 0x7f956829c900>"
      ]
     },
     "execution_count": 21,
     "metadata": {},
     "output_type": "execute_result"
    }
   ],
   "source": [
    "def print_number(num):\n",
    "    for i in range(num):\n",
    "        yield i # 제너레이터\n",
    "        \n",
    "print_number(10)"
   ]
  },
  {
   "cell_type": "code",
   "execution_count": 22,
   "id": "f0164768",
   "metadata": {},
   "outputs": [
    {
     "name": "stdout",
     "output_type": "stream",
     "text": [
      "0\n",
      "1\n",
      "2\n",
      "3\n",
      "4\n",
      "5\n",
      "6\n",
      "7\n",
      "8\n",
      "9\n"
     ]
    }
   ],
   "source": [
    "generator = print_number(10)\n",
    "for i in generator:\n",
    "    print(i)"
   ]
  },
  {
   "cell_type": "code",
   "execution_count": 23,
   "id": "0932ecf9",
   "metadata": {},
   "outputs": [],
   "source": [
    "for i in generator: # 한번 사용되고나면 메모리에서 사라지기 때문에 실행되지 않는다\n",
    "    print(i)"
   ]
  },
  {
   "cell_type": "markdown",
   "id": "a84b2efb",
   "metadata": {},
   "source": [
    "### 실습\n",
    "- 제너레이터 사용하여 range() 구현하기"
   ]
  },
  {
   "cell_type": "code",
   "execution_count": 24,
   "id": "7fb61670",
   "metadata": {},
   "outputs": [
    {
     "name": "stdout",
     "output_type": "stream",
     "text": [
      "0\n",
      "1\n",
      "2\n",
      "3\n",
      "4\n",
      "5\n",
      "6\n",
      "7\n",
      "8\n",
      "9\n"
     ]
    }
   ],
   "source": [
    "def my_range(end, start=0, step=1):\n",
    "    i = start\n",
    "    while i < end:\n",
    "        yield i\n",
    "        i += step\n",
    "        \n",
    "ranger = my_range(10)\n",
    "for i in ranger:\n",
    "    print(i)\n",
    "    \n",
    "# end, start 순서라서 직관적이진 않음\n",
    "# 차라리 start의 초기값을 없애거나\n",
    "# 함수 내에서 start를 입력 안받았다면 0, 입력 받았다면 end와 순서를 바꾸는 식으로"
   ]
  },
  {
   "cell_type": "code",
   "execution_count": 25,
   "id": "eadba986",
   "metadata": {},
   "outputs": [
    {
     "data": {
      "text/plain": [
       "<generator object <genexpr> at 0x7f956829cc80>"
      ]
     },
     "execution_count": 25,
     "metadata": {},
     "output_type": "execute_result"
    }
   ],
   "source": [
    "(i for i in range(5)) # list comprehension을 소괄호로 바꿔주면 제너레이터"
   ]
  },
  {
   "cell_type": "code",
   "execution_count": 26,
   "id": "2846cfdf",
   "metadata": {},
   "outputs": [
    {
     "name": "stdout",
     "output_type": "stream",
     "text": [
      "0\n",
      "1\n",
      "2\n",
      "3\n",
      "4\n"
     ]
    }
   ],
   "source": [
    "ranger = (i for i in range(5))\n",
    "for i in ranger:\n",
    "    print(i)"
   ]
  },
  {
   "cell_type": "code",
   "execution_count": 27,
   "id": "a74dced0",
   "metadata": {},
   "outputs": [],
   "source": [
    "for i in ranger: # 역시 제너레이터이므로 한번 사용하면 제거된다\n",
    "    print(i)"
   ]
  },
  {
   "cell_type": "markdown",
   "id": "0e16bf2d",
   "metadata": {},
   "source": [
    "### 재귀함수\n",
    "- 자기 자신을 호출하는 함수이다\n",
    "- 차원이 다른 리스트의 원소들을 한 차원의 리스트로 전부 가져오고 싶을 때 사용한다\n",
    "- depth가 너무 깊으면 무한대가 되어 runtime error가 발생하므로 주의가 필요하다\n"
   ]
  },
  {
   "cell_type": "code",
   "execution_count": 28,
   "id": "c714edb5",
   "metadata": {},
   "outputs": [],
   "source": [
    "def flatten(sent):\n",
    "    for word in sent:\n",
    "        if isinstance(word, list):\n",
    "        # isinstance(a, b)는 a가 b타입이면 True 아니면 False를 반환하는 함수\n",
    "            for sub_word in flatten(word):\n",
    "                yield sub_word\n",
    "            # python 3.3부터\n",
    "            # yield from flatten(word) 한줄로 사용이 가능하다\n",
    "        else:\n",
    "            yield word"
   ]
  },
  {
   "cell_type": "code",
   "execution_count": 29,
   "id": "9146d0d9",
   "metadata": {},
   "outputs": [
    {
     "data": {
      "text/plain": [
       "<generator object flatten at 0x7f95682a8040>"
      ]
     },
     "execution_count": 29,
     "metadata": {},
     "output_type": "execute_result"
    }
   ],
   "source": [
    "a = [[1, 2, 3], [[[1, 1]], 4, 5]]\n",
    "flatten(a)"
   ]
  },
  {
   "cell_type": "code",
   "execution_count": 30,
   "id": "067e7d8f",
   "metadata": {},
   "outputs": [
    {
     "name": "stdout",
     "output_type": "stream",
     "text": [
      "1\n",
      "2\n",
      "3\n",
      "1\n",
      "1\n",
      "4\n",
      "5\n"
     ]
    }
   ],
   "source": [
    "for i in flatten(a):\n",
    "    print(i)"
   ]
  },
  {
   "cell_type": "markdown",
   "id": "42710ba3",
   "metadata": {},
   "source": [
    "### 예외처리 (exception handling)\n",
    "- 프로그램을 정상적으로 종료하기 위해 사용된다\n",
    "- 예외가 발생한 경우 사용자에게 알리고 조취를 취할 수 있도록한다"
   ]
  },
  {
   "cell_type": "code",
   "execution_count": 32,
   "id": "bd65f5f8",
   "metadata": {},
   "outputs": [
    {
     "ename": "ZeroDivisionError",
     "evalue": "division by zero",
     "output_type": "error",
     "traceback": [
      "\u001b[0;31m---------------------------------------------------------------------------\u001b[0m",
      "\u001b[0;31mZeroDivisionError\u001b[0m                         Traceback (most recent call last)",
      "\u001b[0;32m/var/folders/d0/m7yn6fkn5q122l8ln587gfdh0000gn/T/ipykernel_64854/1023088221.py\u001b[0m in \u001b[0;36m<module>\u001b[0;34m\u001b[0m\n\u001b[1;32m      2\u001b[0m \u001b[0;34m\u001b[0m\u001b[0m\n\u001b[1;32m      3\u001b[0m \u001b[0;31m#1. 0으로 나눌 수 없는 ZeroDivisionError\u001b[0m\u001b[0;34m\u001b[0m\u001b[0;34m\u001b[0m\u001b[0m\n\u001b[0;32m----> 4\u001b[0;31m \u001b[0;36m10\u001b[0m \u001b[0;34m/\u001b[0m \u001b[0;36m0\u001b[0m\u001b[0;34m\u001b[0m\u001b[0;34m\u001b[0m\u001b[0m\n\u001b[0m\u001b[1;32m      5\u001b[0m \u001b[0;34m\u001b[0m\u001b[0m\n\u001b[1;32m      6\u001b[0m \u001b[0;31m#2. 형변환 할 때 발생하는 ValueError\u001b[0m\u001b[0;34m\u001b[0m\u001b[0;34m\u001b[0m\u001b[0m\n",
      "\u001b[0;31mZeroDivisionError\u001b[0m: division by zero"
     ]
    }
   ],
   "source": [
    "# 에러의 예시\n",
    "\n",
    "#1. 0으로 나눌 수 없는 ZeroDivisionError\n",
    "10 / 0\n",
    "\n",
    "#2. 형변환 할 때 발생하는 ValueError\n",
    "int('s')\n",
    "\n",
    "#3. 변수가 선언되지 않았을 때 발생하는 NameError\n",
    "hello += 1\n",
    "\n",
    "#4. 인덱스 범위를 벗어나는 IndexError\n",
    "'a'[10]\n",
    "\n",
    "#5. 등등"
   ]
  },
  {
   "cell_type": "code",
   "execution_count": 33,
   "id": "f314a608",
   "metadata": {},
   "outputs": [
    {
     "name": "stdout",
     "output_type": "stream",
     "text": [
      "0으로 나눌 수 없습니다.\n"
     ]
    }
   ],
   "source": [
    "try:\n",
    "    # 에러가 발생될 법한 코드 블럭\n",
    "    10 / 0\n",
    "except ZeroDivisionError: # 에러의 종류\n",
    "    # 에러가 발생했을 때 처리할 방법\n",
    "    # 에러가 발생하면 except 아래의 코드가 실행된다\n",
    "    print('0으로 나눌 수 없습니다.')"
   ]
  },
  {
   "cell_type": "code",
   "execution_count": 34,
   "id": "a81a5452",
   "metadata": {},
   "outputs": [
    {
     "name": "stdout",
     "output_type": "stream",
     "text": [
      "error\n"
     ]
    }
   ],
   "source": [
    "try:\n",
    "    for i in range(10):\n",
    "        print(10 / i)\n",
    "except ZeroDivisionError:\n",
    "    print('error')\n",
    "    \n",
    "# 전체 코드를 try-except로 감싸면\n",
    "# error가 발생하는 부분 외에 다른 부분도 실행되지 않고 종료되어 버린다"
   ]
  },
  {
   "cell_type": "code",
   "execution_count": 35,
   "id": "2fd2208f",
   "metadata": {},
   "outputs": [
    {
     "name": "stdout",
     "output_type": "stream",
     "text": [
      "error\n",
      "10\n",
      "5\n",
      "3\n",
      "2\n",
      "2\n",
      "1\n",
      "1\n",
      "1\n",
      "1\n"
     ]
    }
   ],
   "source": [
    "for i in range(10):\n",
    "    try:\n",
    "        print(10 // i)\n",
    "    except ZeroDivisionError:\n",
    "        print('error')\n",
    "        \n",
    "# 따라서 에러가 발생하지 않는 부분은 정상적으로 실행하고 싶다면\n",
    "# try-except의 위치를 적절히 설정하는 것이 중요하다"
   ]
  },
  {
   "cell_type": "code",
   "execution_count": 36,
   "id": "74649c36",
   "metadata": {},
   "outputs": [
    {
     "name": "stdout",
     "output_type": "stream",
     "text": [
      "인덱스를 입력하세요: h\n",
      "type error\n",
      "invalid literal for int() with base 10: 'h'\n",
      "인덱스를 입력하세요: 10\n",
      "index error\n",
      "string index out of range\n",
      "인덱스를 입력하세요: q\n"
     ]
    }
   ],
   "source": [
    "word = 'hello'\n",
    "while True:\n",
    "    index = input('인덱스를 입력하세요: ')\n",
    "    if index == 'q':\n",
    "        break\n",
    "    try:\n",
    "        print(word[int(index)])\n",
    "        \n",
    "    # 발생 가능성이 있는 예외 모두 처리해주기\n",
    "    # 사용자가 인덱스를 글자로 입력할 수 있다 -> ValueError\n",
    "    except ValueError as e1: \n",
    "        print('type error')\n",
    "        print(e1) # handler: error의 종류를 프린트해준다\n",
    "        \n",
    "    # 사용자가 입력한 인덱스가 범위를 벗어날 수 있다 -> IndexError\n",
    "    except IndexError as e2:\n",
    "        print('index error')\n",
    "        print(e2)"
   ]
  },
  {
   "cell_type": "markdown",
   "id": "ec002d0c",
   "metadata": {},
   "source": [
    "### 예외 발생시키기\n",
    "- 프로그램을 강제로 종료하고자 할 때 사용된다\n",
    "- raise\n",
    "    - 예외를 일으키는 느낌\n",
    "- assert\n",
    "    - 예외를 체크하는 느낌"
   ]
  },
  {
   "cell_type": "code",
   "execution_count": 38,
   "id": "8fc25aa9",
   "metadata": {},
   "outputs": [
    {
     "name": "stdout",
     "output_type": "stream",
     "text": [
      "숫자를 입력해주세요: q\n"
     ]
    },
    {
     "ename": "ValueError",
     "evalue": "숫자가 아닙니다.",
     "output_type": "error",
     "traceback": [
      "\u001b[0;31m---------------------------------------------------------------------------\u001b[0m",
      "\u001b[0;31mValueError\u001b[0m                                Traceback (most recent call last)",
      "\u001b[0;32m/var/folders/d0/m7yn6fkn5q122l8ln587gfdh0000gn/T/ipykernel_64854/128568885.py\u001b[0m in \u001b[0;36m<module>\u001b[0;34m\u001b[0m\n\u001b[1;32m      4\u001b[0m     \u001b[0mnum\u001b[0m \u001b[0;34m=\u001b[0m \u001b[0minput\u001b[0m\u001b[0;34m(\u001b[0m\u001b[0;34m'숫자를 입력해주세요: '\u001b[0m\u001b[0;34m)\u001b[0m\u001b[0;34m\u001b[0m\u001b[0;34m\u001b[0m\u001b[0m\n\u001b[1;32m      5\u001b[0m     \u001b[0;32mif\u001b[0m \u001b[0;32mnot\u001b[0m \u001b[0mnum\u001b[0m\u001b[0;34m.\u001b[0m\u001b[0misdigit\u001b[0m\u001b[0;34m(\u001b[0m\u001b[0;34m)\u001b[0m\u001b[0;34m:\u001b[0m\u001b[0;34m\u001b[0m\u001b[0;34m\u001b[0m\u001b[0m\n\u001b[0;32m----> 6\u001b[0;31m         \u001b[0;32mraise\u001b[0m \u001b[0mValueError\u001b[0m\u001b[0;34m(\u001b[0m\u001b[0;34m'숫자가 아닙니다.'\u001b[0m\u001b[0;34m)\u001b[0m\u001b[0;34m\u001b[0m\u001b[0;34m\u001b[0m\u001b[0m\n\u001b[0m\u001b[1;32m      7\u001b[0m         \u001b[0;31m# raise는 try-except와 달리 에러를 넘어가는 것이 아니라 에러가 발생한다\u001b[0m\u001b[0;34m\u001b[0m\u001b[0;34m\u001b[0m\u001b[0m\n\u001b[1;32m      8\u001b[0m     \u001b[0;32melse\u001b[0m\u001b[0;34m:\u001b[0m\u001b[0;34m\u001b[0m\u001b[0;34m\u001b[0m\u001b[0m\n",
      "\u001b[0;31mValueError\u001b[0m: 숫자가 아닙니다."
     ]
    }
   ],
   "source": [
    "# raise <error type> (출력하고자 하는 텍스트)\n",
    "\n",
    "while True:\n",
    "    num = input('숫자를 입력해주세요: ')\n",
    "    if not num.isdigit():\n",
    "        raise ValueError('숫자가 아닙니다.') \n",
    "        # raise는 try-except와 달리 에러를 넘어가는 것이 아니라 에러가 발생한다\n",
    "    else:\n",
    "        print(num)\n",
    "        break"
   ]
  },
  {
   "cell_type": "code",
   "execution_count": 39,
   "id": "175fb2ae",
   "metadata": {},
   "outputs": [
    {
     "ename": "AssertionError",
     "evalue": "정수가 아닙니다.",
     "output_type": "error",
     "traceback": [
      "\u001b[0;31m---------------------------------------------------------------------------\u001b[0m",
      "\u001b[0;31mAssertionError\u001b[0m                            Traceback (most recent call last)",
      "\u001b[0;32m/var/folders/d0/m7yn6fkn5q122l8ln587gfdh0000gn/T/ipykernel_64854/2209816404.py\u001b[0m in \u001b[0;36m<module>\u001b[0;34m\u001b[0m\n\u001b[1;32m      5\u001b[0m     \u001b[0;32mreturn\u001b[0m \u001b[0mbin\u001b[0m\u001b[0;34m(\u001b[0m\u001b[0mnum\u001b[0m\u001b[0;34m)\u001b[0m\u001b[0;34m\u001b[0m\u001b[0;34m\u001b[0m\u001b[0m\n\u001b[1;32m      6\u001b[0m \u001b[0;34m\u001b[0m\u001b[0m\n\u001b[0;32m----> 7\u001b[0;31m \u001b[0mget_binary\u001b[0m\u001b[0;34m(\u001b[0m\u001b[0;34m'a'\u001b[0m\u001b[0;34m)\u001b[0m\u001b[0;34m\u001b[0m\u001b[0;34m\u001b[0m\u001b[0m\n\u001b[0m",
      "\u001b[0;32m/var/folders/d0/m7yn6fkn5q122l8ln587gfdh0000gn/T/ipykernel_64854/2209816404.py\u001b[0m in \u001b[0;36mget_binary\u001b[0;34m(num)\u001b[0m\n\u001b[1;32m      1\u001b[0m \u001b[0;31m# assert <참인 조건> (출력하고자 하는 텍스트)\u001b[0m\u001b[0;34m\u001b[0m\u001b[0;34m\u001b[0m\u001b[0m\n\u001b[1;32m      2\u001b[0m \u001b[0;32mdef\u001b[0m \u001b[0mget_binary\u001b[0m\u001b[0;34m(\u001b[0m\u001b[0mnum\u001b[0m\u001b[0;34m)\u001b[0m\u001b[0;34m:\u001b[0m\u001b[0;34m\u001b[0m\u001b[0;34m\u001b[0m\u001b[0m\n\u001b[0;32m----> 3\u001b[0;31m     \u001b[0;32massert\u001b[0m \u001b[0misinstance\u001b[0m\u001b[0;34m(\u001b[0m\u001b[0mnum\u001b[0m\u001b[0;34m,\u001b[0m \u001b[0mint\u001b[0m\u001b[0;34m)\u001b[0m\u001b[0;34m,\u001b[0m \u001b[0;34m'정수가 아닙니다.'\u001b[0m\u001b[0;34m\u001b[0m\u001b[0;34m\u001b[0m\u001b[0m\n\u001b[0m\u001b[1;32m      4\u001b[0m     \u001b[0;31m# 어떤 부분에서 어떤 에러가 발생했는지 정확히 체크할 수 있다\u001b[0m\u001b[0;34m\u001b[0m\u001b[0;34m\u001b[0m\u001b[0m\n\u001b[1;32m      5\u001b[0m     \u001b[0;32mreturn\u001b[0m \u001b[0mbin\u001b[0m\u001b[0;34m(\u001b[0m\u001b[0mnum\u001b[0m\u001b[0;34m)\u001b[0m\u001b[0;34m\u001b[0m\u001b[0;34m\u001b[0m\u001b[0m\n",
      "\u001b[0;31mAssertionError\u001b[0m: 정수가 아닙니다."
     ]
    }
   ],
   "source": [
    "# assert <참인 조건> (출력하고자 하는 텍스트)\n",
    "def get_binary(num):\n",
    "    assert isinstance(num, int), '정수가 아닙니다.'\n",
    "    # 어떤 부분에서 어떤 에러가 발생했는지 정확히 체크할 수 있다\n",
    "    return bin(num)\n",
    "\n",
    "get_binary('a')"
   ]
  },
  {
   "cell_type": "markdown",
   "id": "10d50861",
   "metadata": {},
   "source": [
    "### 예외 정의하기\n",
    "- 사용자가 정의하는 예외\n",
    "- Exception이라는 부모클래스를 상속받는다"
   ]
  },
  {
   "cell_type": "code",
   "execution_count": 40,
   "id": "0013144b",
   "metadata": {},
   "outputs": [
    {
     "name": "stdout",
     "output_type": "stream",
     "text": [
      "a\n",
      "b\n"
     ]
    },
    {
     "ename": "MyException",
     "evalue": "대문자는 출력할 수 없습니다.",
     "output_type": "error",
     "traceback": [
      "\u001b[0;31m---------------------------------------------------------------------------\u001b[0m",
      "\u001b[0;31mMyException\u001b[0m                               Traceback (most recent call last)",
      "\u001b[0;32m/var/folders/d0/m7yn6fkn5q122l8ln587gfdh0000gn/T/ipykernel_64854/3818983232.py\u001b[0m in \u001b[0;36m<module>\u001b[0;34m\u001b[0m\n\u001b[1;32m      5\u001b[0m \u001b[0;32mfor\u001b[0m \u001b[0mword\u001b[0m \u001b[0;32min\u001b[0m \u001b[0;34m[\u001b[0m\u001b[0;34m'a'\u001b[0m\u001b[0;34m,\u001b[0m \u001b[0;34m'b'\u001b[0m\u001b[0;34m,\u001b[0m \u001b[0;34m'C'\u001b[0m\u001b[0;34m]\u001b[0m\u001b[0;34m:\u001b[0m\u001b[0;34m\u001b[0m\u001b[0;34m\u001b[0m\u001b[0m\n\u001b[1;32m      6\u001b[0m     \u001b[0;32mif\u001b[0m \u001b[0mword\u001b[0m\u001b[0;34m.\u001b[0m\u001b[0misupper\u001b[0m\u001b[0;34m(\u001b[0m\u001b[0;34m)\u001b[0m\u001b[0;34m:\u001b[0m\u001b[0;34m\u001b[0m\u001b[0;34m\u001b[0m\u001b[0m\n\u001b[0;32m----> 7\u001b[0;31m         \u001b[0;32mraise\u001b[0m \u001b[0mMyException\u001b[0m\u001b[0;34m(\u001b[0m\u001b[0;34m'대문자는 출력할 수 없습니다.'\u001b[0m\u001b[0;34m)\u001b[0m\u001b[0;34m\u001b[0m\u001b[0;34m\u001b[0m\u001b[0m\n\u001b[0m\u001b[1;32m      8\u001b[0m         \u001b[0;31m# 괄호 안에 출력하고자하는 에러 메시지를 작성한다\u001b[0m\u001b[0;34m\u001b[0m\u001b[0;34m\u001b[0m\u001b[0m\n\u001b[1;32m      9\u001b[0m     \u001b[0;32melse\u001b[0m\u001b[0;34m:\u001b[0m\u001b[0;34m\u001b[0m\u001b[0;34m\u001b[0m\u001b[0m\n",
      "\u001b[0;31mMyException\u001b[0m: 대문자는 출력할 수 없습니다."
     ]
    }
   ],
   "source": [
    "class MyException(Exception): # Exception 클래스를 상속받는다\n",
    "    pass # 내용은 안적어줘도 된다\n",
    "\n",
    "# 대문자를 출력하려고 하면 에러를 발생하고 싶을 때\n",
    "for word in ['a', 'b', 'C']:\n",
    "    if word.isupper():\n",
    "        raise MyException('대문자는 출력할 수 없습니다.')\n",
    "        # 괄호 안에 출력하고자하는 에러 메시지를 작성한다\n",
    "    else:\n",
    "        print(word)"
   ]
  },
  {
   "cell_type": "code",
   "execution_count": 41,
   "id": "e16f51c6",
   "metadata": {},
   "outputs": [
    {
     "name": "stdout",
     "output_type": "stream",
     "text": [
      "a\n",
      "b\n"
     ]
    },
    {
     "ename": "MyException",
     "evalue": "대문자는 출력할 수 없습니다.",
     "output_type": "error",
     "traceback": [
      "\u001b[0;31m---------------------------------------------------------------------------\u001b[0m",
      "\u001b[0;31mMyException\u001b[0m                               Traceback (most recent call last)",
      "\u001b[0;32m/var/folders/d0/m7yn6fkn5q122l8ln587gfdh0000gn/T/ipykernel_64854/958302595.py\u001b[0m in \u001b[0;36m<module>\u001b[0;34m\u001b[0m\n\u001b[1;32m      6\u001b[0m \u001b[0;32mfor\u001b[0m \u001b[0mword\u001b[0m \u001b[0;32min\u001b[0m \u001b[0;34m[\u001b[0m\u001b[0;34m'a'\u001b[0m\u001b[0;34m,\u001b[0m \u001b[0;34m'b'\u001b[0m\u001b[0;34m,\u001b[0m \u001b[0;34m'C'\u001b[0m\u001b[0;34m]\u001b[0m\u001b[0;34m:\u001b[0m\u001b[0;34m\u001b[0m\u001b[0;34m\u001b[0m\u001b[0m\n\u001b[1;32m      7\u001b[0m     \u001b[0;32mif\u001b[0m \u001b[0mword\u001b[0m\u001b[0;34m.\u001b[0m\u001b[0misupper\u001b[0m\u001b[0;34m(\u001b[0m\u001b[0;34m)\u001b[0m\u001b[0;34m:\u001b[0m\u001b[0;34m\u001b[0m\u001b[0;34m\u001b[0m\u001b[0m\n\u001b[0;32m----> 8\u001b[0;31m         \u001b[0;32mraise\u001b[0m \u001b[0mMyException\u001b[0m\u001b[0;34m\u001b[0m\u001b[0;34m\u001b[0m\u001b[0m\n\u001b[0m\u001b[1;32m      9\u001b[0m         \u001b[0;31m# 생성자에서 미리 에러 메시지를 작성했으므로 따로 작성할 필요가 없다\u001b[0m\u001b[0;34m\u001b[0m\u001b[0;34m\u001b[0m\u001b[0m\n\u001b[1;32m     10\u001b[0m     \u001b[0;32melse\u001b[0m\u001b[0;34m:\u001b[0m\u001b[0;34m\u001b[0m\u001b[0;34m\u001b[0m\u001b[0m\n",
      "\u001b[0;31mMyException\u001b[0m: 대문자는 출력할 수 없습니다."
     ]
    }
   ],
   "source": [
    "class MyException(Exception):\n",
    "    def __init__(self):\n",
    "        super().__init__('대문자는 출력할 수 없습니다.')\n",
    "        # 부모 생성자에서 미리 에러 메시지를 작성할 수도 있다\n",
    "        \n",
    "for word in ['a', 'b', 'C']:\n",
    "    if word.isupper():\n",
    "        raise MyException\n",
    "        # 생성자에서 미리 에러 메시지를 작성했으므로 따로 작성할 필요가 없다\n",
    "    else:\n",
    "        print(word)"
   ]
  }
 ],
 "metadata": {
  "kernelspec": {
   "display_name": "Python 3 (ipykernel)",
   "language": "python",
   "name": "python3"
  },
  "language_info": {
   "codemirror_mode": {
    "name": "ipython",
    "version": 3
   },
   "file_extension": ".py",
   "mimetype": "text/x-python",
   "name": "python",
   "nbconvert_exporter": "python",
   "pygments_lexer": "ipython3",
   "version": "3.9.7"
  }
 },
 "nbformat": 4,
 "nbformat_minor": 5
}
