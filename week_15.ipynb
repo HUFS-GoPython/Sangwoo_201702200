{
 "cells": [
  {
   "cell_type": "markdown",
   "id": "bcc7c0b0",
   "metadata": {},
   "source": [
    "### 파일과 디렉터리\n",
    "- 파일: 컴퓨터를 실행하는 기본 단위\n",
    "    - 파일명과 확장자로 이루어진다\n",
    "        - 확장자: 파일의 쓰임을 구분하는 글자\n",
    "        - pdf, xlsx, txt, ...\n",
    "    - 파일의 종류\n",
    "        - 바이너리 파일\n",
    "            - 이진정보로 저장된다\n",
    "            - 내용을 확인할 수 없다\n",
    "            - 내용을 확인하려면 해당 확장자를 열 수 있는 프로그램이 필요하다 (엑셀, 워드, pdf, ...)\n",
    "            - 이진정보로 저장되어 효율적이지만 사람에게는 사용이 불편하다\n",
    "        - 텍스트 파일\n",
    "            - 사람이 이해할 수 있는 문자열로 저장된다 (메모장, html, py, ...)\n",
    "            - 컴퓨터 내에서는 문자열이 바이너리로 변환되어 인식된다\n",
    "            - 문자열로 변경하는 기준은 아스키코드, 유니코드 등이 있다\n",
    "            - utf-8, cp494 등의 표준에 맞춰 저장하는 행위를 인코딩(encoding)이라고 한다\n",
    "            \n",
    "            \n",
    "- 디렉터리: 폴더의 다른말로, 파일이 논리적으로 묶인 단위"
   ]
  },
  {
   "cell_type": "markdown",
   "id": "8c5949cb",
   "metadata": {},
   "source": [
    "### 파일 열기\n",
    "- open(파일명, 모드)\n",
    "- 모드\n",
    "    - r: read (기본값이다)\n",
    "    - w: write (파일이 있으면 덮어쓰고, 없으면 생성한다)\n",
    "    - x (파일이 없을 때만 생성한다)\n",
    "    - a (파일이 있으면 마지막 라인에 추가한다)\n",
    "- 추가모드\n",
    "    - b: 바이너리파일\n",
    "    - t: 텍스트파일 (기본값이다)"
   ]
  },
  {
   "cell_type": "code",
   "execution_count": 12,
   "id": "06ea41d2",
   "metadata": {},
   "outputs": [
    {
     "data": {
      "text/plain": [
       "<_io.TextIOWrapper name='test.txt' mode='r' encoding='UTF-8'>"
      ]
     },
     "execution_count": 12,
     "metadata": {},
     "output_type": "execute_result"
    }
   ],
   "source": [
    "# 파일 열기\n",
    "file = 'test.txt'\n",
    "f = open(file, 'r')\n",
    "f"
   ]
  },
  {
   "cell_type": "markdown",
   "id": "19bb8eb8",
   "metadata": {},
   "source": [
    "### 파일 읽기\n",
    "- 포인터가 있으니 주의\n",
    "- read(): 전체를 하나의 문자열로 가져온다\n",
    "- readline(): 한줄만 문자열로 가져온다\n",
    "- readlines(): 전체를 리스트로 가져온다, 각 줄이 하나의 문자열이 된다"
   ]
  },
  {
   "cell_type": "code",
   "execution_count": 2,
   "id": "ccd10908",
   "metadata": {},
   "outputs": [
    {
     "data": {
      "text/plain": [
       "\"Hello, world!\\nI'm learning Python.\\nI'm reading a book.\\n\""
      ]
     },
     "execution_count": 2,
     "metadata": {},
     "output_type": "execute_result"
    }
   ],
   "source": [
    "# 파일 읽기\n",
    "f.read()"
   ]
  },
  {
   "cell_type": "code",
   "execution_count": 3,
   "id": "14846631",
   "metadata": {},
   "outputs": [
    {
     "data": {
      "text/plain": [
       "''"
      ]
     },
     "execution_count": 3,
     "metadata": {},
     "output_type": "execute_result"
    }
   ],
   "source": [
    "f.read() # 이미 한번 다 읽어서 포인터가 끝에 있으므로 다시 read하면 읽을 문자열이 없다"
   ]
  },
  {
   "cell_type": "code",
   "execution_count": 5,
   "id": "9c7a688a",
   "metadata": {},
   "outputs": [
    {
     "data": {
      "text/plain": [
       "'Hello'"
      ]
     },
     "execution_count": 5,
     "metadata": {},
     "output_type": "execute_result"
    }
   ],
   "source": [
    "# 파일을 다시 연 후\n",
    "\n",
    "f.read(5) # 몇 글자까지 read할지 설정이 가능하다"
   ]
  },
  {
   "cell_type": "code",
   "execution_count": 11,
   "id": "6f60aed2",
   "metadata": {},
   "outputs": [
    {
     "data": {
      "text/plain": [
       "'Hello, world!\\n'"
      ]
     },
     "execution_count": 11,
     "metadata": {},
     "output_type": "execute_result"
    }
   ],
   "source": [
    "# 파일을 다시 연 후\n",
    "\n",
    "f.readline() # 한 줄만 문자열로 가져오기"
   ]
  },
  {
   "cell_type": "code",
   "execution_count": 13,
   "id": "b5ad1cea",
   "metadata": {},
   "outputs": [
    {
     "data": {
      "text/plain": [
       "['Hello, world!\\n', \"I'm learning Python.\\n\", \"I'm reading a book.\\n\"]"
      ]
     },
     "execution_count": 13,
     "metadata": {},
     "output_type": "execute_result"
    }
   ],
   "source": [
    "# 파일을 다시 연 후\n",
    "\n",
    "f.readlines() # 전체를 리스트로 가져온다, 각 줄이 하나의 문자열"
   ]
  },
  {
   "cell_type": "code",
   "execution_count": 14,
   "id": "4265db25",
   "metadata": {},
   "outputs": [
    {
     "data": {
      "text/plain": [
       "['Hello, world!', \"I'm learning Python.\", \"I'm reading a book.\"]"
      ]
     },
     "execution_count": 14,
     "metadata": {},
     "output_type": "execute_result"
    }
   ],
   "source": [
    "f = open(file, 'r')\n",
    "sents = f.readlines()\n",
    "sents = [s.strip() for s in sents] # 텍스트 정제\n",
    "f.close()\n",
    "\n",
    "sents"
   ]
  },
  {
   "cell_type": "markdown",
   "id": "e4333b26",
   "metadata": {},
   "source": [
    "### 파일 닫기\n",
    "- 파일은 여는 즉시 닫아야한다"
   ]
  },
  {
   "cell_type": "code",
   "execution_count": 15,
   "id": "01cd1988",
   "metadata": {},
   "outputs": [
    {
     "data": {
      "text/plain": [
       "\"Hello, world!\\nI'm learning Python.\\nI'm reading a book.\\n\""
      ]
     },
     "execution_count": 15,
     "metadata": {},
     "output_type": "execute_result"
    }
   ],
   "source": [
    "with open(file, 'r') as f:\n",
    "    # open()이 적용되는 블럭\n",
    "    content = f.read()\n",
    "# 파일이 자동으로 닫힌다\n",
    "\n",
    "content"
   ]
  },
  {
   "cell_type": "code",
   "execution_count": 16,
   "id": "e48ba611",
   "metadata": {},
   "outputs": [
    {
     "name": "stdout",
     "output_type": "stream",
     "text": [
      "['Hello, world!', \"I'm learning Python.\", \"I'm reading a book.\"]\n"
     ]
    }
   ],
   "source": [
    "# while을 사용해서 readline으로 한 줄씩 읽고 strip()한 뒤 리스트에 반환하는 함수 만들기\n",
    "file = 'test.txt'\n",
    "with open(file, 'r') as f:\n",
    "    lines = []\n",
    "    while True:\n",
    "        sent = f.readline()\n",
    "        if not sent:\n",
    "            break\n",
    "        lines.append(sent.strip())\n",
    "print(lines)"
   ]
  },
  {
   "cell_type": "markdown",
   "id": "8a19a261",
   "metadata": {},
   "source": [
    "### 다른 디렉터리의 파일 접근\n",
    "- . : 현재 경로\n",
    "- .. : 상위 경로"
   ]
  },
  {
   "cell_type": "code",
   "execution_count": 17,
   "id": "0b65612c",
   "metadata": {},
   "outputs": [
    {
     "name": "stdout",
     "output_type": "stream",
     "text": [
      "Hello, world!\n",
      "I'm learning Python.\n",
      "I'm reading a book.\n",
      "\n"
     ]
    }
   ],
   "source": [
    "file = './folder/test.txt'\n",
    "\n",
    "with open(file) as f:\n",
    "    print(f.read())"
   ]
  },
  {
   "cell_type": "markdown",
   "id": "a821ec17",
   "metadata": {},
   "source": [
    "### 파일 쓰기\n",
    "- 인코딩에 유의해야한다"
   ]
  },
  {
   "cell_type": "code",
   "execution_count": 18,
   "id": "781eb94f",
   "metadata": {},
   "outputs": [],
   "source": [
    "with open('test2.txt', 'w', encoding='utf-8') as f:\n",
    "    for i in range(10):\n",
    "        data = f'{i}번째 줄입니다.\\n'\n",
    "        f.write(data)"
   ]
  },
  {
   "cell_type": "code",
   "execution_count": 19,
   "id": "ac1a5868",
   "metadata": {},
   "outputs": [],
   "source": [
    "# print()를 사용하여 쓰기\n",
    "file_out = open('test2.txt', 'a', encoding='utf-8')\n",
    "print('한 줄 추가했습니다.', file=file_out)\n",
    "file_out.close()"
   ]
  },
  {
   "cell_type": "code",
   "execution_count": 21,
   "id": "3d13e077",
   "metadata": {},
   "outputs": [],
   "source": [
    "# folder를 만들어서 추가하는 방법\n",
    "# 먼저 폴더를 만들고 접근해야한다\n",
    "\n",
    "import os\n",
    "os.mkdir('new folder') # mkdir = make directory 폴더 생성"
   ]
  },
  {
   "cell_type": "code",
   "execution_count": 22,
   "id": "bff9bde2",
   "metadata": {},
   "outputs": [],
   "source": [
    "with open('./new folder/test.txt', 'w', encoding='utf-8') as f:\n",
    "    for i in range(10):\n",
    "        data = f'{i}번째 줄입니다.\\n'\n",
    "        f.write(data)"
   ]
  },
  {
   "cell_type": "code",
   "execution_count": 24,
   "id": "611535c6",
   "metadata": {},
   "outputs": [],
   "source": [
    "# 폴더가 있는지 확인하기\n",
    "# os.isdir(폴더 이름)\n",
    "\n",
    "path = 'new folder'\n",
    "\n",
    "# 폴더가 없으면 만들어라\n",
    "if not os.path.isdir(path):\n",
    "    os.mkdir(path)\n",
    "    \n",
    "dir_name = os.path.join(path, 'test.txt')\n",
    "\n",
    "# 파일이 없으면 써라\n",
    "# 덮어쓸 가능성을 배제한다\n",
    "if not os.path.exists(dir_name):\n",
    "    with open('test.txt', 'w', encoding='utf-8') as f:\n",
    "        for i in range(10):\n",
    "            data = f'{i}번째 줄입니다.\\n'\n",
    "            f.write(data)"
   ]
  },
  {
   "cell_type": "code",
   "execution_count": 25,
   "id": "4a4ad7cd",
   "metadata": {},
   "outputs": [
    {
     "ename": "OSError",
     "evalue": "[Errno 66] Directory not empty: 'new folder'",
     "output_type": "error",
     "traceback": [
      "\u001b[0;31m---------------------------------------------------------------------------\u001b[0m",
      "\u001b[0;31mOSError\u001b[0m                                   Traceback (most recent call last)",
      "\u001b[0;32m/var/folders/d0/m7yn6fkn5q122l8ln587gfdh0000gn/T/ipykernel_25986/1529947200.py\u001b[0m in \u001b[0;36m<module>\u001b[0;34m\u001b[0m\n\u001b[1;32m      4\u001b[0m \u001b[0;31m# 폴더 지우기\u001b[0m\u001b[0;34m\u001b[0m\u001b[0;34m\u001b[0m\u001b[0m\n\u001b[1;32m      5\u001b[0m \u001b[0;31m# 폴더 안에 파일이 있으면 삭제할 수 없다\u001b[0m\u001b[0;34m\u001b[0m\u001b[0;34m\u001b[0m\u001b[0m\n\u001b[0;32m----> 6\u001b[0;31m \u001b[0mos\u001b[0m\u001b[0;34m.\u001b[0m\u001b[0mrmdir\u001b[0m\u001b[0;34m(\u001b[0m\u001b[0;34m'new folder'\u001b[0m\u001b[0;34m)\u001b[0m\u001b[0;34m\u001b[0m\u001b[0;34m\u001b[0m\u001b[0m\n\u001b[0m",
      "\u001b[0;31mOSError\u001b[0m: [Errno 66] Directory not empty: 'new folder'"
     ]
    }
   ],
   "source": [
    "# 파일 지우기\n",
    "os.remove('test.txt')\n",
    "\n",
    "# 폴더 지우기\n",
    "# 폴더 안에 파일이 있으면 삭제할 수 없다\n",
    "os.rmdir('new folder')"
   ]
  },
  {
   "cell_type": "code",
   "execution_count": 26,
   "id": "e8964d78",
   "metadata": {},
   "outputs": [],
   "source": [
    "import shutil\n",
    "# remove tree\n",
    "# 폴더 안에 파일이 있어도 강제로 전부 삭제한다\n",
    "shutil.rmtree('new folder')"
   ]
  },
  {
   "cell_type": "code",
   "execution_count": 27,
   "id": "bc7f2259",
   "metadata": {},
   "outputs": [],
   "source": [
    "# 폴더 새로 만들고\n",
    "# 파일에 내용 쓰고\n",
    "# 파일 열기\n",
    "\n",
    "path = 'new folder'\n",
    "\n",
    "if not os.path.isdir(path):\n",
    "    os.mkdir(path)\n",
    "    \n",
    "dir_name = os.path.join(path, 'test.txt')\n",
    "\n",
    "if not os.path.exists(dir_name):\n",
    "    with open('test.txt', 'w', encoding='utf-8') as f:\n",
    "        for i in range(10):\n",
    "            data = f'{i}번째 줄입니다.\\n'\n",
    "            f.write(data)"
   ]
  },
  {
   "cell_type": "code",
   "execution_count": 28,
   "id": "fdd311c7",
   "metadata": {},
   "outputs": [
    {
     "data": {
      "text/plain": [
       "'/Users/yong/Desktop/2022년도 1학기/고급파이썬프로그래밍/복습/week_15'"
      ]
     },
     "execution_count": 28,
     "metadata": {},
     "output_type": "execute_result"
    }
   ],
   "source": [
    "# 현재 디렉터리 위치 반환\n",
    "# get current working directory\n",
    "os.getcwd()"
   ]
  },
  {
   "cell_type": "code",
   "execution_count": 29,
   "id": "9e9f131c",
   "metadata": {},
   "outputs": [],
   "source": [
    "# 디렉터리 위치 바꾸기\n",
    "# change directory\n",
    "os.chdir('..')"
   ]
  },
  {
   "cell_type": "markdown",
   "id": "a375db8f",
   "metadata": {},
   "source": [
    "### pickle\n",
    "- 객체를 파일로 저장하는 기능을 제공한다"
   ]
  },
  {
   "cell_type": "code",
   "execution_count": 30,
   "id": "45e1a7e5",
   "metadata": {},
   "outputs": [],
   "source": [
    "import pickle\n",
    "\n",
    "nums = list(range(10))\n",
    "\n",
    "with open('test.pickle', 'wb') as f: # wb = write binary\n",
    "    pickle.dump(nums, f)"
   ]
  },
  {
   "cell_type": "code",
   "execution_count": 31,
   "id": "3bbbe81f",
   "metadata": {},
   "outputs": [
    {
     "data": {
      "text/plain": [
       "[0, 1, 2, 3, 4, 5, 6, 7, 8, 9]"
      ]
     },
     "execution_count": 31,
     "metadata": {},
     "output_type": "execute_result"
    }
   ],
   "source": [
    "with open('test.pickle', 'rb') as f: # rb = read binary\n",
    "    number = pickle.load(f)\n",
    "\n",
    "number"
   ]
  }
 ],
 "metadata": {
  "kernelspec": {
   "display_name": "Python 3 (ipykernel)",
   "language": "python",
   "name": "python3"
  },
  "language_info": {
   "codemirror_mode": {
    "name": "ipython",
    "version": 3
   },
   "file_extension": ".py",
   "mimetype": "text/x-python",
   "name": "python",
   "nbconvert_exporter": "python",
   "pygments_lexer": "ipython3",
   "version": "3.9.7"
  }
 },
 "nbformat": 4,
 "nbformat_minor": 5
}
