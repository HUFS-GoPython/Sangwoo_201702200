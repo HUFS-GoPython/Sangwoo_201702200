{
 "cells": [
  {
   "cell_type": "markdown",
   "id": "49ffb307",
   "metadata": {},
   "source": [
    "## Dictionary\n",
    "\n",
    "- 영어 사전과 같은 구조\n",
    "    - 단어: 뜻\n",
    "    - 키: 값\n",
    "        - 키로 값을 찾기 때문에, 키는 중복되지 않는 고유한 값\n",
    "    - ':'으로 짝 지어져 있는 형태의 자료구조\n",
    "- 순서가 없다 = 인덱싱이 불가능하다\n",
    "- 가변 타입이어서 수정, 삭제, 추가가 가능하다\n",
    "- 타입은 dict\n",
    "- 형 변환은 dict()\n",
    "- 중괄호 {}를 사용하며, 콤마로 구분한다\n",
    "- 값에 다양한 자료구조가 올 수 있다 (중요!!)\n",
    "    - 단순히 a:1 뿐만 아니라, a:[1, 2, 3, 4]와 같이 리스트도 값에 올 수 있다\n",
    "\n"
   ]
  },
  {
   "cell_type": "code",
   "execution_count": 5,
   "id": "4ff0b446",
   "metadata": {},
   "outputs": [
    {
     "name": "stdout",
     "output_type": "stream",
     "text": [
      "<class 'dict'> <class 'dict'>\n",
      "<class 'set'>\n"
     ]
    }
   ],
   "source": [
    "# 빈 딕셔너리 선언하는 방법\n",
    "empty = dict()\n",
    "empty_dict = {}\n",
    "print(type(empty), type(empty_dict))\n",
    "\n",
    "# set\n",
    "empty_set = set()\n",
    "print(type(empty_set))"
   ]
  },
  {
   "cell_type": "code",
   "execution_count": 6,
   "id": "281ca1d2",
   "metadata": {},
   "outputs": [
    {
     "data": {
      "text/plain": [
       "({1, 2, 3}, {1: 'apple', 2: 'banana', 3: 'kiwi'})"
      ]
     },
     "execution_count": 6,
     "metadata": {},
     "output_type": "execute_result"
    }
   ],
   "source": [
    "# set과 헷갈리지 않도록 주의!\n",
    "\n",
    "# 이렇게 초기화하면 set\n",
    "_set = {1, 2, 3}\n",
    "\n",
    "# 이렇게 초기화해야 dict\n",
    "_dict = {1:'apple', 2:'banana', 3:'kiwi'} \n",
    "\n",
    "_set, _dict"
   ]
  },
  {
   "cell_type": "code",
   "execution_count": 7,
   "id": "5fb48dac",
   "metadata": {},
   "outputs": [
    {
     "data": {
      "text/plain": [
       "{'apple': 'a', 'banana': 'b', 'kiwi': 'c'}"
      ]
     },
     "execution_count": 7,
     "metadata": {},
     "output_type": "execute_result"
    }
   ],
   "source": [
    "# ':'로 딕셔너리 만들기 귀찮은 경우\n",
    "\n",
    "# 이런식으로 선언하는 방식도 가능하다\n",
    "# 이 경우 키 값은 '' 안해도 됨\n",
    "_dict = dict(apple='a', banana='b', kiwi='c')\n",
    "_dict"
   ]
  },
  {
   "cell_type": "markdown",
   "id": "4e677f78",
   "metadata": {},
   "source": [
    "### 딕셔너리 실습 1\n",
    "- 출석부로 딕셔너리 만들기\n",
    "- 이름, 학번, 학과\n",
    "\n",
    "    james 202201 경제학과\n",
    "    \n",
    "    laura 202203 스페인어과\n",
    "    \n",
    "    louis 202202 컴공과"
   ]
  },
  {
   "cell_type": "code",
   "execution_count": 9,
   "id": "87d496c1",
   "metadata": {},
   "outputs": [
    {
     "data": {
      "text/plain": [
       "{202201: ['james', '경제학과'],\n",
       " 202203: ['laura', '스페인어과'],\n",
       " 202202: ['louis', '컴공과']}"
      ]
     },
     "execution_count": 9,
     "metadata": {},
     "output_type": "execute_result"
    }
   ],
   "source": [
    "# key 값은 중복이 안되는 것으로 (학번)\n",
    "# value 값에는 다양한 자료구조를 넣을 수 있다\n",
    "# 값을 하나하나 활용할 수 있다\n",
    "\n",
    "{202201:['james', '경제학과'], 202203:['laura', '스페인어과'], 202202:['louis', '컴공과']}"
   ]
  },
  {
   "cell_type": "markdown",
   "id": "0be629ea",
   "metadata": {},
   "source": [
    "## 형 변환\n",
    "- key, value 값이 쌍으로 있을 때 가능하다"
   ]
  },
  {
   "cell_type": "code",
   "execution_count": 10,
   "id": "5fade9bf",
   "metadata": {},
   "outputs": [
    {
     "data": {
      "text/plain": [
       "{1: 2, 2: 3, 3: 4}"
      ]
     },
     "execution_count": 10,
     "metadata": {},
     "output_type": "execute_result"
    }
   ],
   "source": [
    "# [] 안에 []가 쌍으로 존재할 때\n",
    "# 튜플이어도 가능하다\n",
    "\n",
    "ex1 = [[1, 2], [2, 3], [3, 4]]\n",
    "dict(ex1)"
   ]
  },
  {
   "cell_type": "code",
   "execution_count": 11,
   "id": "cd0dfddb",
   "metadata": {},
   "outputs": [
    {
     "data": {
      "text/plain": [
       "{1: 3, 2: 3}"
      ]
     },
     "execution_count": 11,
     "metadata": {},
     "output_type": "execute_result"
    }
   ],
   "source": [
    "# 만약 키가 똑같다면, 마지막 것을 기준으로\n",
    "\n",
    "ex2 = [[1, 2], [2, 3], [1, 3]]\n",
    "dict(ex2)"
   ]
  },
  {
   "cell_type": "code",
   "execution_count": 12,
   "id": "7bddc43c",
   "metadata": {},
   "outputs": [
    {
     "data": {
      "text/plain": [
       "{'a': 'b', 'b': 'c', 'c': 'd'}"
      ]
     },
     "execution_count": 12,
     "metadata": {},
     "output_type": "execute_result"
    }
   ],
   "source": [
    "# 문자열도 가능한데, 딱 두자리만 있어야한다\n",
    "ex3 = ['ab', 'bc', 'cd']\n",
    "dict(ex3)"
   ]
  },
  {
   "cell_type": "code",
   "execution_count": 13,
   "id": "5cdf4efc",
   "metadata": {},
   "outputs": [
    {
     "ename": "ValueError",
     "evalue": "dictionary update sequence element #2 has length 3; 2 is required",
     "output_type": "error",
     "traceback": [
      "\u001b[0;31m---------------------------------------------------------------------------\u001b[0m",
      "\u001b[0;31mValueError\u001b[0m                                Traceback (most recent call last)",
      "\u001b[0;32m/var/folders/d0/m7yn6fkn5q122l8ln587gfdh0000gn/T/ipykernel_61431/3707141256.py\u001b[0m in \u001b[0;36m<module>\u001b[0;34m\u001b[0m\n\u001b[1;32m      1\u001b[0m \u001b[0;31m# 문자열이 세자리가 되면 오류\u001b[0m\u001b[0;34m\u001b[0m\u001b[0;34m\u001b[0m\u001b[0m\n\u001b[1;32m      2\u001b[0m \u001b[0mex4\u001b[0m \u001b[0;34m=\u001b[0m \u001b[0;34m[\u001b[0m\u001b[0;34m'ab'\u001b[0m\u001b[0;34m,\u001b[0m \u001b[0;34m'bc'\u001b[0m\u001b[0;34m,\u001b[0m \u001b[0;34m'cde'\u001b[0m\u001b[0;34m]\u001b[0m\u001b[0;34m\u001b[0m\u001b[0;34m\u001b[0m\u001b[0m\n\u001b[0;32m----> 3\u001b[0;31m \u001b[0mdict\u001b[0m\u001b[0;34m(\u001b[0m\u001b[0mex4\u001b[0m\u001b[0;34m)\u001b[0m\u001b[0;34m\u001b[0m\u001b[0;34m\u001b[0m\u001b[0m\n\u001b[0m",
      "\u001b[0;31mValueError\u001b[0m: dictionary update sequence element #2 has length 3; 2 is required"
     ]
    }
   ],
   "source": [
    "# 문자열이 세자리가 되면 오류\n",
    "ex4 = ['ab', 'bc', 'cde']\n",
    "dict(ex4)"
   ]
  },
  {
   "cell_type": "markdown",
   "id": "ff01ccf2",
   "metadata": {},
   "source": [
    "## 항목 조회 & 변경 & 추가 & 삭제"
   ]
  },
  {
   "cell_type": "code",
   "execution_count": 55,
   "id": "b0f73c59",
   "metadata": {},
   "outputs": [],
   "source": [
    "# 성과 이름이 담긴 딕셔너리\n",
    "\n",
    "pythons = {\n",
    "    'Chapman': 'Graham',\n",
    "    'Cleese': 'john',\n",
    "    'Idle': 'Eric',\n",
    "    'Jones': 'Terry',\n",
    "    'Palin': 'Michael'\n",
    "}"
   ]
  },
  {
   "cell_type": "code",
   "execution_count": 56,
   "id": "7553687d",
   "metadata": {},
   "outputs": [
    {
     "data": {
      "text/plain": [
       "'Eric'"
      ]
     },
     "execution_count": 56,
     "metadata": {},
     "output_type": "execute_result"
    }
   ],
   "source": [
    "# 조회\n",
    "# key로 value값을 찾는다\n",
    "pythons['Idle']"
   ]
  },
  {
   "cell_type": "code",
   "execution_count": 57,
   "id": "5566e402",
   "metadata": {},
   "outputs": [
    {
     "ename": "KeyError",
     "evalue": "'Yong'",
     "output_type": "error",
     "traceback": [
      "\u001b[0;31m---------------------------------------------------------------------------\u001b[0m",
      "\u001b[0;31mKeyError\u001b[0m                                  Traceback (most recent call last)",
      "\u001b[0;32m/var/folders/d0/m7yn6fkn5q122l8ln587gfdh0000gn/T/ipykernel_61431/727045713.py\u001b[0m in \u001b[0;36m<module>\u001b[0;34m\u001b[0m\n\u001b[1;32m      1\u001b[0m \u001b[0;31m# 없는 값이면 예외가 생긴다\u001b[0m\u001b[0;34m\u001b[0m\u001b[0;34m\u001b[0m\u001b[0m\n\u001b[0;32m----> 2\u001b[0;31m \u001b[0mpythons\u001b[0m\u001b[0;34m[\u001b[0m\u001b[0;34m'Yong'\u001b[0m\u001b[0;34m]\u001b[0m\u001b[0;34m\u001b[0m\u001b[0;34m\u001b[0m\u001b[0m\n\u001b[0m",
      "\u001b[0;31mKeyError\u001b[0m: 'Yong'"
     ]
    }
   ],
   "source": [
    "# 없는 값이면 예외가 생긴다\n",
    "pythons['Yong']"
   ]
  },
  {
   "cell_type": "code",
   "execution_count": 58,
   "id": "a23ee9c1",
   "metadata": {},
   "outputs": [
    {
     "name": "stdout",
     "output_type": "stream",
     "text": [
      "False\n",
      "True\n",
      "None\n",
      "0\n"
     ]
    }
   ],
   "source": [
    "# 예외 없이 가는 방법 (오류가 뜨지 않게!)\n",
    "\n",
    "# 1. 값이 있는지 없는지 확인한 다음에 하기\n",
    "print('Hwa' in pythons)\n",
    "print('Palin' in pythons)\n",
    "\n",
    "# 2. get()\n",
    "# 있으면 값을 반환, 없으면 None을 반환\n",
    "print(pythons.get('Lee'))\n",
    "\n",
    "# 내가 원하는 반환값 설정도 가능함\n",
    "print(pythons.get('Lee', 0))"
   ]
  },
  {
   "cell_type": "code",
   "execution_count": 59,
   "id": "32fd5e51",
   "metadata": {},
   "outputs": [
    {
     "data": {
      "text/plain": [
       "{'Chapman': 'Graham',\n",
       " 'Cleese': 'john',\n",
       " 'Idle': 'james',\n",
       " 'Jones': 'Terry',\n",
       " 'Palin': 'Michael'}"
      ]
     },
     "execution_count": 59,
     "metadata": {},
     "output_type": "execute_result"
    }
   ],
   "source": [
    "# 변경 \n",
    "# key를 찾아서 다른 value를 넣음\n",
    "pythons['Idle'] = 'james'\n",
    "pythons"
   ]
  },
  {
   "cell_type": "code",
   "execution_count": 60,
   "id": "b466c564",
   "metadata": {},
   "outputs": [
    {
     "data": {
      "text/plain": [
       "{'Chapman': 'Graham',\n",
       " 'Cleese': 'john',\n",
       " 'Idle': 'james',\n",
       " 'Jones': 'Terry',\n",
       " 'Palin': 'Michael',\n",
       " 'Hwa': 'Chloe'}"
      ]
     },
     "execution_count": 60,
     "metadata": {},
     "output_type": "execute_result"
    }
   ],
   "source": [
    "# 추가\n",
    "# 없는 key에 value 추가하면 됨\n",
    "pythons['Hwa'] = 'Chloe'\n",
    "pythons"
   ]
  },
  {
   "cell_type": "code",
   "execution_count": 61,
   "id": "e8fa2d62",
   "metadata": {},
   "outputs": [
    {
     "data": {
      "text/plain": [
       "{'Chapman': 'Graham',\n",
       " 'Cleese': 'john',\n",
       " 'Idle': 'james',\n",
       " 'Jones': 'Terry',\n",
       " 'Palin': 'Michael',\n",
       " 'Hwa': 'Chloe',\n",
       " 'Marx': 'Groucho',\n",
       " 'Howard': 'Moe'}"
      ]
     },
     "execution_count": 61,
     "metadata": {},
     "output_type": "execute_result"
    }
   ],
   "source": [
    "# 여러 개를 추가하는 경우 update (병합)\n",
    "# 만약 원래 있던 key면, 마지막의 값을 기준으로 업데이트 한다\n",
    "others = {\n",
    "    'Marx': 'Groucho',\n",
    "    'Howard': 'Moe'\n",
    "}\n",
    "\n",
    "pythons.update(others)\n",
    "pythons"
   ]
  },
  {
   "cell_type": "code",
   "execution_count": 62,
   "id": "4ccc2d39",
   "metadata": {},
   "outputs": [
    {
     "name": "stdout",
     "output_type": "stream",
     "text": [
      "{'Chapman': 'Graham', 'Cleese': 'john', 'Idle': 'james', 'Jones': 'Terry', 'Palin': 'Michael', 'Hwa': 'Chloe', 'Marx': 'Groucho', 'Howard': 'Moe', 'Yong': 'Sangwoo', 'Hong': 'Gildong'}\n",
      "{'Yong': 'Sangwoo', 'Hong': 'Gildong', 'Chapman': 'Graham', 'Cleese': 'john', 'Idle': 'james', 'Jones': 'Terry', 'Palin': 'Michael', 'Hwa': 'Chloe', 'Marx': 'Groucho', 'Howard': 'Moe'}\n"
     ]
    }
   ],
   "source": [
    "# py3에서만 가능한 추가 방법\n",
    "new = {\n",
    "    'Yong': 'Sangwoo',\n",
    "    'Hong': 'Gildong'\n",
    "}\n",
    "\n",
    "# new가 뒤에 붙음, 새로 추가한 내용이 뒤로 감\n",
    "print({**pythons, **new})\n",
    "\n",
    "# new가 앞에 붙음, 새로 추가한 내용이 앞으로 옴\n",
    "print({**new, **pythons})"
   ]
  },
  {
   "cell_type": "code",
   "execution_count": 63,
   "id": "f0d483d2",
   "metadata": {},
   "outputs": [
    {
     "data": {
      "text/plain": [
       "{'Chapman': 'Graham',\n",
       " 'Cleese': 'john',\n",
       " 'Idle': 'james',\n",
       " 'Jones': 'Terry',\n",
       " 'Palin': 'Michael',\n",
       " 'Marx': 'Groucho',\n",
       " 'Howard': 'Moe'}"
      ]
     },
     "execution_count": 63,
     "metadata": {},
     "output_type": "execute_result"
    }
   ],
   "source": [
    "# 삭제 \n",
    "# key 값을 입력하면 key와 value가 삭제됨\n",
    "del pythons['Hwa']\n",
    "pythons"
   ]
  },
  {
   "cell_type": "code",
   "execution_count": 64,
   "id": "eb53943a",
   "metadata": {},
   "outputs": [
    {
     "name": "stdout",
     "output_type": "stream",
     "text": [
      "Groucho\n",
      "{'Chapman': 'Graham', 'Cleese': 'john', 'Idle': 'james', 'Jones': 'Terry', 'Palin': 'Michael', 'Howard': 'Moe'}\n"
     ]
    }
   ],
   "source": [
    "# 앞의 get()처럼 사용하는 함수가 pop()\n",
    "# 값을 반환한 뒤 삭제됨\n",
    "print(pythons.pop('Marx'))\n",
    "print(pythons)"
   ]
  },
  {
   "cell_type": "code",
   "execution_count": 65,
   "id": "9dce51ab",
   "metadata": {},
   "outputs": [
    {
     "ename": "KeyError",
     "evalue": "'Lee'",
     "output_type": "error",
     "traceback": [
      "\u001b[0;31m---------------------------------------------------------------------------\u001b[0m",
      "\u001b[0;31mKeyError\u001b[0m                                  Traceback (most recent call last)",
      "\u001b[0;32m/var/folders/d0/m7yn6fkn5q122l8ln587gfdh0000gn/T/ipykernel_61431/4008537470.py\u001b[0m in \u001b[0;36m<module>\u001b[0;34m\u001b[0m\n\u001b[1;32m      1\u001b[0m \u001b[0;31m# 없는 것을 삭제할 때는 예외가 발생\u001b[0m\u001b[0;34m\u001b[0m\u001b[0;34m\u001b[0m\u001b[0m\n\u001b[0;32m----> 2\u001b[0;31m \u001b[0mpythons\u001b[0m\u001b[0;34m.\u001b[0m\u001b[0mpop\u001b[0m\u001b[0;34m(\u001b[0m\u001b[0;34m'Lee'\u001b[0m\u001b[0;34m)\u001b[0m\u001b[0;34m\u001b[0m\u001b[0;34m\u001b[0m\u001b[0m\n\u001b[0m",
      "\u001b[0;31mKeyError\u001b[0m: 'Lee'"
     ]
    }
   ],
   "source": [
    "# 없는 것을 삭제할 때는 예외가 발생\n",
    "pythons.pop('Lee')"
   ]
  },
  {
   "cell_type": "code",
   "execution_count": 66,
   "id": "451b6ce1",
   "metadata": {},
   "outputs": [
    {
     "data": {
      "text/plain": [
       "0"
      ]
     },
     "execution_count": 66,
     "metadata": {},
     "output_type": "execute_result"
    }
   ],
   "source": [
    "# 없는 것을 삭제할 때 예외가 발생하지 않으려면\n",
    "# 출력 값을 지정해주어야함\n",
    "pythons.pop('Lee', 0)"
   ]
  },
  {
   "cell_type": "code",
   "execution_count": 67,
   "id": "9001699f",
   "metadata": {},
   "outputs": [
    {
     "data": {
      "text/plain": [
       "{}"
      ]
     },
     "execution_count": 67,
     "metadata": {},
     "output_type": "execute_result"
    }
   ],
   "source": [
    "# 전체를 삭제하는 방법\n",
    "\n",
    "# 방법1\n",
    "pythons.clear()\n",
    "\n",
    "# 방법2\n",
    "pythons = {}\n",
    "\n",
    "pythons"
   ]
  },
  {
   "cell_type": "markdown",
   "id": "38ddb37b",
   "metadata": {},
   "source": [
    "### 전체 조회\n",
    "- keys()\n",
    "- values()\n",
    "- items()"
   ]
  },
  {
   "cell_type": "code",
   "execution_count": 71,
   "id": "85f160a6",
   "metadata": {},
   "outputs": [
    {
     "data": {
      "text/plain": [
       "{'a': 'apple', 'b': 'banana', 'c': 'kiwi'}"
      ]
     },
     "execution_count": 71,
     "metadata": {},
     "output_type": "execute_result"
    }
   ],
   "source": [
    "pythons = {'a':'apple', 'b':'banana', 'c':'kiwi'}\n",
    "pythons"
   ]
  },
  {
   "cell_type": "code",
   "execution_count": 73,
   "id": "d94db635",
   "metadata": {},
   "outputs": [
    {
     "data": {
      "text/plain": [
       "dict_keys(['a', 'b', 'c'])"
      ]
     },
     "execution_count": 73,
     "metadata": {},
     "output_type": "execute_result"
    }
   ],
   "source": [
    "pythons.keys()"
   ]
  },
  {
   "cell_type": "code",
   "execution_count": 74,
   "id": "bf5db9e6",
   "metadata": {},
   "outputs": [
    {
     "data": {
      "text/plain": [
       "dict_values(['apple', 'banana', 'kiwi'])"
      ]
     },
     "execution_count": 74,
     "metadata": {},
     "output_type": "execute_result"
    }
   ],
   "source": [
    "pythons.values()"
   ]
  },
  {
   "cell_type": "code",
   "execution_count": 76,
   "id": "1a5a2750",
   "metadata": {},
   "outputs": [
    {
     "data": {
      "text/plain": [
       "dict_items([('a', 'apple'), ('b', 'banana'), ('c', 'kiwi')])"
      ]
     },
     "execution_count": 76,
     "metadata": {},
     "output_type": "execute_result"
    }
   ],
   "source": [
    "# key와 value를 전부 조회\n",
    "# (key, value)의 튜플 형태로\n",
    "# 딕셔너리를 순회할 때 많이 사용한다\n",
    "\n",
    "pythons.items()"
   ]
  },
  {
   "cell_type": "code",
   "execution_count": 79,
   "id": "25284515",
   "metadata": {},
   "outputs": [
    {
     "name": "stdout",
     "output_type": "stream",
     "text": [
      "<class 'dict_keys'>\n",
      "['a', 'b', 'c']\n"
     ]
    }
   ],
   "source": [
    "# 딕셔너리를 조회하는 함수들은 타입이 dict_----\n",
    "print(type(pythons.keys()))\n",
    "\n",
    "# 메모리를 적게 사용하려면 리스트로 형 변환해주는 것이 좋다\n",
    "print(list(pythons.keys()))"
   ]
  },
  {
   "cell_type": "code",
   "execution_count": 82,
   "id": "7c39c685",
   "metadata": {},
   "outputs": [
    {
     "name": "stdout",
     "output_type": "stream",
     "text": [
      "a = apple\n",
      "b = banana\n",
      "c = kiwi\n",
      "\n"
     ]
    },
    {
     "data": {
      "text/plain": [
       "[('a', 'apple'), ('b', 'banana'), ('c', 'kiwi')]"
      ]
     },
     "execution_count": 82,
     "metadata": {},
     "output_type": "execute_result"
    }
   ],
   "source": [
    "# item 순회\n",
    "for k, v in pythons.items():\n",
    "    print(f'{k} = {v}')\n",
    "print()\n",
    "\n",
    "# List Comprehension\n",
    "[(k, v) for k, v in pythons.items()]"
   ]
  },
  {
   "cell_type": "code",
   "execution_count": 86,
   "id": "a1511d90",
   "metadata": {},
   "outputs": [
    {
     "name": "stdout",
     "output_type": "stream",
     "text": [
      "['a', 'b', 'c']\n",
      "['apple', 'banana', 'kiwi']\n"
     ]
    }
   ],
   "source": [
    "# items()는 튜플이기 때문에\n",
    "# 각각 인덱스 접근이 가능\n",
    "\n",
    "# 0는 key 값, 1은 value 값\n",
    "print([k[0] for k in pythons.items()])\n",
    "print([k[1] for k in pythons.items()])"
   ]
  },
  {
   "cell_type": "markdown",
   "id": "cffefa3f",
   "metadata": {},
   "source": [
    "### 딕셔너리 실습2\n",
    "- animal: num_leg 딕셔너리 만들기\n",
    "\n",
    "    animal = 'cat snake monkey ant spider'.split()\n",
    "    \n",
    "    legs = 4, 0, 2, 4, 8"
   ]
  },
  {
   "cell_type": "code",
   "execution_count": 94,
   "id": "c22ccd4a",
   "metadata": {},
   "outputs": [
    {
     "name": "stdout",
     "output_type": "stream",
     "text": [
      "{'cat': 4, 'snake': 0, 'monkey': 2, 'ant': 4, 'spider': 8}\n",
      "{'cat': 4, 'snake': 0, 'monkey': 2, 'ant': 4, 'spider': 8}\n",
      "{'cat': 4, 'snake': 0, 'monkey': 2, 'ant': 4, 'spider': 8}\n"
     ]
    }
   ],
   "source": [
    "animal = 'cat snake monkey ant spider'.split()\n",
    "legs = 4, 0, 2, 4, 8\n",
    "\n",
    "# 방법1\n",
    "print(dict([(key, value) for key, value in zip(animal, legs)]))\n",
    "\n",
    "# 방법2\n",
    "num_leg = {}\n",
    "for k, v in zip(animal, legs):\n",
    "    num_leg[k] = v\n",
    "print(num_leg)\n",
    "\n",
    "# 방법3 Dictionary Comprehension\n",
    "print({key:value for key, value in zip(animal, legs)})"
   ]
  },
  {
   "cell_type": "markdown",
   "id": "2da3df85",
   "metadata": {},
   "source": [
    "### 딕셔너리 실습3\n",
    "- pythons에서 성: 이름\n",
    "    - 성은 첫 글자만, 이름은 글자 개수로 이루어진 튜플(성, 이름) 리스트로 반환하기"
   ]
  },
  {
   "cell_type": "code",
   "execution_count": 96,
   "id": "8a25d66d",
   "metadata": {},
   "outputs": [
    {
     "data": {
      "text/plain": [
       "{'Chapman': 'Graham',\n",
       " 'Cleese': 'john',\n",
       " 'Idle': 'Eric',\n",
       " 'Jones': 'Terry',\n",
       " 'Palin': 'Michael'}"
      ]
     },
     "execution_count": 96,
     "metadata": {},
     "output_type": "execute_result"
    }
   ],
   "source": [
    "pythons = {\n",
    "    'Chapman': 'Graham',\n",
    "    'Cleese': 'john',\n",
    "    'Idle': 'Eric',\n",
    "    'Jones': 'Terry',\n",
    "    'Palin': 'Michael'\n",
    "}\n",
    "pythons"
   ]
  },
  {
   "cell_type": "code",
   "execution_count": 100,
   "id": "73690919",
   "metadata": {},
   "outputs": [
    {
     "name": "stdout",
     "output_type": "stream",
     "text": [
      "[('C', 6), ('C', 4), ('I', 4), ('J', 5), ('P', 7)]\n",
      "[('C', 6), ('C', 4), ('I', 4), ('J', 5), ('P', 7)]\n"
     ]
    }
   ],
   "source": [
    "# 방법1\n",
    "print([(key[0], len(value)) for key, value in pythons.items()])\n",
    "\n",
    "# 방법2\n",
    "print([(k[0][0], len(k[1])) for k in pythons.items()])\n",
    "\n",
    "# pythons.itmes()에서 key와 value로 나누기  \n",
    "# pythons.items()에서 k를 k[0]는 key, k[1]은 value로 나누기"
   ]
  },
  {
   "cell_type": "markdown",
   "id": "d9377623",
   "metadata": {},
   "source": [
    "## 복제\n",
    "- 리스트와 같은 방식\n",
    "- 할당\n",
    "    - b = a\n",
    "    - 같은 주소 참조\n",
    "- 얕은 복사\n",
    "    - c = a.copy()\n",
    "    - 다른 객체 생성\n",
    "- 깊은 복사"
   ]
  },
  {
   "cell_type": "code",
   "execution_count": 112,
   "id": "d904aa66",
   "metadata": {},
   "outputs": [
    {
     "name": "stdout",
     "output_type": "stream",
     "text": [
      "{1: 1, 2: 2, 3: 3} {1: 1, 2: 2, 3: 3}\n",
      "{1: 45, 2: 2, 3: 3} {1: 45, 2: 2, 3: 3}\n",
      "{1: 45, 2: 2, 3: 3} {1: 45, 2: 2, 3: 3}\n",
      "{1: 45, 2: 22, 3: 3} {1: 45, 2: 2, 3: 3}\n"
     ]
    }
   ],
   "source": [
    "a = {1:1, 2:2, 3:3}\n",
    "b = a\n",
    "print(a, b)\n",
    "\n",
    "# 할당의 문제점 : 복사한 가변객체인 b도 값이 변한다\n",
    "a[1] = 45\n",
    "print(a, b)\n",
    "\n",
    "# 따라서 얕은 복사를 통해 다른 객체를 생성하면\n",
    "c = a.copy()\n",
    "print(a, c)\n",
    "\n",
    "# c의 값은 변하지 않는다\n",
    "a[2] = 22\n",
    "print(a, c)"
   ]
  },
  {
   "cell_type": "code",
   "execution_count": 113,
   "id": "bb373df4",
   "metadata": {},
   "outputs": [
    {
     "name": "stdout",
     "output_type": "stream",
     "text": [
      "{1: [1, 2, 3], 2: [2, 3, 4]} {1: [1, 2, 3], 2: [2, 3, 4]}\n",
      "{1: [100, 2, 3], 2: [2, 3, 4]} {1: [100, 2, 3], 2: [2, 3, 4]}\n"
     ]
    }
   ],
   "source": [
    "# 얕은 복사의 문제점 : 가변객체에 대해서 또 참조가 되는 문제\n",
    "# value에 가변객체가 들어있으면 가변객체가 참조되어 값이 변할 수 있다\n",
    "\n",
    "a = {1:[1, 2, 3], 2:[2, 3, 4]}\n",
    "d = a.copy()\n",
    "print(a, d)\n",
    "\n",
    "a[1][0] = 100\n",
    "print(a, d)"
   ]
  },
  {
   "cell_type": "code",
   "execution_count": 114,
   "id": "8253fdc6",
   "metadata": {},
   "outputs": [
    {
     "name": "stdout",
     "output_type": "stream",
     "text": [
      "{1: [100, 2, 3], 2: [2, 3, 4]} {1: [100, 2, 3], 2: [2, 3, 4]}\n",
      "{1: [100, 999, 3], 2: [2, 3, 4]} {1: [100, 2, 3], 2: [2, 3, 4]}\n"
     ]
    }
   ],
   "source": [
    "# 깊은 복사를 사용하면 문제를 해결할 수 있다\n",
    "\n",
    "import copy\n",
    "\n",
    "e = copy.deepcopy(a)\n",
    "print(a, e)\n",
    "\n",
    "a[1][1] = 999\n",
    "print(a, e)"
   ]
  },
  {
   "cell_type": "markdown",
   "id": "8dd315d5",
   "metadata": {},
   "source": [
    "## 비교\n",
    "- 같다, 다르다만 가능\n",
    "- 크다, 작다는 불가능"
   ]
  },
  {
   "cell_type": "code",
   "execution_count": 115,
   "id": "cce08f78",
   "metadata": {},
   "outputs": [
    {
     "data": {
      "text/plain": [
       "True"
      ]
     },
     "execution_count": 115,
     "metadata": {},
     "output_type": "execute_result"
    }
   ],
   "source": [
    "a != b"
   ]
  },
  {
   "cell_type": "markdown",
   "id": "cf0f84b6",
   "metadata": {},
   "source": [
    "### 딕셔너리 실습4\n",
    "1. 두개의 리스트로 하나의 딕셔너리 생성\n",
    "2. 명왕성 = pluto 추가하기\n",
    "3. '성'으로 끝나지 않는 키 삭제하기\n",
    "\n",
    "    del dict1['태양'] # 이런 방법은 지양\n",
    "    \n",
    "    \n",
    "4. sorted 이용해서 값 정렬하기 \n",
    "    \n",
    "    4-1. key 기준\n",
    "    \n",
    "    4-2. value 기준"
   ]
  },
  {
   "cell_type": "code",
   "execution_count": 116,
   "id": "e65f91a0",
   "metadata": {},
   "outputs": [],
   "source": [
    "solar_kor = '태양 수성 금성 지구 화성 목성 토성 천왕성 해왕성'.split()\n",
    "solar_eng = 'sun mercury venus earth mars jupiter saturn uranus neptune'.split()"
   ]
  },
  {
   "cell_type": "code",
   "execution_count": 120,
   "id": "aa182fd3",
   "metadata": {},
   "outputs": [
    {
     "name": "stdout",
     "output_type": "stream",
     "text": [
      "['금성', '명왕성', '목성', '수성', '천왕성', '토성', '해왕성', '화성']\n",
      "['jupiter', 'mars', 'mercury', 'neptune', 'pluto', 'saturn', 'uranus', 'venus']\n"
     ]
    }
   ],
   "source": [
    "# 1.\n",
    "solar_dict = {}\n",
    "for k, v in zip(solar_kor, solar_eng):\n",
    "    solar_dict[k] = v\n",
    "    \n",
    "# 2.\n",
    "# 넣을 것이 하나일 때는 update 사용할 필요 없음\n",
    "# solar_dict.update({'명왕성':'pluto'})\n",
    "solar_dict['명왕성'] = 'pluto'\n",
    "\n",
    "# 3-1.\n",
    "# for loop 사용\n",
    "# list(solar_dict)\n",
    "# ['태양', '수성', '금성', '지구', '화성', '목성', '토성', '천왕성', '해왕성', '명왕성']\n",
    "for key in list(solar_dict):\n",
    "    if not key.endswith('성'):\n",
    "        del solar_dict[key]\n",
    "        \n",
    "# 3-2.\n",
    "# List Comprehension 사용\n",
    "solar_dict = dict([(key, value)\n",
    "                  for key, value in solar_dict.items()\n",
    "                  if key.endswith('성')])\n",
    "        \n",
    "# 4.\n",
    "# key 기준 정렬\n",
    "print(sorted(solar_dict.keys()))\n",
    "# value 기준 정렬\n",
    "print(sorted(solar_dict.values()))"
   ]
  },
  {
   "cell_type": "markdown",
   "id": "57f0e327",
   "metadata": {},
   "source": [
    "## Dictionary Comprehension\n",
    "- 리스트 컴프리헨션을 한 후에 딕셔너리로 감싸는 것은 비효율적\n",
    "- 그래서 등장한 것이 딕셔너리 컴프리헨션"
   ]
  },
  {
   "cell_type": "code",
   "execution_count": 121,
   "id": "ab67d208",
   "metadata": {},
   "outputs": [
    {
     "data": {
      "text/plain": [
       "{'a': 1, 'p': 2, 'l': 1, 'e': 1}"
      ]
     },
     "execution_count": 121,
     "metadata": {},
     "output_type": "execute_result"
    }
   ],
   "source": [
    "letter = 'apple'\n",
    "\n",
    "# 'a': 1, 'p': 2, 'l': 1, 'e': 1 \n",
    "{ch: letter.count(ch) for ch in letter}"
   ]
  },
  {
   "cell_type": "code",
   "execution_count": 127,
   "id": "8833f2fc",
   "metadata": {},
   "outputs": [
    {
     "name": "stdout",
     "output_type": "stream",
     "text": [
      "{'i': 1, 'e': 1, 'o': 4, 'a': 2}\n",
      "{'i': 1, 'e': 1, 'o': 4, 'a': 2}\n"
     ]
    }
   ],
   "source": [
    "# 단어의 모음 개수 세기\n",
    "vowels = 'aeiou'\n",
    "word = 'onomatopoeia'\n",
    "\n",
    "# word 순회\n",
    "# set(word)\n",
    "# {'m', 'p', 'i', 'e', 't', 'o', 'a', 'n'}\n",
    "print({w: word.count(w) for w in set(word) if w in vowels})\n",
    "\n",
    "# vowels 순회\n",
    "print({v: word.count(v) for v in set(vowels) if v in word})"
   ]
  },
  {
   "cell_type": "code",
   "execution_count": 128,
   "id": "c94ce288",
   "metadata": {},
   "outputs": [
    {
     "data": {
      "text/plain": [
       "{'수성': 'mercury',\n",
       " '금성': 'venus',\n",
       " '화성': 'mars',\n",
       " '목성': 'jupiter',\n",
       " '토성': 'saturn',\n",
       " '천왕성': 'uranus',\n",
       " '해왕성': 'neptune',\n",
       " '명왕성': 'pluto'}"
      ]
     },
     "execution_count": 128,
     "metadata": {},
     "output_type": "execute_result"
    }
   ],
   "source": [
    "# 딕셔너리 실습4에서 #3을 딕셔너리 컴프리헨션으로 만들기\n",
    "\n",
    "# 3.\n",
    "# solar_dict = dict([(key, value)\n",
    "#                   for key, value in solar_dict.items()\n",
    "#                   if key.endswith('성')])\n",
    "\n",
    "solar_dict = {key:value\n",
    "             for key, value in solar_dict.items()\n",
    "             if key.endswith('성')}\n",
    "solar_dict"
   ]
  },
  {
   "cell_type": "markdown",
   "id": "e253807a",
   "metadata": {},
   "source": [
    "## sorting"
   ]
  },
  {
   "cell_type": "code",
   "execution_count": 129,
   "id": "67560fcc",
   "metadata": {},
   "outputs": [
    {
     "data": {
      "text/plain": [
       "['금성', '명왕성', '목성', '수성', '천왕성', '토성', '해왕성', '화성']"
      ]
     },
     "execution_count": 129,
     "metadata": {},
     "output_type": "execute_result"
    }
   ],
   "source": [
    "# 그냥 sorted만 사용하면 딕셔너리의 key만 가져간다\n",
    "\n",
    "sorted(solar_dict)"
   ]
  },
  {
   "cell_type": "code",
   "execution_count": 132,
   "id": "e11816c8",
   "metadata": {},
   "outputs": [
    {
     "name": "stdout",
     "output_type": "stream",
     "text": [
      "[('금성', 'venus'), ('명왕성', 'pluto'), ('목성', 'jupiter'), ('수성', 'mercury'), ('천왕성', 'uranus'), ('토성', 'saturn'), ('해왕성', 'neptune'), ('화성', 'mars')]\n",
      "[('목성', 'jupiter'), ('화성', 'mars'), ('수성', 'mercury'), ('해왕성', 'neptune'), ('명왕성', 'pluto'), ('토성', 'saturn'), ('천왕성', 'uranus'), ('금성', 'venus')]\n"
     ]
    }
   ],
   "source": [
    "# 0 = key, 1 = value\n",
    "def key_sort(x):\n",
    "    return x[0]\n",
    "\n",
    "def value_sort(x):\n",
    "    return x[1]\n",
    "\n",
    "# 나만의 정렬 기준 함수를 정의해서 key에 넣는다\n",
    "print(sorted(solar_dict.items(), key=key_sort))\n",
    "print(sorted(solar_dict.items(), key=value_sort))"
   ]
  },
  {
   "cell_type": "code",
   "execution_count": 133,
   "id": "5c528b5e",
   "metadata": {},
   "outputs": [
    {
     "data": {
      "text/plain": [
       "[('금성', 'venus'),\n",
       " ('명왕성', 'pluto'),\n",
       " ('목성', 'jupiter'),\n",
       " ('수성', 'mercury'),\n",
       " ('천왕성', 'uranus'),\n",
       " ('토성', 'saturn'),\n",
       " ('해왕성', 'neptune'),\n",
       " ('화성', 'mars')]"
      ]
     },
     "execution_count": 133,
     "metadata": {},
     "output_type": "execute_result"
    }
   ],
   "source": [
    "# 익명함수 lambda\n",
    "# 함수에서 이름 짓는 부분과 예약어를 빼고 익명으로 함수를 구현\n",
    "\n",
    "sorted(solar_dict.items(), key=lambda x: x[0])"
   ]
  },
  {
   "cell_type": "markdown",
   "id": "4645bd71",
   "metadata": {},
   "source": [
    "## Set\n",
    "- 딕셔너리에서 키만 가지고 있다 \n",
    "- 중복이 없다\n",
    "- 수학에서 집합의 개념\n",
    "- 순서가 없다 = 인덱싱도 없다"
   ]
  },
  {
   "cell_type": "code",
   "execution_count": 135,
   "id": "a8be6e72",
   "metadata": {},
   "outputs": [
    {
     "data": {
      "text/plain": [
       "set()"
      ]
     },
     "execution_count": 135,
     "metadata": {},
     "output_type": "execute_result"
    }
   ],
   "source": [
    "# set 만드는 방법\n",
    "empty = set()\n",
    "empty"
   ]
  },
  {
   "cell_type": "code",
   "execution_count": 136,
   "id": "6ce87980",
   "metadata": {},
   "outputs": [
    {
     "data": {
      "text/plain": [
       "{1, 2, 3}"
      ]
     },
     "execution_count": 136,
     "metadata": {},
     "output_type": "execute_result"
    }
   ],
   "source": [
    "# 값이 있을 때는 그냥 넣으면 된다\n",
    "a = {1, 2, 3}\n",
    "a"
   ]
  },
  {
   "cell_type": "code",
   "execution_count": 139,
   "id": "f60e975b",
   "metadata": {},
   "outputs": [
    {
     "data": {
      "text/plain": [
       "{1, 2, 3}"
      ]
     },
     "execution_count": 139,
     "metadata": {},
     "output_type": "execute_result"
    }
   ],
   "source": [
    "# 시퀀스이기 때문에 튜플이나 리스트로 넣어야 한다\n",
    "b = set((1, 2, 3))\n",
    "b"
   ]
  },
  {
   "cell_type": "code",
   "execution_count": 140,
   "id": "0b8589b2",
   "metadata": {},
   "outputs": [
    {
     "ename": "TypeError",
     "evalue": "set expected at most 1 argument, got 3",
     "output_type": "error",
     "traceback": [
      "\u001b[0;31m---------------------------------------------------------------------------\u001b[0m",
      "\u001b[0;31mTypeError\u001b[0m                                 Traceback (most recent call last)",
      "\u001b[0;32m/var/folders/d0/m7yn6fkn5q122l8ln587gfdh0000gn/T/ipykernel_61431/2197316999.py\u001b[0m in \u001b[0;36m<module>\u001b[0;34m\u001b[0m\n\u001b[1;32m      1\u001b[0m \u001b[0;31m# 튜플이나 리스트로 넣지 않을 경우 오류\u001b[0m\u001b[0;34m\u001b[0m\u001b[0;34m\u001b[0m\u001b[0m\n\u001b[0;32m----> 2\u001b[0;31m \u001b[0mc\u001b[0m \u001b[0;34m=\u001b[0m \u001b[0mset\u001b[0m\u001b[0;34m(\u001b[0m\u001b[0;36m1\u001b[0m\u001b[0;34m,\u001b[0m \u001b[0;36m2\u001b[0m\u001b[0;34m,\u001b[0m \u001b[0;36m3\u001b[0m\u001b[0;34m)\u001b[0m\u001b[0;34m\u001b[0m\u001b[0;34m\u001b[0m\u001b[0m\n\u001b[0m\u001b[1;32m      3\u001b[0m \u001b[0mc\u001b[0m\u001b[0;34m\u001b[0m\u001b[0;34m\u001b[0m\u001b[0m\n",
      "\u001b[0;31mTypeError\u001b[0m: set expected at most 1 argument, got 3"
     ]
    }
   ],
   "source": [
    "# 튜플이나 리스트로 넣지 않을 경우 오류\n",
    "c = set(1, 2, 3)\n",
    "c"
   ]
  },
  {
   "cell_type": "code",
   "execution_count": 143,
   "id": "2177069e",
   "metadata": {},
   "outputs": [
    {
     "name": "stdout",
     "output_type": "stream",
     "text": [
      "{1, 2, 3, 4}\n",
      "{1, 2, 3}\n"
     ]
    }
   ],
   "source": [
    "# a = {1, 2, 3}\n",
    "# set 원소 추가\n",
    "a.add(4)\n",
    "print(a)\n",
    "\n",
    "# set 원소 삭제\n",
    "a.remove(4)\n",
    "print(a)"
   ]
  },
  {
   "cell_type": "code",
   "execution_count": 148,
   "id": "17c24760",
   "metadata": {},
   "outputs": [
    {
     "name": "stdout",
     "output_type": "stream",
     "text": [
      "martini\n",
      "black russian\n",
      "white russian\n",
      "screwdriver\n",
      "\n",
      "black russian\n",
      "screwdriver\n"
     ]
    }
   ],
   "source": [
    "drinks = {\n",
    "    'martini':{'vodka', 'vermouth'},\n",
    "    'black russian':{'vodka', 'kahlua'},\n",
    "    'white russian':{'vodka', 'kahlua', 'cream'},\n",
    "    'screwdriver':{'orange juice', 'vodka'}\n",
    "}\n",
    "\n",
    "# 1. vodka가 포함된 술 출력하기\n",
    "for k, v in drinks.items():\n",
    "    if 'vodka' in v:\n",
    "        print(k)\n",
    "print()\n",
    "\n",
    "# 2. vodka는 있지만 cream, vermouth는 없는 술 출력\n",
    "for k, v in drinks.items():\n",
    "    if ('vodka' in v) and not('cream' in v or 'vermouth' in v):\n",
    "        print(k)"
   ]
  },
  {
   "cell_type": "markdown",
   "id": "ebdd522a",
   "metadata": {},
   "source": [
    "### set 활용\n",
    "- 교집합\n",
    "    - a.intersection(b)\n",
    "    - a & b\n",
    "- 합집합 (union)\n",
    "    - a.union(b)\n",
    "    - a | b\n",
    "- 차집합 (difference)\n",
    "    - a.difference(b)\n",
    "    - a - b"
   ]
  },
  {
   "cell_type": "code",
   "execution_count": 150,
   "id": "b60ed810",
   "metadata": {},
   "outputs": [
    {
     "name": "stdout",
     "output_type": "stream",
     "text": [
      "{2, 3}\n",
      "{2, 3}\n",
      "\n",
      "{1, 2, 3, 4}\n",
      "{1, 2, 3, 4}\n",
      "\n",
      "{1}\n",
      "{1}\n",
      "{4}\n",
      "{4}\n"
     ]
    }
   ],
   "source": [
    "a = {1, 2, 3}\n",
    "b = {2, 3, 4}\n",
    "\n",
    "# 교집합\n",
    "print(a.intersection(b))\n",
    "print(a & b)\n",
    "print()\n",
    "\n",
    "# 합집합\n",
    "print(a.union(b))\n",
    "print(a | b)\n",
    "print()\n",
    "\n",
    "# 차집합\n",
    "print(a.difference(b))\n",
    "print(a - b)\n",
    "print(b.difference(a))\n",
    "print(b - a)"
   ]
  },
  {
   "cell_type": "code",
   "execution_count": 152,
   "id": "81c39993",
   "metadata": {},
   "outputs": [
    {
     "name": "stdout",
     "output_type": "stream",
     "text": [
      "black russian\n",
      "screwdriver\n",
      "\n",
      "black russian\n",
      "screwdriver\n"
     ]
    }
   ],
   "source": [
    "# vodka는 있지만 cream, vermouth는 없는 술 출력\n",
    "# set을 활용하여 바꾸기\n",
    "for k, v in drinks.items():\n",
    "    if ('vodka' in v) and not('cream' in v or 'vermouth' in v):\n",
    "        print(k)\n",
    "print()\n",
    "\n",
    "for k, v in drinks.items():\n",
    "    if 'vodka' in v and not (v & {'cream', 'vermouth'}):\n",
    "        print(k)"
   ]
  },
  {
   "cell_type": "code",
   "execution_count": 153,
   "id": "d90769db",
   "metadata": {},
   "outputs": [
    {
     "data": {
      "text/plain": [
       "{0, 1, 2, 3, 4}"
      ]
     },
     "execution_count": 153,
     "metadata": {},
     "output_type": "execute_result"
    }
   ],
   "source": [
    "# set comprehension\n",
    "{s for s in range(5)}"
   ]
  },
  {
   "cell_type": "code",
   "execution_count": 154,
   "id": "f90d4c0a",
   "metadata": {},
   "outputs": [
    {
     "data": {
      "text/plain": [
       "frozenset({1, 2})"
      ]
     },
     "execution_count": 154,
     "metadata": {},
     "output_type": "execute_result"
    }
   ],
   "source": [
    "# frozenset\n",
    "# 가변 객체를 불변 객체로 만들어 주는 것\n",
    "set([1, 2])\n",
    "frozenset([1, 2])"
   ]
  }
 ],
 "metadata": {
  "kernelspec": {
   "display_name": "Python 3 (ipykernel)",
   "language": "python",
   "name": "python3"
  },
  "language_info": {
   "codemirror_mode": {
    "name": "ipython",
    "version": 3
   },
   "file_extension": ".py",
   "mimetype": "text/x-python",
   "name": "python",
   "nbconvert_exporter": "python",
   "pygments_lexer": "ipython3",
   "version": "3.9.7"
  }
 },
 "nbformat": 4,
 "nbformat_minor": 5
}
