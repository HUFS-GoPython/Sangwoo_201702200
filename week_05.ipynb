{
 "cells": [
  {
   "cell_type": "markdown",
   "id": "c9316014",
   "metadata": {},
   "source": [
    "### 반복문의 종류\n",
    "- while\n",
    "- for\n",
    "\n",
    "\n",
    "\n",
    "#### while \n",
    "- 어떤 조건이 만족하는 동안 명령 블록을 수행한다.\n",
    "- 조건문 + 반복문 (if + for loop) \n",
    "- 해당 조건이 거짓이면 멈춘다.\n",
    "- 반복이 언제 멈추는지 그 시점을 정확히 파악해야 한다.\n",
    "\n",
    "\n",
    "#### for vs while\n",
    "- for\n",
    "    - 반복 횟수를 미리 정한다. \n",
    "    - 그래서 정확하고 변하지 않는다.\n",
    "    - 예: 성적 산출\n",
    "\n",
    "- while\n",
    "    - 반복 횟수를 정하지 않는다. \n",
    "    - 반복 횟수가 중요하지 않다. \n",
    "    - 어떤 조건을 만족시키는 경우 반복을 중단할 때 사용한다.\n",
    "    - 예: 가위바위보\n"
   ]
  },
  {
   "cell_type": "code",
   "execution_count": 7,
   "id": "9c334ed8",
   "metadata": {},
   "outputs": [
    {
     "name": "stdout",
     "output_type": "stream",
     "text": [
      "0\n",
      "1\n",
      "2\n"
     ]
    }
   ],
   "source": [
    "# for loop\n",
    "\n",
    "for i in range(3): \n",
    "    print(i)"
   ]
  },
  {
   "cell_type": "code",
   "execution_count": 8,
   "id": "4467cd9a",
   "metadata": {},
   "outputs": [
    {
     "name": "stdout",
     "output_type": "stream",
     "text": [
      "0\n",
      "1\n",
      "2\n"
     ]
    }
   ],
   "source": [
    "# for i in range(3): print(i) -> while loop로\n",
    "   \n",
    "i = 0\n",
    "while i < 3:\n",
    "    print(i)\n",
    "    i += 1"
   ]
  },
  {
   "cell_type": "code",
   "execution_count": 9,
   "id": "578d1d73",
   "metadata": {},
   "outputs": [
    {
     "name": "stdout",
     "output_type": "stream",
     "text": [
      "a\n",
      "b\n",
      "c\n",
      "d\n"
     ]
    }
   ],
   "source": [
    "# for loop\n",
    "\n",
    "abcd = ['a', 'b', 'c', 'd'] \n",
    "for ch in abcd:\n",
    "    print(ch)"
   ]
  },
  {
   "cell_type": "code",
   "execution_count": 10,
   "id": "43a23c8e",
   "metadata": {},
   "outputs": [
    {
     "name": "stdout",
     "output_type": "stream",
     "text": [
      "a\n",
      "b\n",
      "c\n",
      "d\n"
     ]
    }
   ],
   "source": [
    "# while loop\n",
    "\n",
    "i = 0\n",
    "while i < len(abcd):\n",
    "    print(abcd[i])\n",
    "    i += 1"
   ]
  },
  {
   "cell_type": "markdown",
   "id": "448b6bbc",
   "metadata": {},
   "source": [
    "### 반복문 제어\n",
    "- 되도록 사용하지 않는다.\n",
    "- 의도치 않은 오류를 발생시킬 수 있다.\n",
    "\n",
    "\n",
    "- break\n",
    "    - 논리적으로 반복을 종료시킬 때 사용한다.\n",
    "- else\n",
    "    - 어떤 조건이 완전히 끝났을 때 한번 더 실행한다. \n",
    "    - break가 사용되었을 때에는 실행되지 않는다. \n",
    "    - 어느 지점에서 종료되었는지 확인할 때 사용한다. \n",
    "    - for & while과 같은 들여쓰기 라인에서 사용한다.\n",
    "- continue\n",
    "    - 특정 조건을 건너뛰고 다음 반복을 실행할 때 사용한다.\n"
   ]
  },
  {
   "cell_type": "code",
   "execution_count": 20,
   "id": "245d0ee7",
   "metadata": {},
   "outputs": [
    {
     "name": "stdout",
     "output_type": "stream",
     "text": [
      "0\n",
      "1\n",
      "2\n",
      "3\n",
      "4\n",
      "5\n"
     ]
    }
   ],
   "source": [
    "i = 0\n",
    "while i < 10:\n",
    "    print(i)\n",
    "    if i == 5: break # 반복을 종료 / while문을 빠져나온다\n",
    "    i += 1"
   ]
  },
  {
   "cell_type": "code",
   "execution_count": 21,
   "id": "7bd45938",
   "metadata": {},
   "outputs": [
    {
     "name": "stdout",
     "output_type": "stream",
     "text": [
      "0\n",
      "1\n",
      "2\n",
      "3\n",
      "4\n"
     ]
    }
   ],
   "source": [
    "for i in range(10):\n",
    "    if i == 5: break\n",
    "    print(i) # break와 print의 순서에 따라 결과가 달라짐"
   ]
  },
  {
   "cell_type": "code",
   "execution_count": 22,
   "id": "82f06529",
   "metadata": {},
   "outputs": [
    {
     "name": "stdout",
     "output_type": "stream",
     "text": [
      "0\n",
      "1\n",
      "2\n",
      "3\n"
     ]
    }
   ],
   "source": [
    "i = 0\n",
    "while i < 5:\n",
    "    print(i)\n",
    "    if i == 3: break\n",
    "    i += 1\n",
    "else: # break가 사용되면 else를 실행하지 않는다\n",
    "    print('ended')"
   ]
  },
  {
   "cell_type": "code",
   "execution_count": 17,
   "id": "81668623",
   "metadata": {},
   "outputs": [
    {
     "name": "stdout",
     "output_type": "stream",
     "text": [
      "0\n",
      "1\n",
      "2\n",
      "ended\n"
     ]
    }
   ],
   "source": [
    "for i in range(3):\n",
    "    if i == 5: break\n",
    "    print(i)\n",
    "else:\n",
    "    print('ended') # for loop이 완전히 종료되었을 때 실행된다"
   ]
  },
  {
   "cell_type": "code",
   "execution_count": 23,
   "id": "7b3133bd",
   "metadata": {},
   "outputs": [
    {
     "name": "stdout",
     "output_type": "stream",
     "text": [
      "0\n",
      "1\n",
      "2\n",
      "4\n",
      "ended\n"
     ]
    }
   ],
   "source": [
    "for i in range(5):\n",
    "    if i == 3: continue  # 3은 출력되지 않는다 / 특정 조건을 건너뛰고 다음 반복을 실행한다\n",
    "    print(i)\n",
    "else:\n",
    "    print('ended') "
   ]
  },
  {
   "cell_type": "markdown",
   "id": "4e7b5b78",
   "metadata": {},
   "source": [
    "### 구구단 Quiz\n",
    "- 변수 n, m은 입력을 받아서 사용한다.\n",
    "- 메뉴\n",
    "    1. n단 출력\n",
    "    2. 1단부터 n단 출력\n",
    "    3. n단부터 m단 출력"
   ]
  },
  {
   "cell_type": "code",
   "execution_count": 27,
   "id": "9ddcf868",
   "metadata": {},
   "outputs": [
    {
     "name": "stdout",
     "output_type": "stream",
     "text": [
      "구구단 출력 프로그램입니다.\n",
      "=======메뉴======= \n",
      "[1] n단 출력 \n",
      "[2] 1단부터 n단 출력 \n",
      "[3] n단부터 m단 출력 \n",
      "[4] 프로그램 종료\n",
      "사용을 원하시는 메뉴의 숫자를 입력해주세요: 4\n",
      "프로그램을 종료합니다.\n"
     ]
    }
   ],
   "source": [
    "print('구구단 출력 프로그램입니다.') # 프로그램에 대한 간단한 설명\n",
    "\n",
    "while True: # 프로그램이 종료되기 전까지 while loop를 통해 계속하여 반복한다.\n",
    "    print('''=======메뉴======= \n",
    "[1] n단 출력 \n",
    "[2] 1단부터 n단 출력 \n",
    "[3] n단부터 m단 출력 \n",
    "[4] 프로그램 종료''') # 메뉴에서 4번을 선택하면 프로그램이 종료되도록 한다.\n",
    "    menu = int(input('사용을 원하시는 메뉴의 숫자를 입력해주세요: ')) \n",
    "\n",
    "    if menu == 1: # n단을 출력하는 경우\n",
    "        n = int(input('몇단을 출력하시겠습니까?: '))\n",
    "        if n < 1 or n > 9: # 사용자가 입력한 n이 1부터 9사이의 숫자가 아닐때 \n",
    "            print('1부터 9사이의 정수만 입력해주세요.')\n",
    "            print()\n",
    "            continue\n",
    "        \n",
    "        print(f'====={n}단=====')\n",
    "        for i in range(1, 10):\n",
    "            print(f'{n} * {i} = {n * i}')\n",
    "        print()\n",
    "    \n",
    "    elif menu == 2: # 1단부터 n단까지 출력하는 경우\n",
    "        n = int(input('1단부터 몇단까지 출력하시겠습니까?: '))\n",
    "        if n < 1 or n > 9:\n",
    "            print('1부터 9사이의 정수만 입력해주세요.')\n",
    "            print()\n",
    "            continue\n",
    "        \n",
    "        for i in range(1, n + 1):\n",
    "            print(f'====={i}단=====')\n",
    "            for j in range(1, 10):\n",
    "                print(f'{i} * {j} = {i * j}')\n",
    "        print()\n",
    "        \n",
    "    elif menu == 3: # n단부터 m단까지 출력하는 경우\n",
    "        n, m = map(int, input('몇단부터 몇단까지 출력하시겠습니까? (정수 두개를 한칸 띄어서 입력해주세요): ').split()) # n과 m을 띄어쓰기로 구분하여 받는다\n",
    "        if (n < 1 or n > 9) or (m < 1 or m > 9): # n이나 m 둘중 하나라도 1부터 9사이의 숫자가 아닌 경우\n",
    "            print('1부터 9사이의 정수만 입력해주세요.')\n",
    "            print()\n",
    "            continue\n",
    "            \n",
    "        if n < m: # n이 m보다 작은 경우\n",
    "            for i in range(n, m + 1): # n단부터 m단을 출력한다\n",
    "                print(f'====={i}단=====')\n",
    "                for j in range(1, 10):\n",
    "                    print(f'{i} * {j} = {i * j}')\n",
    "            print()\n",
    "        \n",
    "        elif n > m: # n이 m보다 큰 경우\n",
    "            for i in range(m, n + 1): # m단부터 n단을 출력한다\n",
    "                print(f'====={i}단=====')\n",
    "                for j in range(1, 10):\n",
    "                    print(f'{i} * {j} = {i * j}')\n",
    "            print()\n",
    "            \n",
    "        else:\n",
    "            print(f'====={n}단=====')\n",
    "            for i in range(1, 10):\n",
    "                print(f'{n} * {i} = {n * i}')\n",
    "            print()\n",
    "    \n",
    "    elif menu == 4: # 프로그램을 종료하는 경우\n",
    "        print('프로그램을 종료합니다.')\n",
    "        break # break를 통해 while 반복을 종료한다\n",
    "    \n",
    "    else: # 사용자가 메뉴에 1부터 4사이의 숫자를 입력하지 않은 경우\n",
    "        print('입력하신 메뉴의 숫자가 올바르지 않습니다.')\n",
    "        print()\n",
    "        continue"
   ]
  },
  {
   "cell_type": "markdown",
   "id": "e6df26a1",
   "metadata": {},
   "source": [
    "### NLTK book\n"
   ]
  },
  {
   "cell_type": "code",
   "execution_count": 29,
   "id": "35f777d2",
   "metadata": {},
   "outputs": [
    {
     "name": "stdout",
     "output_type": "stream",
     "text": [
      "*** Introductory Examples for the NLTK Book ***\n",
      "Loading text1, ..., text9 and sent1, ..., sent9\n",
      "Type the name of the text or sentence to view it.\n",
      "Type: 'texts()' or 'sents()' to list the materials.\n",
      "text1: Moby Dick by Herman Melville 1851\n",
      "text2: Sense and Sensibility by Jane Austen 1811\n",
      "text3: The Book of Genesis\n",
      "text4: Inaugural Address Corpus\n",
      "text5: Chat Corpus\n",
      "text6: Monty Python and the Holy Grail\n",
      "text7: Wall Street Journal\n",
      "text8: Personals Corpus\n",
      "text9: The Man Who Was Thursday by G . K . Chesterton 1908\n"
     ]
    },
    {
     "data": {
      "text/plain": [
       "True"
      ]
     },
     "execution_count": 29,
     "metadata": {},
     "output_type": "execute_result"
    }
   ],
   "source": [
    "import nltk\n",
    "from nltk.book import *\n",
    "nltk.download('book', quiet=True)"
   ]
  },
  {
   "cell_type": "code",
   "execution_count": 30,
   "id": "472af463",
   "metadata": {},
   "outputs": [
    {
     "data": {
      "text/plain": [
       "[<Text: Moby Dick by Herman Melville 1851>,\n",
       " <Text: Sense and Sensibility by Jane Austen 1811>,\n",
       " <Text: The Book of Genesis>,\n",
       " <Text: Inaugural Address Corpus>,\n",
       " <Text: Chat Corpus>,\n",
       " <Text: Monty Python and the Holy Grail>,\n",
       " <Text: Wall Street Journal>,\n",
       " <Text: Personals Corpus>,\n",
       " <Text: The Man Who Was Thursday by G . K . Chesterton 1908>]"
      ]
     },
     "execution_count": 30,
     "metadata": {},
     "output_type": "execute_result"
    }
   ],
   "source": [
    "# for loop을 사용하여 text1부터 text9를 리스트로 불러오는 방법\n",
    "# text1 ~ text9를 string으로 가져오기 -> f'text{i}'\n",
    "# string에서 기능이 있는 것으로 바꿔주기 -> getattr(nltk.book, f'text{i}')\n",
    "# cf. getattr(library, 'string_name')\n",
    "\n",
    "texts = [getattr(nltk.book, f'text{i}') for i in range(1, 10)]\n",
    "texts"
   ]
  },
  {
   "cell_type": "markdown",
   "id": "b49affcf",
   "metadata": {},
   "source": [
    "### NLTK corpus\n",
    "- 코퍼스 + 테마\n",
    "\n",
    "\n",
    "- 종류\n",
    "    - brown\n",
    "    - gutenberg # 저작권 만료된 문학작품들을 모아놓은 코퍼스\n",
    "    - inaugural\n",
    "    \n",
    "    \n",
    "- methods\n",
    "    - words(fileid) # 단어 리스트 / nltk의 tokens와 같음\n",
    "    - sents(fileid) # 문장 리스트\n",
    "    - raw(fileid) # 글자 리스트\n",
    "    - fileids()"
   ]
  },
  {
   "cell_type": "code",
   "execution_count": 31,
   "id": "61ac14e7",
   "metadata": {},
   "outputs": [
    {
     "name": "stderr",
     "output_type": "stream",
     "text": [
      "[nltk_data] Downloading package brown to /Users/yong/nltk_data...\n",
      "[nltk_data]   Package brown is already up-to-date!\n",
      "[nltk_data] Downloading package gutenberg to /Users/yong/nltk_data...\n",
      "[nltk_data]   Package gutenberg is already up-to-date!\n",
      "[nltk_data] Downloading package inaugural to /Users/yong/nltk_data...\n",
      "[nltk_data]   Package inaugural is already up-to-date!\n"
     ]
    },
    {
     "data": {
      "text/plain": [
       "True"
      ]
     },
     "execution_count": 31,
     "metadata": {},
     "output_type": "execute_result"
    }
   ],
   "source": [
    "from nltk.corpus import gutenberg\n",
    "nltk.download(['brown', 'gutenberg', 'inaugural'])"
   ]
  },
  {
   "cell_type": "code",
   "execution_count": 32,
   "id": "bf2d4f5a",
   "metadata": {},
   "outputs": [
    {
     "data": {
      "text/plain": [
       "<PlaintextCorpusReader in '/Users/yong/nltk_data/corpora/gutenberg'>"
      ]
     },
     "execution_count": 32,
     "metadata": {},
     "output_type": "execute_result"
    }
   ],
   "source": [
    "gutenberg # nltk.corpus.gutenberg와 같다"
   ]
  },
  {
   "cell_type": "code",
   "execution_count": 34,
   "id": "3709ffe9",
   "metadata": {},
   "outputs": [
    {
     "data": {
      "text/plain": [
       "['austen-emma.txt',\n",
       " 'austen-persuasion.txt',\n",
       " 'austen-sense.txt',\n",
       " 'bible-kjv.txt',\n",
       " 'blake-poems.txt',\n",
       " 'bryant-stories.txt',\n",
       " 'burgess-busterbrown.txt',\n",
       " 'carroll-alice.txt',\n",
       " 'chesterton-ball.txt',\n",
       " 'chesterton-brown.txt',\n",
       " 'chesterton-thursday.txt',\n",
       " 'edgeworth-parents.txt',\n",
       " 'melville-moby_dick.txt',\n",
       " 'milton-paradise.txt',\n",
       " 'shakespeare-caesar.txt',\n",
       " 'shakespeare-hamlet.txt',\n",
       " 'shakespeare-macbeth.txt',\n",
       " 'whitman-leaves.txt']"
      ]
     },
     "execution_count": 34,
     "metadata": {},
     "output_type": "execute_result"
    }
   ],
   "source": [
    "gutenberg.fileids() # gutenberg에 있는 txt 파일들의 리스트"
   ]
  },
  {
   "cell_type": "code",
   "execution_count": 35,
   "id": "54c5c872",
   "metadata": {},
   "outputs": [
    {
     "data": {
      "text/plain": [
       "['[', 'Emma', 'by', 'Jane', 'Austen', '1816', ']', ...]"
      ]
     },
     "execution_count": 35,
     "metadata": {},
     "output_type": "execute_result"
    }
   ],
   "source": [
    "gutenberg.words(fileids='austen-emma.txt') # 하나의 파일에서 word 가져오기\n",
    "gutenberg.words(fileids=['austen-emma.txt', 'bible-kjv.txt']) # 여러개의 파일에서 word 가져오기"
   ]
  },
  {
   "cell_type": "code",
   "execution_count": 36,
   "id": "35e72e17",
   "metadata": {},
   "outputs": [
    {
     "name": "stdout",
     "output_type": "stream",
     "text": [
      "austen-emma: 글자수 887071개, 단어수 192427개, 문장수 7752개\n",
      "austen-persuasion: 글자수 466292개, 단어수 98171개, 문장수 3747개\n",
      "austen-sense: 글자수 673022개, 단어수 141576개, 문장수 4999개\n",
      "bible-kjv: 글자수 4332554개, 단어수 1010654개, 문장수 30103개\n",
      "blake-poems: 글자수 38153개, 단어수 8354개, 문장수 438개\n",
      "bryant-stories: 글자수 249439개, 단어수 55563개, 문장수 2863개\n",
      "burgess-busterbrown: 글자수 84663개, 단어수 18963개, 문장수 1054개\n",
      "carroll-alice: 글자수 144395개, 단어수 34110개, 문장수 1703개\n",
      "chesterton-ball: 글자수 457450개, 단어수 96996개, 문장수 4779개\n",
      "chesterton-brown: 글자수 406629개, 단어수 86063개, 문장수 3806개\n",
      "chesterton-thursday: 글자수 320525개, 단어수 69213개, 문장수 3742개\n",
      "edgeworth-parents: 글자수 935158개, 단어수 210663개, 문장수 10230개\n",
      "melville-moby_dick: 글자수 1242990개, 단어수 260819개, 문장수 10059개\n",
      "milton-paradise: 글자수 468220개, 단어수 96825개, 문장수 1851개\n",
      "shakespeare-caesar: 글자수 112310개, 단어수 25833개, 문장수 2163개\n",
      "shakespeare-hamlet: 글자수 162881개, 단어수 37360개, 문장수 3106개\n",
      "shakespeare-macbeth: 글자수 100351개, 단어수 23140개, 문장수 1907개\n",
      "whitman-leaves: 글자수 711215개, 단어수 154883개, 문장수 4250개\n"
     ]
    }
   ],
   "source": [
    "# 각 파일마다 word, character, sentence 개수 출력하기\n",
    "\n",
    "for txt in gutenberg.fileids():\n",
    "    words = gutenberg.words(txt) # 단어 리스트\n",
    "    sents = gutenberg.sents(txt) # 문장 리스트\n",
    "    char = gutenberg.raw(txt) # 글자 리스트\n",
    "    \n",
    "    # txt[:-4] -> 파일명 뒤에 .txt 제거\n",
    "    print(f'{txt[:-4]}: 글자수 {len(char)}개, 단어수 {len(words)}개, 문장수 {len(sents)}개' )"
   ]
  },
  {
   "cell_type": "markdown",
   "id": "84eb1a88",
   "metadata": {},
   "source": [
    "### Gutenberg\n",
    "1. shakespeare-caesar의 중복된 단어는 제거하고 각 단어의 길이를 출력하기\n",
    "2. chesterton-thursday에서 길이가 4자 이하인 알파벳 중 ie를 포함하는 단어를 소문자로 출력하고 개수를 세기\n",
    "3. bryant-stories에서 ch로 끝나는 단어를 중복 없이 첫글자와 끝 ch만 남기고 가운데 글자들은 모두 -로 가리고 소문자로 출력하기"
   ]
  },
  {
   "cell_type": "code",
   "execution_count": 37,
   "id": "d281fa2d",
   "metadata": {
    "scrolled": true
   },
   "outputs": [
    {
     "name": "stdout",
     "output_type": "stream",
     "text": [
      "[5, 8, 3, 4, 3, 6, 6, 9, 4, 1, 3, 6, 10, 10, 6, 1, 4, 4, 4, 7, 6, 9, 10, 8, 4, 6, 6, 8, 5, 4, 6, 7, 8, 4, 3, 7, 5, 5, 4, 7, 5, 6, 4, 6, 5, 4, 4, 6, 4, 7, 7, 6, 5, 8, 5, 9, 5, 4, 9, 5, 4, 11, 5, 7, 6, 6, 8, 3, 5, 5, 8, 6, 4, 7, 4, 7, 4, 6, 6, 4, 4, 6, 4, 4, 6, 6, 10, 3, 4, 10, 8, 4, 5, 6, 7, 5, 6, 5, 6, 6, 15, 7, 8, 3, 6, 7, 10, 5, 4, 4, 6, 5, 6, 8, 7, 8, 6, 7, 9, 4, 7, 5, 3, 4, 7, 9, 4, 6, 8, 7, 6, 5, 4, 5, 6, 8, 3, 6, 6, 6, 7, 7, 5, 5, 3, 4, 4, 5, 3, 1, 4, 5, 10, 5, 10, 5, 7, 7, 10, 8, 8, 8, 5, 11, 7, 6, 3, 5, 5, 6, 9, 5, 5, 10, 9, 10, 9, 13, 5, 3, 5, 5, 9, 7, 7, 6, 6, 9, 6, 3, 6, 6, 6, 4, 4, 7, 6, 12, 7, 5, 4, 9, 5, 5, 5, 7, 6, 4, 4, 5, 9, 6, 4, 4, 6, 7, 4, 1, 4, 6, 7, 3, 11, 5, 3, 6, 8, 5, 3, 5, 7, 6, 7, 9, 7, 6, 8, 6, 5, 4, 7, 7, 4, 5, 7, 8, 7, 4, 2, 9, 6, 4, 7, 5, 7, 4, 5, 5, 6, 4, 3, 9, 4, 6, 7, 6, 7, 5, 6, 9, 5, 9, 5, 4, 4, 1, 4, 4, 4, 5, 3, 1, 4, 5, 5, 4, 5, 3, 7, 6, 5, 6, 5, 7, 7, 8, 5, 10, 5, 5, 5, 7, 3, 3, 11, 7, 11, 6, 6, 7, 9, 7, 9, 5, 6, 5, 8, 3, 4, 8, 5, 5, 11, 4, 10, 5, 4, 10, 7, 7, 5, 4, 6, 6, 12, 4, 8, 6, 11, 4, 3, 5, 9, 5, 6, 3, 8, 6, 4, 6, 6, 4, 7, 6, 7, 9, 7, 4, 1, 4, 7, 5, 5, 6, 8, 6, 7, 3, 4, 8, 5, 5, 6, 4, 5, 4, 3, 3, 7, 5, 4, 6, 4, 6, 5, 13, 5, 7, 3, 7, 5, 7, 5, 6, 6, 5, 8, 5, 6, 7, 9, 5, 4, 6, 3, 3, 4, 6, 6, 7, 10, 8, 6, 5, 5, 3, 7, 4, 7, 2, 3, 7, 4, 8, 7, 4, 5, 9, 5, 6, 10, 7, 9, 6, 3, 2, 6, 7, 6, 8, 6, 6, 5, 11, 4, 7, 3, 4, 9, 6, 2, 5, 3, 7, 6, 7, 9, 5, 7, 6, 9, 4, 4, 7, 3, 4, 3, 8, 2, 6, 5, 4, 3, 8, 4, 9, 6, 9, 4, 2, 4, 8, 4, 6, 3, 5, 7, 6, 3, 5, 6, 8, 8, 6, 6, 5, 5, 4, 5, 7, 4, 7, 9, 5, 9, 6, 7, 5, 7, 6, 6, 5, 9, 3, 7, 7, 5, 5, 1, 6, 6, 7, 7, 7, 5, 7, 10, 8, 7, 3, 6, 3, 5, 10, 5, 6, 7, 8, 5, 3, 7, 5, 6, 3, 6, 4, 9, 4, 8, 6, 5, 5, 10, 7, 4, 5, 6, 4, 10, 5, 8, 7, 5, 7, 5, 5, 7, 6, 5, 4, 5, 7, 7, 6, 6, 8, 7, 11, 3, 6, 4, 8, 4, 8, 9, 8, 6, 5, 7, 6, 9, 6, 7, 9, 5, 6, 5, 7, 9, 4, 6, 8, 7, 6, 6, 4, 4, 8, 8, 7, 5, 9, 5, 5, 8, 7, 5, 5, 8, 11, 6, 3, 5, 6, 6, 11, 5, 4, 6, 5, 5, 4, 9, 5, 7, 6, 10, 9, 7, 6, 4, 9, 5, 8, 6, 4, 4, 3, 6, 8, 7, 5, 5, 4, 6, 6, 6, 4, 6, 4, 5, 7, 6, 7, 6, 4, 9, 4, 5, 7, 7, 6, 8, 9, 6, 6, 10, 7, 7, 4, 8, 6, 3, 7, 5, 3, 6, 5, 6, 5, 6, 4, 8, 4, 4, 6, 5, 7, 7, 7, 6, 4, 4, 8, 7, 3, 6, 4, 8, 8, 4, 5, 13, 5, 3, 7, 6, 7, 4, 4, 7, 7, 4, 3, 4, 4, 5, 4, 5, 7, 7, 7, 6, 5, 8, 8, 7, 9, 11, 8, 5, 2, 6, 7, 8, 1, 4, 4, 9, 5, 4, 6, 8, 4, 5, 7, 9, 8, 2, 7, 2, 2, 3, 4, 11, 5, 7, 7, 7, 5, 5, 6, 4, 9, 6, 5, 6, 7, 7, 3, 5, 7, 9, 4, 8, 3, 5, 4, 6, 5, 7, 8, 3, 7, 5, 12, 5, 9, 4, 5, 7, 4, 6, 8, 6, 5, 5, 7, 4, 6, 9, 4, 3, 6, 6, 4, 6, 6, 7, 6, 4, 6, 4, 9, 8, 5, 10, 6, 9, 4, 2, 1, 8, 3, 5, 5, 5, 3, 6, 4, 8, 6, 4, 3, 6, 4, 9, 7, 6, 4, 4, 6, 6, 4, 6, 6, 6, 5, 5, 5, 3, 7, 8, 5, 3, 5, 6, 7, 6, 4, 6, 7, 9, 3, 5, 4, 9, 9, 5, 9, 6, 6, 6, 2, 3, 9, 6, 8, 8, 5, 7, 5, 4, 6, 8, 7, 4, 4, 4, 5, 6, 5, 4, 9, 5, 7, 5, 4, 4, 6, 7, 10, 4, 4, 5, 6, 8, 6, 4, 5, 6, 6, 6, 2, 8, 5, 5, 5, 8, 6, 5, 6, 6, 6, 8, 10, 6, 9, 7, 2, 4, 5, 5, 6, 7, 9, 6, 8, 8, 2, 5, 3, 5, 6, 5, 6, 4, 4, 4, 6, 7, 6, 5, 4, 5, 5, 5, 7, 7, 4, 9, 3, 7, 5, 3, 5, 7, 6, 3, 4, 4, 6, 7, 9, 5, 5, 9, 6, 3, 6, 4, 6, 5, 6, 7, 5, 4, 6, 5, 6, 3, 5, 5, 7, 8, 4, 8, 7, 6, 5, 5, 9, 5, 4, 7, 4, 4, 11, 6, 3, 6, 8, 6, 7, 4, 3, 7, 3, 6, 5, 6, 7, 6, 6, 7, 6, 6, 5, 6, 7, 5, 9, 9, 5, 3, 8, 5, 7, 4, 7, 3, 5, 4, 3, 5, 6, 6, 6, 6, 7, 2, 3, 6, 5, 6, 10, 3, 4, 4, 4, 9, 3, 5, 5, 4, 2, 5, 6, 11, 5, 5, 7, 6, 6, 6, 4, 7, 7, 9, 5, 7, 4, 6, 7, 4, 4, 4, 5, 6, 8, 2, 9, 7, 3, 4, 5, 5, 6, 7, 9, 8, 7, 3, 7, 8, 6, 8, 6, 3, 5, 5, 4, 6, 6, 5, 8, 7, 10, 7, 4, 4, 5, 4, 7, 10, 3, 5, 8, 7, 5, 9, 6, 8, 8, 6, 7, 5, 5, 6, 7, 4, 1, 4, 10, 6, 3, 7, 6, 4, 8, 11, 6, 6, 7, 10, 7, 4, 4, 3, 7, 6, 4, 5, 6, 7, 3, 4, 8, 5, 6, 8, 7, 5, 8, 4, 6, 8, 3, 7, 4, 6, 4, 5, 9, 7, 5, 5, 5, 4, 6, 9, 7, 6, 7, 4, 4, 4, 9, 6, 7, 6, 6, 6, 7, 9, 5, 5, 4, 7, 9, 5, 2, 6, 5, 6, 4, 7, 6, 5, 4, 10, 5, 2, 6, 4, 8, 5, 4, 3, 9, 6, 5, 5, 5, 3, 8, 6, 5, 12, 10, 5, 4, 8, 7, 4, 5, 4, 5, 7, 5, 10, 6, 5, 8, 8, 5, 6, 7, 9, 4, 7, 6, 6, 8, 10, 7, 3, 7, 6, 5, 5, 3, 5, 6, 8, 9, 7, 8, 9, 4, 3, 6, 5, 6, 5, 2, 6, 6, 9, 7, 4, 6, 12, 7, 3, 5, 5, 5, 11, 2, 5, 6, 8, 6, 5, 6, 7, 6, 3, 8, 8, 7, 4, 4, 11, 9, 4, 6, 8, 5, 10, 6, 7, 5, 4, 6, 6, 5, 5, 5, 6, 7, 7, 11, 7, 6, 8, 8, 8, 7, 6, 8, 6, 9, 6, 5, 6, 4, 7, 4, 5, 6, 10, 7, 3, 8, 5, 5, 6, 13, 8, 5, 8, 2, 6, 6, 4, 3, 5, 4, 5, 5, 12, 9, 5, 8, 5, 4, 4, 5, 8, 5, 7, 6, 5, 1, 6, 4, 6, 5, 6, 9, 1, 6, 10, 8, 5, 3, 6, 8, 7, 7, 5, 6, 6, 9, 8, 5, 5, 5, 4, 4, 6, 4, 8, 8, 7, 6, 5, 8, 4, 7, 3, 5, 5, 5, 5, 7, 8, 7, 5, 4, 5, 4, 7, 6, 8, 11, 8, 4, 4, 3, 5, 6, 4, 8, 6, 6, 9, 7, 3, 4, 5, 5, 9, 4, 5, 3, 6, 1, 9, 4, 4, 6, 7, 6, 7, 9, 6, 6, 5, 5, 4, 3, 8, 7, 6, 4, 5, 5, 5, 6, 5, 2, 5, 9, 4, 5, 8, 4, 3, 4, 7, 5, 5, 9, 7, 5, 7, 5, 7, 4, 10, 11, 5, 7, 10, 8, 5, 4, 4, 5, 5, 5, 1, 1, 7, 5, 9, 5, 5, 5, 8, 6, 4, 7, 5, 6, 2, 6, 4, 6, 7, 2, 8, 5, 5, 10, 10, 6, 8, 6, 5, 9, 6, 6, 7, 3, 12, 4, 5, 3, 7, 7, 7, 5, 7, 8, 3, 7, 8, 6, 6, 7, 8, 7, 5, 6, 8, 5, 4, 5, 6, 7, 6, 11, 1, 6, 7, 3, 6, 8, 11, 6, 3, 10, 7, 5, 10, 5, 5, 3, 3, 8, 8, 6, 4, 5, 6, 6, 5, 6, 3, 8, 4, 5, 7, 8, 3, 5, 5, 6, 8, 4, 6, 6, 5, 2, 5, 6, 7, 4, 5, 3, 5, 7, 6, 6, 12, 9, 4, 6, 6, 9, 4, 6, 4, 4, 7, 7, 7, 2, 5, 9, 6, 6, 2, 8, 5, 5, 9, 9, 6, 4, 6, 4, 6, 6, 4, 11, 5, 3, 3, 7, 5, 1, 6, 5, 8, 5, 8, 7, 7, 7, 3, 6, 8, 5, 7, 5, 5, 6, 4, 3, 3, 5, 5, 6, 5, 7, 9, 5, 6, 4, 7, 5, 3, 4, 5, 3, 5, 6, 6, 9, 2, 6, 5, 13, 7, 8, 5, 4, 7, 3, 8, 4, 6, 6, 9, 3, 6, 6, 5, 4, 6, 11, 6, 7, 4, 7, 6, 4, 5, 6, 4, 7, 7, 8, 5, 7, 6, 6, 9, 6, 7, 5, 7, 7, 5, 5, 8, 7, 4, 7, 10, 5, 7, 10, 7, 7, 3, 7, 11, 4, 7, 5, 3, 8, 6, 4, 7, 5, 3, 6, 5, 9, 4, 8, 9, 8, 6, 7, 8, 6, 6, 8, 10, 5, 7, 4, 6, 7, 6, 2, 3, 4, 6, 3, 5, 5, 5, 6, 10, 7, 5, 5, 5, 7, 5, 5, 4, 6, 8, 5, 5, 10, 6, 5, 7, 8, 3, 6, 3, 4, 9, 4, 5, 4, 6, 11, 9, 2, 3, 3, 5, 6, 8, 2, 7, 6, 1, 6, 5, 7, 6, 4, 5, 5, 5, 4, 5, 6, 6, 6, 5, 5, 4, 4, 5, 7, 7, 4, 7, 2, 2, 5, 7, 6, 6, 5, 5, 4, 7, 3, 3, 5, 5, 5, 6, 6, 3, 6, 5, 5, 5, 6, 7, 8, 6, 5, 2, 5, 7, 7, 6, 5, 4, 6, 6, 4, 5, 9, 5, 7, 6, 6, 7, 5, 6, 4, 7, 7, 8, 9, 5, 5, 6, 8, 5, 5, 4, 6, 1, 6, 6, 8, 10, 4, 1, 11, 6, 2, 6, 8, 5, 6, 7, 6, 4, 10, 8, 5, 4, 4, 2, 5, 4, 7, 4, 6, 9, 5, 7, 8, 4, 5, 8, 6, 3, 10, 7, 5, 5, 10, 5, 4, 4, 8, 7, 6, 5, 7, 4, 11, 4, 6, 5, 3, 4, 5, 5, 12, 5, 8, 4, 7, 8, 5, 5, 11, 4, 8, 5, 5, 8, 5, 6, 9, 5, 9, 6, 6, 4, 2, 4, 3, 4, 5, 8, 5, 4, 6, 4, 7, 7, 5, 4, 5, 8, 10, 5, 4, 6, 3, 7, 3, 4, 5, 8, 4, 4, 4, 15, 8, 9, 5, 3, 10, 4, 6, 7, 3, 6, 8, 7, 8, 7, 6, 4, 2, 5, 6, 7, 7, 4, 3, 3, 9, 3, 6, 5, 7, 1, 4, 8, 6, 6, 3, 5, 6, 5, 9, 6, 9, 3, 8, 7, 5, 7, 4, 7, 3, 5, 5, 7, 8, 3, 4, 8, 10, 5, 11, 4, 5, 8, 7, 7, 5, 8, 7, 6, 5, 4, 6, 4, 8, 5, 4, 5, 4, 5, 9, 7, 4, 7, 6, 6, 4, 9, 5, 7, 4, 8, 6, 5, 4, 6, 4, 5, 7, 5, 6, 7, 5, 6, 7, 7, 6, 5, 9, 8, 4, 5, 3, 4, 3, 4, 7, 7, 7, 6, 4, 8, 4, 11, 6, 7, 5, 6, 6, 7, 5, 5, 4, 5, 6, 7, 5, 6, 3, 8, 7, 5, 9, 6, 8, 5, 6, 4, 6, 4, 6, 8, 4, 6, 5, 9, 6, 8, 4, 3, 6, 4, 6, 4, 4, 6, 5, 6, 5, 7, 4, 2, 2, 6, 6, 7, 5, 5, 8, 7, 9, 9, 2, 6, 3, 5, 5, 7, 6, 7, 6, 6, 5, 7, 6, 4, 7, 6, 5, 7, 6, 9, 9, 5, 3, 6, 5, 8, 4, 5, 5, 1, 8, 4, 6, 6, 6, 8, 8, 6, 6, 7, 5, 5, 7, 4, 8, 5, 12, 5, 11, 8, 2, 4, 3, 5, 3, 7, 5, 5, 11, 6, 12, 4, 8, 7, 9, 5, 6, 7, 5, 6, 3, 7, 2, 7, 5, 10, 5, 10, 8, 6, 6, 3, 3, 5, 5, 5, 6, 6, 8, 5, 5, 6, 9, 8, 7, 7, 3, 9, 5, 7, 5, 4, 5, 7, 5, 9, 6, 7, 7, 4, 5, 3, 4, 6, 11, 7, 5, 4, 5, 8, 6, 7, 5, 8, 7, 3, 3, 7, 5, 4, 7, 9, 11, 8, 8, 4, 7, 7, 6, 5, 8, 6, 7, 6, 6, 9, 8, 7, 5, 6, 11, 9, 3, 8, 2, 6, 7, 4, 5, 7, 6, 6, 6, 4, 7, 5, 6, 7, 5, 3, 7, 4, 10, 4, 8, 10, 9, 5, 8, 8, 7, 7, 4, 9, 5, 8, 7, 5, 7, 9, 3, 10, 5, 5, 10, 2, 4, 6, 4, 6, 5, 7, 5, 9, 3, 5, 4, 5, 7, 5, 4, 11, 8, 8, 7, 6, 6, 5, 3, 1, 3, 5, 6, 4, 5, 5, 8, 6, 7, 6, 9, 2, 7, 5, 5, 4, 6, 6, 1, 8, 7, 6, 6, 5, 7, 7, 3, 4, 5, 5, 10, 9, 7, 9, 7, 9, 3, 2, 5, 6, 4, 4, 9, 11, 3, 5, 3, 4, 5, 6, 4, 7, 6, 3, 2, 5, 9, 8, 7, 6, 6, 6, 5, 7, 5, 9, 5, 4, 6, 3, 8, 6, 7, 8, 4, 7, 10, 7, 2, 5, 2, 4, 6, 8, 9, 6, 7, 6, 11, 4, 3, 9, 7, 4, 4, 5, 6, 7, 6, 4, 5, 7, 7, 5, 5, 6, 4, 6, 9, 9, 5, 9, 6, 5, 5, 4, 4, 7, 7, 3, 4, 8, 10, 9, 7, 5, 8, 3, 2, 5, 7, 8, 5, 7, 8, 5, 10, 6, 7, 5, 7, 4, 9, 4, 8, 7, 3, 5, 8, 8, 9, 5, 7, 7, 7, 3, 6, 10, 6, 5, 8, 6, 6, 8, 1, 4, 6, 5, 4, 8, 5, 3, 9, 4, 7, 6, 6, 7, 7, 5, 8, 7, 7, 7, 4, 11, 9, 6, 5, 2, 7, 5, 5, 5, 7, 11, 10, 4, 3, 3, 7, 8, 5, 6, 10, 7, 7, 5, 5, 6, 6, 8, 4, 4, 6, 10, 5, 9, 3, 5, 7, 5, 4, 3, 2, 5, 6, 5, 7, 6, 6, 9, 6, 4, 7, 6, 6, 6, 9, 3, 9, 10, 11, 5, 6, 6, 6, 9, 4, 10, 8, 8, 6, 6, 3, 7, 4, 6, 5, 5, 8, 6, 4, 6, 3, 5, 7, 4, 6, 2, 8, 7, 6, 2, 7, 7, 6, 6, 5, 4, 5, 9, 4, 8, 1, 6, 6, 8, 9, 4, 7, 6, 5, 4, 4, 12, 6, 8, 3, 4, 5, 6, 4, 7, 6, 5, 5, 6, 4, 7, 6, 5, 7, 5, 3, 6, 4, 9, 5, 5, 6, 4, 5, 6, 5, 4, 4, 3, 9, 4, 8, 6, 4, 7, 6, 4, 4, 7, 6, 5, 8, 5, 5, 6, 5, 5, 7, 4, 5, 6, 10, 6, 8, 5, 5, 7, 10, 7, 5, 4, 8, 2, 6, 5, 5, 5, 4, 4, 5, 11, 6, 5, 6, 10, 6, 4, 8, 8, 6, 7, 5, 7, 7, 6, 7, 5, 4, 6, 6, 3, 6, 5, 8, 7, 4, 4, 6, 7, 5, 7, 7, 5, 4, 3, 5, 2, 6, 7, 10, 3, 6, 8, 5, 9, 15, 3, 5, 2, 5, 4, 5, 3, 5, 8, 5, 5, 5, 7, 9, 6, 6, 5, 6, 7, 10, 8, 4, 5, 4, 8, 6, 10, 8, 8, 3, 3, 9, 7, 7, 6, 8, 10, 4, 8, 2, 3, 5, 4, 5, 7, 5, 6, 5, 6, 6, 5, 9, 8, 4, 5, 6, 5, 6, 6, 5, 5, 4, 5, 5, 5, 9, 3, 6, 13, 7, 4, 6, 6, 5, 8, 7, 4, 6, 5, 2, 4, 5, 5, 4, 3, 5, 3, 7, 10, 4, 5, 5, 4, 3, 10, 3, 5, 5, 6, 8, 8, 6, 5, 4, 4, 6, 5, 10, 3, 9, 9, 6, 3, 6, 3, 4, 8, 7, 4, 8, 11, 6, 6, 8, 3, 4, 5, 7, 5, 4, 7, 8, 6, 6, 4, 10, 3, 6, 6, 5, 6, 9, 5, 4, 6, 6, 4, 3, 4, 3, 4, 10, 6, 6, 4, 3, 3, 6, 4, 9, 4, 7, 6, 4, 5, 5, 5, 6, 7, 5, 5, 1, 6, 7, 6, 6, 6, 8, 7, 5, 9, 6, 4, 3, 7, 6, 7, 7, 4, 5, 5, 4, 8, 7, 5, 4, 5, 2, 8, 9, 6, 4, 8, 9, 8, 7, 5, 6, 5, 8, 4, 4, 3, 10, 6, 7, 5, 5, 5, 6, 6, 7, 7, 3, 5, 5, 5, 4, 8, 7, 6, 7, 5, 5, 10, 3, 7, 7, 5, 4, 7, 10, 4, 7, 6, 2, 7, 10, 9, 7, 4, 4, 4, 10, 5, 5, 9, 5, 6, 5, 5, 4, 5, 5, 4, 8, 13, 9, 6, 6, 6, 8, 8, 4, 3, 5, 6, 10, 5, 7, 5, 4, 7, 1, 5, 2, 8, 8, 7, 8, 5, 8, 7, 6, 4, 5, 3, 4, 9, 7, 5, 3, 7, 4, 9, 10, 4, 6, 8, 3, 3, 2, 4, 8, 6, 7, 5, 5, 6, 7, 2, 9, 6, 5, 5, 6, 5, 6, 6, 9, 5, 4, 11, 6, 8, 4, 5, 5, 6, 6, 7, 1, 4, 8, 4, 5, 7, 6, 7, 5, 6, 5, 7, 4, 6, 9, 4, 3, 6, 6, 5, 8, 7, 5, 8, 5, 4, 7, 7, 7, 7, 6, 9, 11, 3, 7, 5, 7, 5, 10, 4, 5, 7, 9, 8, 7, 7, 8, 5, 6, 5, 7, 10, 11, 8, 5, 3, 6, 6, 4, 7, 6, 7, 6, 8, 3, 11, 7, 8, 7, 7, 4, 5, 5, 7, 5, 9, 5, 10, 3, 4, 6, 6, 4, 4, 3, 6, 12, 9, 5, 4, 4, 6, 5, 5, 6, 8, 6, 6, 6, 4, 1, 4, 5, 5, 6, 7, 6, 4, 5, 6, 8, 5, 7, 4, 8, 7, 8, 6, 6, 6, 5, 10, 4, 6, 7, 6, 5, 8, 6, 11, 4, 5, 5, 5, 4, 13, 8, 9, 5, 5, 6, 7, 7, 8, 3, 8, 3, 6, 3, 7, 6, 6, 5, 7, 4, 8, 6, 6, 5, 11, 7, 4, 6, 7, 9, 5, 6, 5, 5, 6, 5, 10, 4, 4, 8, 7, 5, 8, 5, 4, 8, 6, 6, 6, 6, 5, 3, 3, 7, 4, 6, 5, 8, 7, 4, 8, 4, 9, 3, 8, 5, 4, 11, 7, 7, 7, 6, 4, 6, 6, 7, 4, 6, 6, 5, 9, 9, 8, 8, 5, 6, 7, 5, 2, 5, 3, 4, 5, 7, 10, 6, 2, 9, 5, 9, 6, 10, 3, 5, 3, 3, 5, 7, 4, 5, 6, 8, 8, 9, 4, 8, 7, 6, 4, 8, 5, 10, 5, 6, 6, 4, 6, 4, 11, 6, 5, 5, 6, 6, 5, 4, 5, 4, 5, 4, 6, 5, 6, 9, 4, 5, 5, 5, 7, 6, 3, 10, 2, 8, 5, 6, 3, 6, 9, 3, 8, 6, 4, 3, 8, 8, 5, 3, 5, 5, 8, 6, 8, 7, 6, 5, 6, 7, 5, 5, 5, 9, 11, 5, 5, 4, 3, 4, 6, 6, 5, 4, 7, 6, 10, 7, 2, 9, 5, 8, 5, 8, 6, 4, 9, 5, 7, 10, 8, 7, 6, 4, 11, 5, 3, 6, 8, 5, 5, 4, 7, 6, 6, 8, 4, 5]\n"
     ]
    }
   ],
   "source": [
    "#1\n",
    "\n",
    "# 중복된 단어를 제거하기 위해 set 사용\n",
    "print([len(word) for word in set(gutenberg.words('shakespeare-caesar.txt'))])"
   ]
  },
  {
   "cell_type": "code",
   "execution_count": 38,
   "id": "0e9df895",
   "metadata": {
    "scrolled": true
   },
   "outputs": [
    {
     "name": "stdout",
     "output_type": "stream",
     "text": [
      "['foie', 'died', 'pier', 'died', 'lies', 'died', 'lie', 'tie', 'tie', 'die', 'tied', 'pie', 'die', 'die', 'die', 'die', 'died', 'died', 'die', 'die', 'die', 'erie', 'view', 'die', 'pier', 'dies', 'die', 'pier', 'pier', 'die', 'pier', 'tied', 'die', 'view', 'tie', 'lie', 'lie'] 37\n"
     ]
    }
   ],
   "source": [
    "#2\n",
    "\n",
    "words = [word.lower() for word in gutenberg.words('chesterton-thursday.txt') if len(word) <= 4 and 'ie' in word]\n",
    "print(words, len(words))"
   ]
  },
  {
   "cell_type": "code",
   "execution_count": 39,
   "id": "b21faec5",
   "metadata": {
    "scrolled": true
   },
   "outputs": [
    {
     "data": {
      "text/plain": [
       "['t--ch',\n",
       " 'f---ch',\n",
       " 's----ch',\n",
       " 'a-ch',\n",
       " 'e-ch',\n",
       " 'w--ch',\n",
       " 'p--ch',\n",
       " 'l--ch',\n",
       " 'r--ch',\n",
       " 's---ch',\n",
       " 'p--ch',\n",
       " 'b---ch',\n",
       " 'p--ch',\n",
       " 'b--ch',\n",
       " 'm-ch',\n",
       " 't--ch',\n",
       " 's-ch',\n",
       " 's----ch',\n",
       " 's----ch',\n",
       " 'c--ch',\n",
       " 'w--ch',\n",
       " 'c--ch',\n",
       " 'r-ch',\n",
       " 'f--ch',\n",
       " 'p--ch',\n",
       " 's-ch',\n",
       " 's----ch',\n",
       " 't---ch',\n",
       " 'c---ch',\n",
       " 'b--ch',\n",
       " 't--ch',\n",
       " 'e-ch',\n",
       " 's---ch',\n",
       " 'p--ch',\n",
       " 'b--ch']"
      ]
     },
     "execution_count": 39,
     "metadata": {},
     "output_type": "execute_result"
    }
   ],
   "source": [
    "#3\n",
    "\n",
    "# 단어의 처음과 마지막 두글자 사이의 글자를 -> word[1:-2]\n",
    "# 사이의 글자 수만큼 -로 대체한다 -> '-' * len(word[1:-2])\n",
    "# replace(word[1:-2], '-' * len(word[1:-2]))\n",
    "\n",
    "[word.lower().replace(word[1:-2], '-' * len(word[1:-2])) for word in set(gutenberg.words('bryant-stories.txt')) if word.endswith('ch')]"
   ]
  },
  {
   "cell_type": "markdown",
   "id": "c54161cf",
   "metadata": {},
   "source": [
    "### Brown\n",
    "- categories()"
   ]
  },
  {
   "cell_type": "code",
   "execution_count": 40,
   "id": "5aa81ceb",
   "metadata": {},
   "outputs": [],
   "source": [
    "brown = nltk.corpus.brown"
   ]
  },
  {
   "cell_type": "code",
   "execution_count": 41,
   "id": "41bbee89",
   "metadata": {},
   "outputs": [
    {
     "data": {
      "text/plain": [
       "['adventure',\n",
       " 'belles_lettres',\n",
       " 'editorial',\n",
       " 'fiction',\n",
       " 'government',\n",
       " 'hobbies',\n",
       " 'humor',\n",
       " 'learned',\n",
       " 'lore',\n",
       " 'mystery',\n",
       " 'news',\n",
       " 'religion',\n",
       " 'reviews',\n",
       " 'romance',\n",
       " 'science_fiction']"
      ]
     },
     "execution_count": 41,
     "metadata": {},
     "output_type": "execute_result"
    }
   ],
   "source": [
    "brown.categories() # brown에 있는 카테고리 리스트"
   ]
  },
  {
   "cell_type": "code",
   "execution_count": 42,
   "id": "88c2234a",
   "metadata": {},
   "outputs": [],
   "source": [
    "fdist = nltk.FreqDist([word.lower() for word in brown.words(categories='adventure')])\n",
    "# 카테고리가 adventure인 단어들의 FreqDist"
   ]
  },
  {
   "cell_type": "code",
   "execution_count": 43,
   "id": "3e91dfea",
   "metadata": {},
   "outputs": [
    {
     "data": {
      "text/plain": [
       "83"
      ]
     },
     "execution_count": 43,
     "metadata": {},
     "output_type": "execute_result"
    }
   ],
   "source": [
    "fdist['men'] # 카테고리가 adventure인 단어들 중 men의 빈도수"
   ]
  },
  {
   "cell_type": "code",
   "execution_count": 44,
   "id": "dc9617f9",
   "metadata": {},
   "outputs": [
    {
     "name": "stdout",
     "output_type": "stream",
     "text": [
      "can 48\n",
      "could 154\n",
      "will 51\n",
      "would 194\n",
      "may 7\n",
      "might 59\n"
     ]
    }
   ],
   "source": [
    "# modal verbs 조동사\n",
    "modals = ['can', 'could', 'will', 'would', 'may', 'might']\n",
    "\n",
    "for verb in modals:\n",
    "    print(verb, fdist[verb]) # 카테고리가 adventure인 단어들 중 각 조동사들의 빈도수"
   ]
  },
  {
   "cell_type": "markdown",
   "id": "e27e27bf",
   "metadata": {},
   "source": [
    "### Conditional Frequency Distribution\n",
    "- 조건에 따른 fdist"
   ]
  },
  {
   "cell_type": "code",
   "execution_count": 45,
   "id": "2694de53",
   "metadata": {},
   "outputs": [],
   "source": [
    "cfd = nltk.ConditionalFreqDist(\n",
    "    # 각 장르에 따른 frequency distribution을 만든다\n",
    "    (genre, word)\n",
    "    for genre in brown.categories() # genre는 brown의 카테고리들\n",
    "    for word in brown.words(categories=genre) # word는 genre에 해당하는 카테고리의 단어들 \n",
    ")"
   ]
  },
  {
   "cell_type": "code",
   "execution_count": 46,
   "id": "015b1536",
   "metadata": {},
   "outputs": [
    {
     "data": {
      "text/plain": [
       "FreqDist({',': 3899, '.': 3736, 'the': 2758, 'and': 1776, 'to': 1502, 'a': 1335, 'of': 1186, '``': 1045, \"''\": 1044, 'was': 993, ...})"
      ]
     },
     "execution_count": 46,
     "metadata": {},
     "output_type": "execute_result"
    }
   ],
   "source": [
    "cfd['romance'] # 카테고리가 (장르가) 로맨스인 단어들의 cfd"
   ]
  },
  {
   "cell_type": "code",
   "execution_count": 47,
   "id": "e1b09457",
   "metadata": {},
   "outputs": [
    {
     "data": {
      "text/plain": [
       "[(',', 3899),\n",
       " ('.', 3736),\n",
       " ('the', 2758),\n",
       " ('and', 1776),\n",
       " ('to', 1502),\n",
       " ('a', 1335),\n",
       " ('of', 1186),\n",
       " ('``', 1045),\n",
       " (\"''\", 1044),\n",
       " ('was', 993)]"
      ]
     },
     "execution_count": 47,
     "metadata": {},
     "output_type": "execute_result"
    }
   ],
   "source": [
    "cfd['romance'].most_common(10) # 카테고리가 로맨스인 단어들 중 가장 빈도수가 높은 단어 10개"
   ]
  },
  {
   "cell_type": "code",
   "execution_count": 50,
   "id": "ed534fed",
   "metadata": {},
   "outputs": [
    {
     "data": {
      "text/plain": [
       "32"
      ]
     },
     "execution_count": 50,
     "metadata": {},
     "output_type": "execute_result"
    }
   ],
   "source": [
    "cfd['romance']['love'] # 카테고리가 로맨스인 단어들 중 love의 빈도수"
   ]
  }
 ],
 "metadata": {
  "kernelspec": {
   "display_name": "Python 3 (ipykernel)",
   "language": "python",
   "name": "python3"
  },
  "language_info": {
   "codemirror_mode": {
    "name": "ipython",
    "version": 3
   },
   "file_extension": ".py",
   "mimetype": "text/x-python",
   "name": "python",
   "nbconvert_exporter": "python",
   "pygments_lexer": "ipython3",
   "version": "3.9.7"
  }
 },
 "nbformat": 4,
 "nbformat_minor": 5
}
